{
 "cells": [
  {
   "cell_type": "code",
   "execution_count": 2,
   "metadata": {},
   "outputs": [],
   "source": [
    "import numpy as np"
   ]
  },
  {
   "cell_type": "code",
   "execution_count": 32,
   "metadata": {},
   "outputs": [
    {
     "data": {
      "text/plain": [
       "array([ 4,  4, 25, 18])"
      ]
     },
     "execution_count": 32,
     "metadata": {},
     "output_type": "execute_result"
    }
   ],
   "source": [
    "x1 = np.array([1,2,5,6])\n",
    "\n",
    "x2 = np.array([4,2,5,3])\n",
    "\n",
    "x1 * x2"
   ]
  },
  {
   "cell_type": "code",
   "execution_count": 48,
   "metadata": {},
   "outputs": [
    {
     "data": {
      "text/plain": [
       "(array([[ 3,  4, 10, 13, 11],\n",
       "        [ 4,  6, 13, 17, 16]]),\n",
       " array([[ 3,  5,  7,  9, 11],\n",
       "        [ 5,  8, 11, 14, 17]]))"
      ]
     },
     "execution_count": 48,
     "metadata": {},
     "output_type": "execute_result"
    }
   ],
   "source": [
    "y1 = np.array([\n",
    "    [2,4,6,8,10],\n",
    "    [3,6,9,12,15]\n",
    "])\n",
    "\n",
    "\n",
    "y2 = np.array([\n",
    "    [1,0,4,5,1]\n",
    "])\n",
    "\n",
    "y3 = np.array([\n",
    "    [1],\n",
    "    [2]\n",
    "])\n",
    "\n",
    "y1 + y2 , y1 + y3"
   ]
  },
  {
   "cell_type": "code",
   "execution_count": 3,
   "metadata": {},
   "outputs": [
    {
     "data": {
      "text/plain": [
       "(2, 3, 4)"
      ]
     },
     "execution_count": 3,
     "metadata": {},
     "output_type": "execute_result"
    }
   ],
   "source": [
    "z1 = np.array([\n",
    "    [\n",
    "        [2,1,5,3],\n",
    "        [1,2,3,5],\n",
    "        [9,5,0,3]\n",
    "    ],\n",
    "    [\n",
    "        [2,-1,3,3],\n",
    "        [1,5,3,2],\n",
    "        [4,3,0,5]\n",
    "    ]\n",
    "])\n",
    "\n",
    "\n",
    "\n",
    "z1.shape"
   ]
  },
  {
   "cell_type": "code",
   "execution_count": 47,
   "metadata": {},
   "outputs": [],
   "source": [
    "# create a 3d array, then create all different possibly shaped arrays that can perform any operation with them"
   ]
  }
 ],
 "metadata": {
  "kernelspec": {
   "display_name": "Python 3",
   "language": "python",
   "name": "python3"
  },
  "language_info": {
   "codemirror_mode": {
    "name": "ipython",
    "version": 3
   },
   "file_extension": ".py",
   "mimetype": "text/x-python",
   "name": "python",
   "nbconvert_exporter": "python",
   "pygments_lexer": "ipython3",
   "version": "3.10.8"
  }
 },
 "nbformat": 4,
 "nbformat_minor": 2
}
