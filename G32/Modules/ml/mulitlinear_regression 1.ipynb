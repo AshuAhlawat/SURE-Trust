{
 "cells": [
  {
   "cell_type": "code",
   "execution_count": 39,
   "metadata": {},
   "outputs": [],
   "source": [
    "import pandas as pd\n",
    "import numpy as np\n",
    "import matplotlib.pyplot as plt"
   ]
  },
  {
   "cell_type": "code",
   "execution_count": 58,
   "metadata": {},
   "outputs": [
    {
     "data": {
      "text/html": [
       "<div>\n",
       "<style scoped>\n",
       "    .dataframe tbody tr th:only-of-type {\n",
       "        vertical-align: middle;\n",
       "    }\n",
       "\n",
       "    .dataframe tbody tr th {\n",
       "        vertical-align: top;\n",
       "    }\n",
       "\n",
       "    .dataframe thead th {\n",
       "        text-align: right;\n",
       "    }\n",
       "</style>\n",
       "<table border=\"1\" class=\"dataframe\">\n",
       "  <thead>\n",
       "    <tr style=\"text-align: right;\">\n",
       "      <th></th>\n",
       "      <th>price</th>\n",
       "      <th>grade</th>\n",
       "    </tr>\n",
       "  </thead>\n",
       "  <tbody>\n",
       "    <tr>\n",
       "      <th>count</th>\n",
       "      <td>2.161300e+04</td>\n",
       "      <td>2.161300e+04</td>\n",
       "    </tr>\n",
       "    <tr>\n",
       "      <th>mean</th>\n",
       "      <td>-3.419074e-17</td>\n",
       "      <td>1.788439e-16</td>\n",
       "    </tr>\n",
       "    <tr>\n",
       "      <th>std</th>\n",
       "      <td>1.000000e+00</td>\n",
       "      <td>1.000000e+00</td>\n",
       "    </tr>\n",
       "    <tr>\n",
       "      <th>min</th>\n",
       "      <td>-1.266831e+00</td>\n",
       "      <td>-5.663213e+00</td>\n",
       "    </tr>\n",
       "    <tr>\n",
       "      <th>25%</th>\n",
       "      <td>-5.941759e-01</td>\n",
       "      <td>-5.588228e-01</td>\n",
       "    </tr>\n",
       "    <tr>\n",
       "      <th>50%</th>\n",
       "      <td>-2.453867e-01</td>\n",
       "      <td>-5.588228e-01</td>\n",
       "    </tr>\n",
       "    <tr>\n",
       "      <th>75%</th>\n",
       "      <td>2.857643e-01</td>\n",
       "      <td>2.919089e-01</td>\n",
       "    </tr>\n",
       "    <tr>\n",
       "      <th>max</th>\n",
       "      <td>1.950254e+01</td>\n",
       "      <td>4.545567e+00</td>\n",
       "    </tr>\n",
       "  </tbody>\n",
       "</table>\n",
       "</div>"
      ],
      "text/plain": [
       "              price         grade\n",
       "count  2.161300e+04  2.161300e+04\n",
       "mean  -3.419074e-17  1.788439e-16\n",
       "std    1.000000e+00  1.000000e+00\n",
       "min   -1.266831e+00 -5.663213e+00\n",
       "25%   -5.941759e-01 -5.588228e-01\n",
       "50%   -2.453867e-01 -5.588228e-01\n",
       "75%    2.857643e-01  2.919089e-01\n",
       "max    1.950254e+01  4.545567e+00"
      ]
     },
     "execution_count": 58,
     "metadata": {},
     "output_type": "execute_result"
    }
   ],
   "source": [
    "df = pd.read_csv(\"./kc_house_data.csv\")\n",
    "n = len(df)\n",
    "\n",
    "\n",
    "inputs = df.drop([\"id\",\"date\",\"zipcode\",\"lat\",\"long\",\"sqft_living15\",\"sqft_lot15\"], axis = 1)\n",
    "targets = inputs[[\"price\",\"grade\"]]\n",
    "inputs = inputs.drop([\"price\",\"grade\"],axis= 1)\n",
    "\n",
    "org_mean, org_std = targets.mean(), targets.std()\n",
    "\n",
    "targets = targets - targets.mean()\n",
    "targets = targets/targets.std()\n",
    "\n",
    "targets.describe()"
   ]
  },
  {
   "cell_type": "code",
   "execution_count": 41,
   "metadata": {},
   "outputs": [],
   "source": [
    "x = df[[\"sqft_living\",\"sqft_lot\"]]\n",
    "\n",
    "df[[\"sqft_living\",\"sqft_lot\"]] = (x - x.mean())/x.std()"
   ]
  },
  {
   "cell_type": "code",
   "execution_count": 42,
   "metadata": {},
   "outputs": [
    {
     "data": {
      "text/plain": [
       "(array([[-0.51185609,  0.80708424, -1.35968991,  0.24218136,  1.41858455,\n",
       "         -0.88940556,  0.07235937,  0.26260845,  1.59832187,  1.28536716,\n",
       "          0.23251452, -0.54048444],\n",
       "        [-0.67853869, -0.592315  ,  1.24572789,  1.39933659, -0.90939679,\n",
       "         -0.24746915,  1.27026634,  0.98147171,  0.53504453, -1.02053384,\n",
       "         -1.49963495, -0.72712989]]),\n",
       " array([[0.04092295, 0.40576686]]))"
      ]
     },
     "execution_count": 42,
     "metadata": {},
     "output_type": "execute_result"
    }
   ],
   "source": [
    "weights = np.random.normal(size= (2,12))\n",
    "bias = np.random.normal(size= (1,2))\n",
    "\n",
    "weights, bias"
   ]
  },
  {
   "cell_type": "code",
   "execution_count": 59,
   "metadata": {},
   "outputs": [],
   "source": [
    "\n",
    "def predict(df, weights, bias):\n",
    "    pred = np.dot(df, weights.T) + bias\n",
    "\n",
    "    predictions_df = pd.DataFrame(predictions, columns=[\"price\", \"grade\"])\n",
    "\n",
    "    return predictions_df\n",
    "\n",
    "\n",
    "def mean_squared_error(predictions_df, targets):\n",
    "    se_df = (predictions_df - targets)**2\n",
    "\n",
    "    mse = se_df.mean()\n",
    "    \n",
    "    return mse"
   ]
  },
  {
   "cell_type": "code",
   "execution_count": 82,
   "metadata": {},
   "outputs": [
    {
     "data": {
      "text/plain": [
       "array([[-5.94954659e+01, -4.36131586e+02, -1.16800634e+06,\n",
       "        -6.53062001e+06,  3.65566724e+02, -2.27351132e+01,\n",
       "        -5.36783185e+02,  9.90933929e+02, -4.31368706e+05,\n",
       "        -7.36637632e+05,  6.13947813e+05, -2.16512294e+05],\n",
       "       [-4.15250415e+04, -2.67553683e+04, -2.71214064e+07,\n",
       "        -2.01515624e+08, -1.86279135e+04, -1.01485787e+02,\n",
       "        -3.11925223e+03, -4.04511492e+04, -2.36663374e+07,\n",
       "        -3.45506900e+06, -2.35742232e+07, -6.82839274e+05]])"
      ]
     },
     "execution_count": 82,
     "metadata": {},
     "output_type": "execute_result"
    }
   ],
   "source": [
    "def w_gradient(inputs, targets, predictions):\n",
    "    grads = np.zeros((2,12))\n",
    "    \n",
    "    \n",
    "    for i,y in enumerate(targets.columns):\n",
    "        for j,X in enumerate(inputs.columns):\n",
    "        \n",
    "            grad = (-2*( (targets - predictions)[y] )*inputs[X]).mean()\n",
    "            grads[i,j] = grad\n",
    "            \n",
    "    return grads\n",
    "\n",
    "w_gradient(inputs, targets, predictions)\n",
    "\n",
    "\n",
    "def b_gradient():\n",
    "    grad = np.zeros((1,2))\n",
    "    \n",
    "    \n",
    "    \n",
    "    return grad"
   ]
  },
  {
   "cell_type": "code",
   "execution_count": 69,
   "metadata": {},
   "outputs": [
    {
     "data": {
      "text/plain": [
       "0       -1290.926326\n",
       "1        3163.401617\n",
       "2       -1591.114398\n",
       "3        1632.127278\n",
       "4       -1860.179291\n",
       "            ...     \n",
       "21608   -2696.186740\n",
       "21609   -1158.114657\n",
       "21610   -1109.926352\n",
       "21611   -2538.532225\n",
       "21612   -1109.235967\n",
       "Length: 21613, dtype: float64"
      ]
     },
     "execution_count": 69,
     "metadata": {},
     "output_type": "execute_result"
    }
   ],
   "source": []
  }
 ],
 "metadata": {
  "kernelspec": {
   "display_name": "Python 3",
   "language": "python",
   "name": "python3"
  },
  "language_info": {
   "codemirror_mode": {
    "name": "ipython",
    "version": 3
   },
   "file_extension": ".py",
   "mimetype": "text/x-python",
   "name": "python",
   "nbconvert_exporter": "python",
   "pygments_lexer": "ipython3",
   "version": "3.10.8"
  }
 },
 "nbformat": 4,
 "nbformat_minor": 2
}
