{
 "cells": [
  {
   "cell_type": "code",
   "execution_count": null,
   "metadata": {},
   "outputs": [],
   "source": [
    "import pandas as pd"
   ]
  },
  {
   "cell_type": "code",
   "execution_count": 78,
   "metadata": {},
   "outputs": [
    {
     "name": "stdout",
     "output_type": "stream",
     "text": [
      "<class 'pandas.core.frame.DataFrame'>\n",
      "Int64Index: 480 entries, 0 to 479\n",
      "Data columns (total 11 columns):\n",
      " #   Column                     Non-Null Count  Dtype \n",
      "---  ------                     --------------  ----- \n",
      " 0   Country                    480 non-null    object\n",
      " 1   Port Name                  480 non-null    object\n",
      " 2   UN Code                    468 non-null    object\n",
      " 3   Vessels in Port            480 non-null    int64 \n",
      " 4   Departures(Last 24 Hours)  480 non-null    int64 \n",
      " 5   Arrivals(Last 24 Hours)    480 non-null    int64 \n",
      " 6   Expected Arrivals          480 non-null    int64 \n",
      " 7   Type                       480 non-null    object\n",
      " 8   Area Local                 480 non-null    object\n",
      " 9   Area Global                480 non-null    object\n",
      " 10  Also known as              262 non-null    object\n",
      "dtypes: int64(4), object(7)\n",
      "memory usage: 45.0+ KB\n"
     ]
    }
   ],
   "source": [
    "port_df = pd.read_csv(\"Port_Data.csv\", index_col=\"Index\", na_values=[\"['-']\", \"Unknown\"])\n",
    "\n",
    "# port_df[\"Port\"] = port_df[\"Port Name\"]\n",
    "# port_df.drop(\"Port Name\", axis = 1 ,inplace = True)\n",
    "\n",
    "# port_df.to_csv(\"Port_Data_new.csv\", index=False)\n",
    "port_df.info()"
   ]
  },
  {
   "cell_type": "code",
   "execution_count": 84,
   "metadata": {},
   "outputs": [
    {
     "name": "stdout",
     "output_type": "stream",
     "text": [
      "<class 'pandas.core.frame.DataFrame'>\n",
      "Int64Index: 368 entries, 0 to 479\n",
      "Data columns (total 11 columns):\n",
      " #   Column                     Non-Null Count  Dtype \n",
      "---  ------                     --------------  ----- \n",
      " 0   Country                    368 non-null    object\n",
      " 1   Port Name                  368 non-null    object\n",
      " 2   UN Code                    358 non-null    object\n",
      " 3   Vessels in Port            368 non-null    int64 \n",
      " 4   Departures(Last 24 Hours)  368 non-null    int64 \n",
      " 5   Arrivals(Last 24 Hours)    368 non-null    int64 \n",
      " 6   Expected Arrivals          368 non-null    int64 \n",
      " 7   Type                       368 non-null    object\n",
      " 8   Area Local                 368 non-null    object\n",
      " 9   Area Global                368 non-null    object\n",
      " 10  Also known as              212 non-null    object\n",
      "dtypes: int64(4), object(7)\n",
      "memory usage: 34.5+ KB\n"
     ]
    }
   ],
   "source": [
    "# hv_port_df = port_df[port_df[\"Vessels in Port\"] > port_df[\"Vessels in Port\"].mean()]\n",
    "\n",
    "# get port names where departures are greater than arrivals\n",
    "port_df[(port_df[\"Departures(Last 24 Hours)\"] < port_df[\"Arrivals(Last 24 Hours)\"]) | (port_df[\"Vessels in Port\"] > 100)].info()\n"
   ]
  },
  {
   "cell_type": "code",
   "execution_count": 85,
   "metadata": {},
   "outputs": [
    {
     "name": "stdout",
     "output_type": "stream",
     "text": [
      "<class 'pandas.core.frame.DataFrame'>\n",
      "Int64Index: 138 entries, 0 to 192\n",
      "Data columns (total 11 columns):\n",
      " #   Column                     Non-Null Count  Dtype \n",
      "---  ------                     --------------  ----- \n",
      " 0   Country                    138 non-null    object\n",
      " 1   Port Name                  138 non-null    object\n",
      " 2   UN Code                    133 non-null    object\n",
      " 3   Vessels in Port            138 non-null    int64 \n",
      " 4   Departures(Last 24 Hours)  138 non-null    int64 \n",
      " 5   Arrivals(Last 24 Hours)    138 non-null    int64 \n",
      " 6   Expected Arrivals          138 non-null    int64 \n",
      " 7   Type                       138 non-null    object\n",
      " 8   Area Local                 138 non-null    object\n",
      " 9   Area Global                138 non-null    object\n",
      " 10  Also known as              90 non-null     object\n",
      "dtypes: int64(4), object(7)\n",
      "memory usage: 12.9+ KB\n"
     ]
    }
   ],
   "source": [
    "port_df[(port_df[\"Departures(Last 24 Hours)\"] < port_df[\"Arrivals(Last 24 Hours)\"]) & (port_df[\"Vessels in Port\"] > 100)].info()"
   ]
  },
  {
   "cell_type": "code",
   "execution_count": 90,
   "metadata": {},
   "outputs": [],
   "source": [
    "# port_df[port_df[\"Also known as\"].notnull()]\n",
    "port_df.dropna(subset=[\"UN Code\", \"Also known as\"], inplace = True)"
   ]
  },
  {
   "cell_type": "code",
   "execution_count": 91,
   "metadata": {},
   "outputs": [
    {
     "name": "stdout",
     "output_type": "stream",
     "text": [
      "<class 'pandas.core.frame.DataFrame'>\n",
      "Int64Index: 257 entries, 0 to 476\n",
      "Data columns (total 11 columns):\n",
      " #   Column                     Non-Null Count  Dtype \n",
      "---  ------                     --------------  ----- \n",
      " 0   Country                    257 non-null    object\n",
      " 1   Port Name                  257 non-null    object\n",
      " 2   UN Code                    257 non-null    object\n",
      " 3   Vessels in Port            257 non-null    int64 \n",
      " 4   Departures(Last 24 Hours)  257 non-null    int64 \n",
      " 5   Arrivals(Last 24 Hours)    257 non-null    int64 \n",
      " 6   Expected Arrivals          257 non-null    int64 \n",
      " 7   Type                       257 non-null    object\n",
      " 8   Area Local                 257 non-null    object\n",
      " 9   Area Global                257 non-null    object\n",
      " 10  Also known as              257 non-null    object\n",
      "dtypes: int64(4), object(7)\n",
      "memory usage: 24.1+ KB\n"
     ]
    }
   ],
   "source": [
    "port_df.info()"
   ]
  },
  {
   "cell_type": "code",
   "execution_count": null,
   "metadata": {},
   "outputs": [],
   "source": [
    "port_df.tail(3)"
   ]
  },
  {
   "cell_type": "code",
   "execution_count": null,
   "metadata": {},
   "outputs": [],
   "source": [
    "port_df.info()"
   ]
  },
  {
   "cell_type": "code",
   "execution_count": null,
   "metadata": {},
   "outputs": [],
   "source": [
    "port_df[[\"Port Name\", \"Vessels in Port\"]].iloc[10:20]"
   ]
  },
  {
   "cell_type": "code",
   "execution_count": null,
   "metadata": {},
   "outputs": [],
   "source": [
    "# if the country name is china and the type is anchorage\n",
    "\n",
    "# if arrivals are greater than the departures by a 100\n",
    "\n",
    "# create an array where all null value rows are deleted, and create another array where the null values column is deleted\n",
    "\n",
    "# if the vessles in port and greater than a 1000 or the depatures are greater than 200\n",
    "\n",
    "# where expected arrivals are higher than acutal arrivals, print out the middle 10 rows with just 3 columns\n",
    "\n",
    "# print out the median / mode value for Expected arrivals"
   ]
  }
 ],
 "metadata": {
  "kernelspec": {
   "display_name": "Python 3",
   "language": "python",
   "name": "python3"
  },
  "language_info": {
   "codemirror_mode": {
    "name": "ipython",
    "version": 3
   },
   "file_extension": ".py",
   "mimetype": "text/x-python",
   "name": "python",
   "nbconvert_exporter": "python",
   "pygments_lexer": "ipython3",
   "version": "3.10.8"
  }
 },
 "nbformat": 4,
 "nbformat_minor": 2
}
