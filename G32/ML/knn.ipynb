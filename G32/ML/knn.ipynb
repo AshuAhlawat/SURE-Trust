{
 "cells": [
  {
   "cell_type": "code",
   "execution_count": 37,
   "metadata": {},
   "outputs": [],
   "source": [
    "import numpy as np\n",
    "import pandas as pd"
   ]
  },
  {
   "cell_type": "code",
   "execution_count": 38,
   "metadata": {},
   "outputs": [],
   "source": [
    "df = pd.read_csv(\"./WineQT.csv\")\n",
    "df.drop([\"Id\"], axis= 1, inplace=  True)"
   ]
  },
  {
   "cell_type": "code",
   "execution_count": 39,
   "metadata": {},
   "outputs": [
    {
     "data": {
      "text/plain": [
       "Below Average    522\n",
       "Average          462\n",
       "Above Average    159\n",
       "Name: quality, dtype: int64"
      ]
     },
     "execution_count": 39,
     "metadata": {},
     "output_type": "execute_result"
    }
   ],
   "source": [
    "df[\"quality\"] = df[\"quality\"].astype(str)\n",
    "\n",
    "df[\"quality\"] = df[\"quality\"].str.replace(\"3\", \"Below Average\")\n",
    "df[\"quality\"] = df[\"quality\"].str.replace(\"4\", \"Below Average\")\n",
    "df[\"quality\"] = df[\"quality\"].str.replace(\"5\", \"Below Average\")\n",
    "\n",
    "df[\"quality\"] = df[\"quality\"].str.replace(\"6\", \"Average\")\n",
    "\n",
    "df[\"quality\"] = df[\"quality\"].str.replace(\"7\", \"Above Average\")\n",
    "df[\"quality\"] = df[\"quality\"].str.replace(\"8\", \"Above Average\")\n",
    "\n",
    "df[\"quality\"].value_counts()"
   ]
  },
  {
   "cell_type": "code",
   "execution_count": 40,
   "metadata": {},
   "outputs": [],
   "source": [
    "def e_distance(feature, sample):\n",
    "    number = sum((feature - sample)**2)\n",
    "    number = number**(1/2)\n",
    "    \n",
    "    return number"
   ]
  },
  {
   "cell_type": "code",
   "execution_count": 41,
   "metadata": {},
   "outputs": [],
   "source": [
    "sample_1 = [7.9,0.35,0.46,3.6,0.078,15.0,37.0,0.9973,3.35,0.86,12.8] # good sample\n",
    "sample_2 = [9.9,0.5,0.24,2.3,0.10300000000000001,6.0,14.0,0.9978,3.34,0.52,10.0] # bad sample\n",
    "sample_3 = [11.2,0.66,0.24,2.5,0.085,16.0,53.0,0.9993,3.06,0.72,11.0] # average sample"
   ]
  },
  {
   "cell_type": "code",
   "execution_count": null,
   "metadata": {},
   "outputs": [],
   "source": [
    "def predict(df, sample, k = 3):\n",
    "    \n",
    "    # iterate over the rows of the dataframe\n",
    "        # calculate the eucledian distance for each row to the sample\n",
    "    \n",
    "    # find the k least distances, and then which label they have\n",
    "    \n",
    "    # just return the majority label"
   ]
  }
 ],
 "metadata": {
  "kernelspec": {
   "display_name": "Python 3",
   "language": "python",
   "name": "python3"
  },
  "language_info": {
   "codemirror_mode": {
    "name": "ipython",
    "version": 3
   },
   "file_extension": ".py",
   "mimetype": "text/x-python",
   "name": "python",
   "nbconvert_exporter": "python",
   "pygments_lexer": "ipython3",
   "version": "3.10.8"
  }
 },
 "nbformat": 4,
 "nbformat_minor": 2
}
