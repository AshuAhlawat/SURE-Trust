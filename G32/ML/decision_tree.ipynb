{
 "cells": [
  {
   "cell_type": "code",
   "execution_count": 1,
   "metadata": {},
   "outputs": [],
   "source": [
    "import pandas as pd\n",
    "import numpy as np\n",
    "from sklearn.tree import DecisionTreeClassifier"
   ]
  },
  {
   "cell_type": "code",
   "execution_count": 80,
   "metadata": {},
   "outputs": [],
   "source": [
    "df = pd.read_csv(\"./weather.csv\")\n",
    "\n",
    "df.drop([\"Formatted Date\",\"Apparent Temperature (C)\", \"Daily Summary\", \"Loud Cover\"], axis=1, inplace=True)\n",
    "\n",
    "features = pd.get_dummies(df.drop(\"Summary\", axis=1))\n",
    "targets = df[[\"Summary\"]]"
   ]
  },
  {
   "cell_type": "code",
   "execution_count": 81,
   "metadata": {},
   "outputs": [
    {
     "data": {
      "text/plain": [
       "Index(['Temperature (C)', 'Humidity', 'Wind Speed (km/h)',\n",
       "       'Wind Bearing (degrees)', 'Visibility (km)', 'Pressure (millibars)',\n",
       "       'Precip Type_rain', 'Precip Type_snow'],\n",
       "      dtype='object')"
      ]
     },
     "execution_count": 81,
     "metadata": {},
     "output_type": "execute_result"
    }
   ],
   "source": [
    "features.columns"
   ]
  },
  {
   "cell_type": "code",
   "execution_count": 102,
   "metadata": {},
   "outputs": [
    {
     "data": {
      "text/plain": [
       "(array([0.16337711, 0.13349128, 0.16580229, 0.13965576, 0.21814866,\n",
       "        0.17534558, 0.00253564, 0.00164369]),\n",
       " 42,\n",
       " 30457)"
      ]
     },
     "execution_count": 102,
     "metadata": {},
     "output_type": "execute_result"
    }
   ],
   "source": [
    "weather_tree = DecisionTreeClassifier()\n",
    "weather_tree = weather_tree.fit(features,targets)\n",
    "weather_tree.feature_importances_ , weather_tree.get_depth() , weather_tree.get_n_leaves()"
   ]
  },
  {
   "cell_type": "code",
   "execution_count": 103,
   "metadata": {},
   "outputs": [
    {
     "data": {
      "text/plain": [
       "'Labels per Leaf : 3.166858193518731'"
      ]
     },
     "execution_count": 103,
     "metadata": {},
     "output_type": "execute_result"
    }
   ],
   "source": [
    "f'Labels per Leaf : {len(df) / weather_tree.get_n_leaves()}'"
   ]
  },
  {
   "cell_type": "code",
   "execution_count": 104,
   "metadata": {},
   "outputs": [
    {
     "data": {
      "text/plain": [
       "'Predictions : 96452 / 96453 , Accuracy : 99.99896322561247 %'"
      ]
     },
     "execution_count": 104,
     "metadata": {},
     "output_type": "execute_result"
    }
   ],
   "source": [
    "f'Predictions : {sum(weather_tree.predict(features) == targets[\"Summary\"])} / {len(df)} , Accuracy : {sum(weather_tree.predict(features) == targets[\"Summary\"])*100 / len(df)} %'"
   ]
  }
 ],
 "metadata": {
  "kernelspec": {
   "display_name": "Python 3",
   "language": "python",
   "name": "python3"
  },
  "language_info": {
   "codemirror_mode": {
    "name": "ipython",
    "version": 3
   },
   "file_extension": ".py",
   "mimetype": "text/x-python",
   "name": "python",
   "nbconvert_exporter": "python",
   "pygments_lexer": "ipython3",
   "version": "3.10.8"
  }
 },
 "nbformat": 4,
 "nbformat_minor": 2
}
