{
 "cells": [
  {
   "cell_type": "code",
   "execution_count": null,
   "metadata": {},
   "outputs": [],
   "source": [
    "import numpy as np\n",
    "import pandas as pd"
   ]
  },
  {
   "cell_type": "code",
   "execution_count": null,
   "metadata": {},
   "outputs": [],
   "source": [
    "features = pd.read_csv('./mushrooms.csv')\n",
    "features.info()\n",
    "\n",
    "targets = features[[\"class\"]]\n",
    "\n",
    "features.drop(\"class\", axis = 1, inplace=True)\n",
    "\n",
    "total = len(features)\n",
    "total"
   ]
  },
  {
   "cell_type": "code",
   "execution_count": null,
   "metadata": {},
   "outputs": [],
   "source": [
    "def predict(feature):\n",
    "    \n",
    "    P_total = {}\n",
    "    \n",
    "    # iterating over prediction labels (p, e)\n",
    "    for target in targets[\"class\"].unique():\n",
    "        \n",
    "        P_label_total = 1\n",
    "        P_label = sum(targets[\"class\"].str.count(target)) / total\n",
    "        \n",
    "        # iterating over columns (features)\n",
    "        for i,column in enumerate(features):\n",
    "            category = feature[i]\n",
    "            \n",
    "            P_category = sum(features[column].str.count(category)) / total\n",
    "            \n",
    "            filtered = targets[features[column] == category][\"class\"]\n",
    "            P_label_category = len(filtered[filtered == target]) / len(filtered)\n",
    "            \n",
    "            P_category_label = P_label_category * P_category / P_label\n",
    "            \n",
    "            P_label_total = P_category_label * P_label_total\n",
    "            P_total[target] = P_label_total\n",
    "            \n",
    "            # print(f\"P ({column}({category}) | label({target})) = {P_category_label}\")\n",
    "    \n",
    "    t = 0\n",
    "    for key in P_total:\n",
    "        t += P_total[key]\n",
    "        \n",
    "    for key in P_total:\n",
    "        P_total[key] = P_total[key] / t\n",
    "        \n",
    "    return P_total"
   ]
  },
  {
   "cell_type": "code",
   "execution_count": null,
   "metadata": {},
   "outputs": [],
   "source": [
    "correct = 0\n",
    "for i in range(len(features)):\n",
    "    row = features.iloc[i]\n",
    "    \n",
    "    out = predict(list(row))\n",
    "    \n",
    "    # write code here to calculate the accuracy \n",
    "    \n",
    "    \n",
    "    print(i+1 , targets.iloc[i].item(),  out)"
   ]
  }
 ],
 "metadata": {
  "kernelspec": {
   "display_name": "Python 3",
   "language": "python",
   "name": "python3"
  },
  "language_info": {
   "codemirror_mode": {
    "name": "ipython",
    "version": 3
   },
   "file_extension": ".py",
   "mimetype": "text/x-python",
   "name": "python",
   "nbconvert_exporter": "python",
   "pygments_lexer": "ipython3",
   "version": "3.10.8"
  }
 },
 "nbformat": 4,
 "nbformat_minor": 2
}
