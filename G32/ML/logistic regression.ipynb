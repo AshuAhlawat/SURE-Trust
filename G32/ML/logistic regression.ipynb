{
 "cells": [
  {
   "cell_type": "code",
   "execution_count": null,
   "metadata": {},
   "outputs": [],
   "source": [
    "import pandas as pd\n",
    "import numpy as np\n",
    "from tqdm import tqdm\n",
    "import matplotlib.pyplot as plt\n",
    "import tensorflow as tf\n",
    "from tensorflow.keras import layers\n",
    "from tensorflow.nn import softmax\n",
    "\n",
    "from tensorflow.keras.losses import categorical_crossentropy"
   ]
  },
  {
   "cell_type": "code",
   "execution_count": 127,
   "metadata": {},
   "outputs": [
    {
     "data": {
      "text/plain": [
       "Partly Cloudy                          31635\n",
       "Mostly Cloudy                          27914\n",
       "Overcast                               16516\n",
       "Clear                                  10763\n",
       "Foggy                                   7117\n",
       "Breezy and Overcast                      528\n",
       "Breezy and Mostly Cloudy                 516\n",
       "Breezy and Partly Cloudy                 386\n",
       "Dry and Partly Cloudy                     86\n",
       "Windy and Partly Cloudy                   67\n",
       "Light Rain                                63\n",
       "Breezy                                    54\n",
       "Windy and Overcast                        45\n",
       "Humid and Mostly Cloudy                   40\n",
       "Drizzle                                   39\n",
       "Breezy and Foggy                          35\n",
       "Windy and Mostly Cloudy                   35\n",
       "Dry                                       34\n",
       "Humid and Partly Cloudy                   17\n",
       "Dry and Mostly Cloudy                     14\n",
       "Rain                                      10\n",
       "Windy                                      8\n",
       "Humid and Overcast                         7\n",
       "Windy and Foggy                            4\n",
       "Windy and Dry                              1\n",
       "Dangerously Windy and Partly Cloudy        1\n",
       "Breezy and Dry                             1\n",
       "Name: Summary, dtype: int64"
      ]
     },
     "execution_count": 127,
     "metadata": {},
     "output_type": "execute_result"
    }
   ],
   "source": [
    "df = pd.read_csv(\"./weather.csv\")\n",
    "\n",
    "# deleting bad data\n",
    "df.drop([\"Daily Summary\",\"Formatted Date\",\"Loud Cover\",\"Apparent Temperature (C)\"], axis=1, inplace = True)\n",
    "df.dropna(axis=0,inplace=True)\n",
    "\n",
    "df[\"Summary\"].value_counts()\n"
   ]
  },
  {
   "cell_type": "code",
   "execution_count": null,
   "metadata": {},
   "outputs": [],
   "source": [
    "\n",
    "# making label's frequecy same, to avoid bias\n",
    "for summary,s_df in df.groupby(\"Summary\"):\n",
    "    if len(s_df)< 5000:\n",
    "        df.drop(s_df.index,axis=0,inplace=True)\n",
    "\n",
    "    elif len(s_df) > 10000:\n",
    "        x = len(s_df) - 10000\n",
    "        df.drop(s_df[:x].index,axis=0,inplace=True)\n",
    "        \n",
    "df.reset_index(inplace=True)\n",
    "\n",
    "# converting categorical data into numeric\n",
    "df[[\"rain\",\"snow\"]] = pd.get_dummies(df[\"Precip Type\"])\n",
    "df.drop([\"Precip Type\",\"index\"], axis = 1, inplace=True)\n",
    "df.info()"
   ]
  },
  {
   "cell_type": "code",
   "execution_count": 123,
   "metadata": {},
   "outputs": [
    {
     "name": "stdout",
     "output_type": "stream",
     "text": [
      "<class 'pandas.core.frame.DataFrame'>\n",
      "RangeIndex: 47117 entries, 0 to 47116\n",
      "Data columns (total 8 columns):\n",
      " #   Column                  Non-Null Count  Dtype  \n",
      "---  ------                  --------------  -----  \n",
      " 0   Temperature (C)         47117 non-null  float64\n",
      " 1   Humidity                47117 non-null  float64\n",
      " 2   Wind Speed (km/h)       47117 non-null  float64\n",
      " 3   Wind Bearing (degrees)  47117 non-null  float64\n",
      " 4   Visibility (km)         47117 non-null  float64\n",
      " 5   Pressure (millibars)    47117 non-null  float64\n",
      " 6   rain                    47117 non-null  uint8  \n",
      " 7   snow                    47117 non-null  uint8  \n",
      "dtypes: float64(6), uint8(2)\n",
      "memory usage: 2.2 MB\n"
     ]
    }
   ],
   "source": [
    "# normalization\n",
    "x = df[[\"Humidity\",\"Pressure (millibars)\", \"Temperature (C)\",\"Visibility (km)\",\"Wind Bearing (degrees)\",\"Wind Speed (km/h)\"]]\n",
    "org_mean, org_std = x.mean(), x.std()\n",
    "\n",
    "df[[\"Humidity\",\"Pressure (millibars)\", \"Temperature (C)\",\"Visibility (km)\",\"Wind Bearing (degrees)\",\"Wind Speed (km/h)\"]] = (x - org_mean)/ org_std\n",
    "\n",
    "\n",
    "targets = df[[\"Summary\"]]\n",
    "inputs = df.drop([\"Summary\"], axis= 1)\n",
    "inputs.info()"
   ]
  },
  {
   "cell_type": "code",
   "execution_count": null,
   "metadata": {},
   "outputs": [],
   "source": [
    "# one hot encoding the targets \n",
    "one_hot_targets = pd.get_dummies(targets)\n",
    "\n",
    "labels = targets[\"Summary\"].unique()\n",
    "labels.sort()\n",
    "labels"
   ]
  },
  {
   "cell_type": "code",
   "execution_count": null,
   "metadata": {},
   "outputs": [],
   "source": [
    "# converting into tensors\n",
    "inputs_tf = tf.constant(inputs)\n",
    "targets_tf = tf.cast(tf.constant(one_hot_targets), tf.float64)"
   ]
  },
  {
   "cell_type": "code",
   "execution_count": null,
   "metadata": {},
   "outputs": [],
   "source": [
    "# initializing the model\n",
    "weights = tf.Variable(tf.random.normal(shape=(8,5), dtype = tf.float64))\n",
    "bias = tf.Variable(tf.random.normal(shape=(1,5), dtype = tf.float64))"
   ]
  },
  {
   "cell_type": "code",
   "execution_count": null,
   "metadata": {},
   "outputs": [],
   "source": [
    "# main training loop\n",
    "lr = 0.01\n",
    "epochs = range(500)\n",
    "for epoch in tqdm(epochs):\n",
    "    \n",
    "    with tf.GradientTape() as tape:\n",
    "        \n",
    "        # making prediction\n",
    "        preds = tf.add(inputs_tf @ weights, bias)\n",
    "        prob = softmax(preds)\n",
    "        \n",
    "        # calculating loss\n",
    "        loss = categorical_crossentropy(targets_tf, prob)\n",
    "        mean_loss = tf.reduce_sum(loss)/ len(targets_tf)\n",
    "        \n",
    "        # print(epoch, mean_loss)\n",
    "        \n",
    "        # taking gradints\n",
    "        w_grad, b_grad = tape.gradient( mean_loss , [weights,bias] )\n",
    "        \n",
    "        \n",
    "        # updating model\n",
    "        weights = tf.Variable(weights - lr * w_grad)\n",
    "        bias = tf.Variable(bias - lr * b_grad)"
   ]
  },
  {
   "cell_type": "code",
   "execution_count": null,
   "metadata": {},
   "outputs": [],
   "source": [
    "def predict(input_):\n",
    "    pred = input_ @ weights + bias\n",
    "    prob = softmax(pred)\n",
    "\n",
    "    prob = list(prob[0])\n",
    "    \n",
    "    for label, p in zip(labels, prob):\n",
    "        print(f\"{label} : {float(p)*100:.2f}%\")\n",
    "        \n",
    "    return labels[int(tf.where(pred[0] == tf.reduce_max(pred[0]))[0,0])]\n",
    "    \n",
    "    \n",
    "predict(inputs.iloc[100]), targets.iloc[100]"
   ]
  },
  {
   "cell_type": "code",
   "execution_count": 125,
   "metadata": {},
   "outputs": [
    {
     "data": {
      "text/plain": [
       "2.018313361669085"
      ]
     },
     "execution_count": 125,
     "metadata": {},
     "output_type": "execute_result"
    }
   ],
   "source": [
    "input_ = np.array([[30, 0.5, 10, 90, 10, 1000, 1, 0]])\n",
    "\n",
    "temp = (30 - org_mean[\"Temperature (C)\"])/ org_std[\"Temperature (C)\"]\n",
    "humid = (0.5 - org_mean[\"Humidity \"])\n",
    "# predict(input_)"
   ]
  }
 ],
 "metadata": {
  "kernelspec": {
   "display_name": "Python 3",
   "language": "python",
   "name": "python3"
  },
  "language_info": {
   "codemirror_mode": {
    "name": "ipython",
    "version": 3
   },
   "file_extension": ".py",
   "mimetype": "text/x-python",
   "name": "python",
   "nbconvert_exporter": "python",
   "pygments_lexer": "ipython3",
   "version": "3.10.8"
  }
 },
 "nbformat": 4,
 "nbformat_minor": 2
}
