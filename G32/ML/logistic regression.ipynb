{
 "cells": [
  {
   "cell_type": "code",
   "execution_count": 72,
   "metadata": {},
   "outputs": [],
   "source": [
    "import pandas as pd\n",
    "import numpy as np\n",
    "from tqdm import tqdm\n",
    "import matplotlib.pyplot as plt\n",
    "import tensorflow as tf\n",
    "from tensorflow.keras import layers\n",
    "from tensorflow.nn import softmax\n",
    "from tensorflow.keras import layers\n",
    "from tensorflow.keras import Sequential\n",
    "from tensorflow.keras.optimizers import SGD\n",
    "\n",
    "from tensorflow.keras.losses import categorical_crossentropy\n",
    "from sklearn.utils import shuffle"
   ]
  },
  {
   "cell_type": "code",
   "execution_count": null,
   "metadata": {},
   "outputs": [],
   "source": [
    "# Shuffle the dataset as soon as you read the file\n",
    "# make the train and test split in the data before training\n",
    "# during training use the validation set to check accuracy\n",
    "# print the test data accuracy and loss\n",
    "# Draw loss / accuracy / confusion matrix graph"
   ]
  },
  {
   "cell_type": "code",
   "execution_count": 61,
   "metadata": {},
   "outputs": [
    {
     "data": {
      "text/plain": [
       "Partly Cloudy                          31635\n",
       "Mostly Cloudy                          27914\n",
       "Overcast                               16516\n",
       "Clear                                  10763\n",
       "Foggy                                   7117\n",
       "Breezy and Overcast                      528\n",
       "Breezy and Mostly Cloudy                 516\n",
       "Breezy and Partly Cloudy                 386\n",
       "Dry and Partly Cloudy                     86\n",
       "Windy and Partly Cloudy                   67\n",
       "Light Rain                                63\n",
       "Breezy                                    54\n",
       "Windy and Overcast                        45\n",
       "Humid and Mostly Cloudy                   40\n",
       "Drizzle                                   39\n",
       "Breezy and Foggy                          35\n",
       "Windy and Mostly Cloudy                   35\n",
       "Dry                                       34\n",
       "Humid and Partly Cloudy                   17\n",
       "Dry and Mostly Cloudy                     14\n",
       "Rain                                      10\n",
       "Windy                                      8\n",
       "Humid and Overcast                         7\n",
       "Windy and Foggy                            4\n",
       "Windy and Dry                              1\n",
       "Breezy and Dry                             1\n",
       "Dangerously Windy and Partly Cloudy        1\n",
       "Name: Summary, dtype: int64"
      ]
     },
     "execution_count": 61,
     "metadata": {},
     "output_type": "execute_result"
    }
   ],
   "source": [
    "df = pd.read_csv(\"./weather.csv\")\n",
    "df = shuffle(df)\n",
    "\n",
    "# deleting bad data\n",
    "df.drop([\"Daily Summary\",\"Formatted Date\",\"Loud Cover\",\"Apparent Temperature (C)\"], axis=1, inplace = True)\n",
    "df.dropna(axis=0,inplace=True)\n",
    "\n",
    "df[\"Summary\"].value_counts()"
   ]
  },
  {
   "cell_type": "code",
   "execution_count": 62,
   "metadata": {},
   "outputs": [
    {
     "name": "stdout",
     "output_type": "stream",
     "text": [
      "<class 'pandas.core.frame.DataFrame'>\n",
      "RangeIndex: 35000 entries, 0 to 34999\n",
      "Data columns (total 9 columns):\n",
      " #   Column                  Non-Null Count  Dtype  \n",
      "---  ------                  --------------  -----  \n",
      " 0   Summary                 35000 non-null  object \n",
      " 1   Temperature (C)         35000 non-null  float64\n",
      " 2   Humidity                35000 non-null  float64\n",
      " 3   Wind Speed (km/h)       35000 non-null  float64\n",
      " 4   Wind Bearing (degrees)  35000 non-null  int64  \n",
      " 5   Visibility (km)         35000 non-null  float64\n",
      " 6   Pressure (millibars)    35000 non-null  float64\n",
      " 7   rain                    35000 non-null  uint8  \n",
      " 8   snow                    35000 non-null  uint8  \n",
      "dtypes: float64(5), int64(1), object(1), uint8(2)\n",
      "memory usage: 1.9+ MB\n"
     ]
    }
   ],
   "source": [
    "\n",
    "# making label's frequecy same, to avoid bias\n",
    "for summary,s_df in df.groupby(\"Summary\"):\n",
    "    if len(s_df)< 5000:\n",
    "        df.drop(s_df.index,axis=0,inplace=True)\n",
    "\n",
    "    elif len(s_df) > 7000:\n",
    "        x = len(s_df) - 7000\n",
    "        df.drop(s_df[:x].index,axis=0,inplace=True)\n",
    "        \n",
    "df.reset_index(inplace=True)\n",
    "\n",
    "# converting categorical data into numeric\n",
    "df[[\"rain\",\"snow\"]] = pd.get_dummies(df[\"Precip Type\"])\n",
    "df.drop([\"Precip Type\",\"index\"], axis = 1, inplace=True)\n",
    "df.info()"
   ]
  },
  {
   "cell_type": "code",
   "execution_count": 63,
   "metadata": {},
   "outputs": [
    {
     "name": "stdout",
     "output_type": "stream",
     "text": [
      "<class 'pandas.core.frame.DataFrame'>\n",
      "RangeIndex: 35000 entries, 0 to 34999\n",
      "Data columns (total 8 columns):\n",
      " #   Column                  Non-Null Count  Dtype  \n",
      "---  ------                  --------------  -----  \n",
      " 0   Temperature (C)         35000 non-null  float64\n",
      " 1   Humidity                35000 non-null  float64\n",
      " 2   Wind Speed (km/h)       35000 non-null  float64\n",
      " 3   Wind Bearing (degrees)  35000 non-null  float64\n",
      " 4   Visibility (km)         35000 non-null  float64\n",
      " 5   Pressure (millibars)    35000 non-null  float64\n",
      " 6   rain                    35000 non-null  uint8  \n",
      " 7   snow                    35000 non-null  uint8  \n",
      "dtypes: float64(6), uint8(2)\n",
      "memory usage: 1.7 MB\n"
     ]
    }
   ],
   "source": [
    "# normalization\n",
    "x = df[[\"Humidity\",\"Pressure (millibars)\", \"Temperature (C)\",\"Visibility (km)\",\"Wind Bearing (degrees)\",\"Wind Speed (km/h)\"]]\n",
    "org_mean, org_std = x.mean(), x.std()\n",
    "\n",
    "df[[\"Humidity\",\"Pressure (millibars)\", \"Temperature (C)\",\"Visibility (km)\",\"Wind Bearing (degrees)\",\"Wind Speed (km/h)\"]] = (x - org_mean)/ org_std\n",
    "\n",
    "\n",
    "targets = df[[\"Summary\"]]\n",
    "inputs = df.drop([\"Summary\"], axis= 1)\n",
    "inputs.info()"
   ]
  },
  {
   "cell_type": "code",
   "execution_count": 64,
   "metadata": {},
   "outputs": [
    {
     "data": {
      "text/plain": [
       "array(['Clear', 'Foggy', 'Mostly Cloudy', 'Overcast', 'Partly Cloudy'],\n",
       "      dtype=object)"
      ]
     },
     "execution_count": 64,
     "metadata": {},
     "output_type": "execute_result"
    }
   ],
   "source": [
    "# one hot encoding the targets \n",
    "one_hot_targets = pd.get_dummies(targets)\n",
    "\n",
    "labels = targets[\"Summary\"].unique()\n",
    "labels.sort()\n",
    "labels"
   ]
  },
  {
   "cell_type": "code",
   "execution_count": 65,
   "metadata": {},
   "outputs": [],
   "source": [
    "train_inputs = inputs[:30000]\n",
    "train_targets = one_hot_targets[:30000]\n",
    "\n",
    "test_inputs  = inputs[30000:]\n",
    "test_targets = one_hot_targets[30000:]"
   ]
  },
  {
   "cell_type": "code",
   "execution_count": 66,
   "metadata": {},
   "outputs": [],
   "source": [
    "# converting into tensors\n",
    "inputs_tf = tf.constant(train_inputs)\n",
    "targets_tf = tf.cast(tf.constant(train_targets), tf.float64)"
   ]
  },
  {
   "cell_type": "code",
   "execution_count": 67,
   "metadata": {},
   "outputs": [],
   "source": [
    "model = Sequential([\n",
    "    layers.Dense(5),\n",
    "    layers.Softmax()\n",
    "])\n",
    "\n",
    "# model.build(input_shape=inputs_tf.shape)"
   ]
  },
  {
   "cell_type": "code",
   "execution_count": 68,
   "metadata": {},
   "outputs": [],
   "source": [
    "model.compile(\n",
    "    loss = categorical_crossentropy,\n",
    "    optimizer = SGD(learning_rate=0.001),\n",
    "    metrics = [\"accuracy\"]\n",
    ")"
   ]
  },
  {
   "cell_type": "code",
   "execution_count": 69,
   "metadata": {},
   "outputs": [
    {
     "name": "stdout",
     "output_type": "stream",
     "text": [
      "Epoch 1/100\n",
      "210/210 [==============================] - 0s 931us/step - loss: 1.6105 - accuracy: 0.2887 - val_loss: 1.7221 - val_accuracy: 0.2678\n",
      "Epoch 2/100\n",
      "210/210 [==============================] - 0s 688us/step - loss: 1.5428 - accuracy: 0.3458 - val_loss: 1.7001 - val_accuracy: 0.2810\n",
      "Epoch 3/100\n",
      "210/210 [==============================] - 0s 680us/step - loss: 1.4864 - accuracy: 0.3869 - val_loss: 1.6820 - val_accuracy: 0.2898\n",
      "Epoch 4/100\n",
      "210/210 [==============================] - 0s 647us/step - loss: 1.4392 - accuracy: 0.4150 - val_loss: 1.6672 - val_accuracy: 0.2909\n",
      "Epoch 5/100\n",
      "210/210 [==============================] - 0s 672us/step - loss: 1.3997 - accuracy: 0.4363 - val_loss: 1.6548 - val_accuracy: 0.2941\n",
      "Epoch 6/100\n",
      "210/210 [==============================] - 0s 694us/step - loss: 1.3662 - accuracy: 0.4497 - val_loss: 1.6444 - val_accuracy: 0.2953\n",
      "Epoch 7/100\n",
      "210/210 [==============================] - 0s 694us/step - loss: 1.3376 - accuracy: 0.4596 - val_loss: 1.6354 - val_accuracy: 0.2948\n",
      "Epoch 8/100\n",
      "210/210 [==============================] - 0s 649us/step - loss: 1.3130 - accuracy: 0.4658 - val_loss: 1.6276 - val_accuracy: 0.2959\n",
      "Epoch 9/100\n",
      "210/210 [==============================] - 0s 659us/step - loss: 1.2915 - accuracy: 0.4710 - val_loss: 1.6206 - val_accuracy: 0.2942\n",
      "Epoch 10/100\n",
      "210/210 [==============================] - 0s 653us/step - loss: 1.2726 - accuracy: 0.4744 - val_loss: 1.6144 - val_accuracy: 0.2924\n",
      "Epoch 11/100\n",
      "210/210 [==============================] - 0s 658us/step - loss: 1.2558 - accuracy: 0.4779 - val_loss: 1.6087 - val_accuracy: 0.2909\n",
      "Epoch 12/100\n",
      "210/210 [==============================] - 0s 686us/step - loss: 1.2408 - accuracy: 0.4823 - val_loss: 1.6035 - val_accuracy: 0.2927\n",
      "Epoch 13/100\n",
      "210/210 [==============================] - 0s 676us/step - loss: 1.2272 - accuracy: 0.4865 - val_loss: 1.5986 - val_accuracy: 0.2921\n",
      "Epoch 14/100\n",
      "210/210 [==============================] - 0s 644us/step - loss: 1.2150 - accuracy: 0.4907 - val_loss: 1.5940 - val_accuracy: 0.2930\n",
      "Epoch 15/100\n",
      "210/210 [==============================] - 0s 665us/step - loss: 1.2038 - accuracy: 0.4950 - val_loss: 1.5896 - val_accuracy: 0.2930\n",
      "Epoch 16/100\n",
      "210/210 [==============================] - 0s 662us/step - loss: 1.1936 - accuracy: 0.4999 - val_loss: 1.5854 - val_accuracy: 0.2934\n",
      "Epoch 17/100\n",
      "210/210 [==============================] - 0s 621us/step - loss: 1.1842 - accuracy: 0.5046 - val_loss: 1.5814 - val_accuracy: 0.2929\n",
      "Epoch 18/100\n",
      "210/210 [==============================] - 0s 656us/step - loss: 1.1755 - accuracy: 0.5091 - val_loss: 1.5776 - val_accuracy: 0.2938\n",
      "Epoch 19/100\n",
      "210/210 [==============================] - 0s 669us/step - loss: 1.1675 - accuracy: 0.5137 - val_loss: 1.5738 - val_accuracy: 0.2950\n",
      "Epoch 20/100\n",
      "210/210 [==============================] - 0s 668us/step - loss: 1.1601 - accuracy: 0.5172 - val_loss: 1.5701 - val_accuracy: 0.2950\n",
      "Epoch 21/100\n",
      "210/210 [==============================] - 0s 678us/step - loss: 1.1532 - accuracy: 0.5210 - val_loss: 1.5666 - val_accuracy: 0.2960\n",
      "Epoch 22/100\n",
      "210/210 [==============================] - 0s 713us/step - loss: 1.1467 - accuracy: 0.5245 - val_loss: 1.5631 - val_accuracy: 0.2972\n",
      "Epoch 23/100\n",
      "210/210 [==============================] - 0s 703us/step - loss: 1.1406 - accuracy: 0.5271 - val_loss: 1.5596 - val_accuracy: 0.2974\n",
      "Epoch 24/100\n",
      "210/210 [==============================] - 0s 662us/step - loss: 1.1350 - accuracy: 0.5293 - val_loss: 1.5563 - val_accuracy: 0.2966\n",
      "Epoch 25/100\n",
      "210/210 [==============================] - 0s 676us/step - loss: 1.1296 - accuracy: 0.5311 - val_loss: 1.5530 - val_accuracy: 0.2972\n",
      "Epoch 26/100\n",
      "210/210 [==============================] - 0s 702us/step - loss: 1.1246 - accuracy: 0.5341 - val_loss: 1.5498 - val_accuracy: 0.2957\n",
      "Epoch 27/100\n",
      "210/210 [==============================] - 0s 671us/step - loss: 1.1198 - accuracy: 0.5360 - val_loss: 1.5466 - val_accuracy: 0.2952\n",
      "Epoch 28/100\n",
      "210/210 [==============================] - 0s 698us/step - loss: 1.1154 - accuracy: 0.5393 - val_loss: 1.5434 - val_accuracy: 0.2954\n",
      "Epoch 29/100\n",
      "210/210 [==============================] - 0s 678us/step - loss: 1.1111 - accuracy: 0.5410 - val_loss: 1.5404 - val_accuracy: 0.2951\n",
      "Epoch 30/100\n",
      "210/210 [==============================] - 0s 713us/step - loss: 1.1071 - accuracy: 0.5423 - val_loss: 1.5373 - val_accuracy: 0.2964\n",
      "Epoch 31/100\n",
      "210/210 [==============================] - 0s 716us/step - loss: 1.1032 - accuracy: 0.5440 - val_loss: 1.5344 - val_accuracy: 0.2977\n",
      "Epoch 32/100\n",
      "210/210 [==============================] - 0s 697us/step - loss: 1.0996 - accuracy: 0.5445 - val_loss: 1.5315 - val_accuracy: 0.2976\n",
      "Epoch 33/100\n",
      "210/210 [==============================] - 0s 653us/step - loss: 1.0961 - accuracy: 0.5463 - val_loss: 1.5287 - val_accuracy: 0.2972\n",
      "Epoch 34/100\n",
      "210/210 [==============================] - 0s 676us/step - loss: 1.0928 - accuracy: 0.5471 - val_loss: 1.5259 - val_accuracy: 0.2973\n",
      "Epoch 35/100\n",
      "210/210 [==============================] - 0s 735us/step - loss: 1.0896 - accuracy: 0.5479 - val_loss: 1.5231 - val_accuracy: 0.2974\n",
      "Epoch 36/100\n",
      "210/210 [==============================] - 0s 664us/step - loss: 1.0866 - accuracy: 0.5486 - val_loss: 1.5204 - val_accuracy: 0.2977\n",
      "Epoch 37/100\n",
      "210/210 [==============================] - 0s 668us/step - loss: 1.0837 - accuracy: 0.5498 - val_loss: 1.5178 - val_accuracy: 0.2979\n",
      "Epoch 38/100\n",
      "210/210 [==============================] - 0s 650us/step - loss: 1.0809 - accuracy: 0.5503 - val_loss: 1.5152 - val_accuracy: 0.2983\n",
      "Epoch 39/100\n",
      "210/210 [==============================] - 0s 657us/step - loss: 1.0783 - accuracy: 0.5511 - val_loss: 1.5127 - val_accuracy: 0.2984\n",
      "Epoch 40/100\n",
      "210/210 [==============================] - 0s 643us/step - loss: 1.0757 - accuracy: 0.5521 - val_loss: 1.5103 - val_accuracy: 0.2987\n",
      "Epoch 41/100\n",
      "210/210 [==============================] - 0s 633us/step - loss: 1.0732 - accuracy: 0.5526 - val_loss: 1.5079 - val_accuracy: 0.2984\n",
      "Epoch 42/100\n",
      "210/210 [==============================] - 0s 674us/step - loss: 1.0709 - accuracy: 0.5530 - val_loss: 1.5056 - val_accuracy: 0.2974\n",
      "Epoch 43/100\n",
      "210/210 [==============================] - 0s 677us/step - loss: 1.0686 - accuracy: 0.5540 - val_loss: 1.5033 - val_accuracy: 0.2988\n",
      "Epoch 44/100\n",
      "210/210 [==============================] - 0s 642us/step - loss: 1.0664 - accuracy: 0.5542 - val_loss: 1.5010 - val_accuracy: 0.2984\n",
      "Epoch 45/100\n",
      "210/210 [==============================] - 0s 659us/step - loss: 1.0643 - accuracy: 0.5552 - val_loss: 1.4988 - val_accuracy: 0.2987\n",
      "Epoch 46/100\n",
      "210/210 [==============================] - 0s 686us/step - loss: 1.0623 - accuracy: 0.5565 - val_loss: 1.4967 - val_accuracy: 0.2987\n",
      "Epoch 47/100\n",
      "210/210 [==============================] - 0s 671us/step - loss: 1.0603 - accuracy: 0.5574 - val_loss: 1.4947 - val_accuracy: 0.2996\n",
      "Epoch 48/100\n",
      "210/210 [==============================] - 0s 650us/step - loss: 1.0584 - accuracy: 0.5581 - val_loss: 1.4926 - val_accuracy: 0.3000\n",
      "Epoch 49/100\n",
      "210/210 [==============================] - 0s 652us/step - loss: 1.0566 - accuracy: 0.5591 - val_loss: 1.4907 - val_accuracy: 0.3007\n",
      "Epoch 50/100\n",
      "210/210 [==============================] - 0s 664us/step - loss: 1.0548 - accuracy: 0.5601 - val_loss: 1.4887 - val_accuracy: 0.3016\n",
      "Epoch 51/100\n",
      "210/210 [==============================] - 0s 656us/step - loss: 1.0531 - accuracy: 0.5610 - val_loss: 1.4869 - val_accuracy: 0.3022\n",
      "Epoch 52/100\n",
      "210/210 [==============================] - 0s 659us/step - loss: 1.0514 - accuracy: 0.5616 - val_loss: 1.4850 - val_accuracy: 0.3026\n",
      "Epoch 53/100\n",
      "210/210 [==============================] - 0s 680us/step - loss: 1.0498 - accuracy: 0.5627 - val_loss: 1.4833 - val_accuracy: 0.3031\n",
      "Epoch 54/100\n",
      "210/210 [==============================] - 0s 686us/step - loss: 1.0483 - accuracy: 0.5638 - val_loss: 1.4815 - val_accuracy: 0.3026\n",
      "Epoch 55/100\n",
      "210/210 [==============================] - 0s 664us/step - loss: 1.0468 - accuracy: 0.5651 - val_loss: 1.4798 - val_accuracy: 0.3033\n",
      "Epoch 56/100\n",
      "210/210 [==============================] - 0s 744us/step - loss: 1.0453 - accuracy: 0.5659 - val_loss: 1.4782 - val_accuracy: 0.3040\n",
      "Epoch 57/100\n",
      "210/210 [==============================] - 0s 719us/step - loss: 1.0439 - accuracy: 0.5666 - val_loss: 1.4766 - val_accuracy: 0.3040\n",
      "Epoch 58/100\n",
      "210/210 [==============================] - 0s 733us/step - loss: 1.0425 - accuracy: 0.5673 - val_loss: 1.4750 - val_accuracy: 0.3042\n",
      "Epoch 59/100\n",
      "210/210 [==============================] - 0s 671us/step - loss: 1.0411 - accuracy: 0.5678 - val_loss: 1.4735 - val_accuracy: 0.3047\n",
      "Epoch 60/100\n",
      "210/210 [==============================] - 0s 699us/step - loss: 1.0398 - accuracy: 0.5680 - val_loss: 1.4720 - val_accuracy: 0.3049\n",
      "Epoch 61/100\n",
      "210/210 [==============================] - 0s 681us/step - loss: 1.0386 - accuracy: 0.5687 - val_loss: 1.4706 - val_accuracy: 0.3050\n",
      "Epoch 62/100\n",
      "210/210 [==============================] - 0s 670us/step - loss: 1.0373 - accuracy: 0.5692 - val_loss: 1.4691 - val_accuracy: 0.3058\n",
      "Epoch 63/100\n",
      "210/210 [==============================] - 0s 680us/step - loss: 1.0361 - accuracy: 0.5696 - val_loss: 1.4678 - val_accuracy: 0.3064\n",
      "Epoch 64/100\n",
      "210/210 [==============================] - 0s 644us/step - loss: 1.0349 - accuracy: 0.5700 - val_loss: 1.4664 - val_accuracy: 0.3072\n",
      "Epoch 65/100\n",
      "210/210 [==============================] - 0s 640us/step - loss: 1.0338 - accuracy: 0.5706 - val_loss: 1.4651 - val_accuracy: 0.3079\n",
      "Epoch 66/100\n",
      "210/210 [==============================] - 0s 652us/step - loss: 1.0327 - accuracy: 0.5709 - val_loss: 1.4639 - val_accuracy: 0.3086\n",
      "Epoch 67/100\n",
      "210/210 [==============================] - 0s 638us/step - loss: 1.0316 - accuracy: 0.5710 - val_loss: 1.4626 - val_accuracy: 0.3092\n",
      "Epoch 68/100\n",
      "210/210 [==============================] - 0s 637us/step - loss: 1.0305 - accuracy: 0.5715 - val_loss: 1.4614 - val_accuracy: 0.3099\n",
      "Epoch 69/100\n",
      "210/210 [==============================] - 0s 653us/step - loss: 1.0295 - accuracy: 0.5722 - val_loss: 1.4602 - val_accuracy: 0.3094\n",
      "Epoch 70/100\n",
      "210/210 [==============================] - 0s 679us/step - loss: 1.0285 - accuracy: 0.5726 - val_loss: 1.4591 - val_accuracy: 0.3103\n",
      "Epoch 71/100\n",
      "210/210 [==============================] - 0s 644us/step - loss: 1.0275 - accuracy: 0.5733 - val_loss: 1.4579 - val_accuracy: 0.3110\n",
      "Epoch 72/100\n",
      "210/210 [==============================] - 0s 676us/step - loss: 1.0265 - accuracy: 0.5734 - val_loss: 1.4568 - val_accuracy: 0.3108\n",
      "Epoch 73/100\n",
      "210/210 [==============================] - 0s 638us/step - loss: 1.0256 - accuracy: 0.5733 - val_loss: 1.4558 - val_accuracy: 0.3111\n",
      "Epoch 74/100\n",
      "210/210 [==============================] - 0s 800us/step - loss: 1.0246 - accuracy: 0.5740 - val_loss: 1.4547 - val_accuracy: 0.3116\n",
      "Epoch 75/100\n",
      "210/210 [==============================] - 0s 644us/step - loss: 1.0237 - accuracy: 0.5747 - val_loss: 1.4537 - val_accuracy: 0.3119\n",
      "Epoch 76/100\n",
      "210/210 [==============================] - 0s 661us/step - loss: 1.0228 - accuracy: 0.5745 - val_loss: 1.4527 - val_accuracy: 0.3126\n",
      "Epoch 77/100\n",
      "210/210 [==============================] - 0s 715us/step - loss: 1.0220 - accuracy: 0.5751 - val_loss: 1.4517 - val_accuracy: 0.3123\n",
      "Epoch 78/100\n",
      "210/210 [==============================] - 0s 693us/step - loss: 1.0211 - accuracy: 0.5754 - val_loss: 1.4507 - val_accuracy: 0.3127\n",
      "Epoch 79/100\n",
      "210/210 [==============================] - 0s 703us/step - loss: 1.0203 - accuracy: 0.5760 - val_loss: 1.4498 - val_accuracy: 0.3136\n",
      "Epoch 80/100\n",
      "210/210 [==============================] - 0s 667us/step - loss: 1.0195 - accuracy: 0.5761 - val_loss: 1.4489 - val_accuracy: 0.3140\n",
      "Epoch 81/100\n",
      "210/210 [==============================] - 0s 648us/step - loss: 1.0187 - accuracy: 0.5764 - val_loss: 1.4480 - val_accuracy: 0.3149\n",
      "Epoch 82/100\n",
      "210/210 [==============================] - 0s 673us/step - loss: 1.0179 - accuracy: 0.5771 - val_loss: 1.4471 - val_accuracy: 0.3153\n",
      "Epoch 83/100\n",
      "210/210 [==============================] - 0s 667us/step - loss: 1.0171 - accuracy: 0.5773 - val_loss: 1.4463 - val_accuracy: 0.3157\n",
      "Epoch 84/100\n",
      "210/210 [==============================] - 0s 691us/step - loss: 1.0163 - accuracy: 0.5778 - val_loss: 1.4454 - val_accuracy: 0.3159\n",
      "Epoch 85/100\n",
      "210/210 [==============================] - 0s 706us/step - loss: 1.0156 - accuracy: 0.5779 - val_loss: 1.4446 - val_accuracy: 0.3158\n",
      "Epoch 86/100\n",
      "210/210 [==============================] - 0s 707us/step - loss: 1.0149 - accuracy: 0.5782 - val_loss: 1.4438 - val_accuracy: 0.3157\n",
      "Epoch 87/100\n",
      "210/210 [==============================] - 0s 706us/step - loss: 1.0142 - accuracy: 0.5784 - val_loss: 1.4430 - val_accuracy: 0.3156\n",
      "Epoch 88/100\n",
      "210/210 [==============================] - 0s 798us/step - loss: 1.0135 - accuracy: 0.5788 - val_loss: 1.4422 - val_accuracy: 0.3156\n",
      "Epoch 89/100\n",
      "210/210 [==============================] - 0s 686us/step - loss: 1.0128 - accuracy: 0.5790 - val_loss: 1.4415 - val_accuracy: 0.3153\n",
      "Epoch 90/100\n",
      "210/210 [==============================] - 0s 660us/step - loss: 1.0121 - accuracy: 0.5795 - val_loss: 1.4407 - val_accuracy: 0.3157\n",
      "Epoch 91/100\n",
      "210/210 [==============================] - 0s 722us/step - loss: 1.0114 - accuracy: 0.5796 - val_loss: 1.4400 - val_accuracy: 0.3157\n",
      "Epoch 92/100\n",
      "210/210 [==============================] - 0s 730us/step - loss: 1.0108 - accuracy: 0.5798 - val_loss: 1.4393 - val_accuracy: 0.3154\n",
      "Epoch 93/100\n",
      "210/210 [==============================] - 0s 713us/step - loss: 1.0101 - accuracy: 0.5799 - val_loss: 1.4386 - val_accuracy: 0.3158\n",
      "Epoch 94/100\n",
      "210/210 [==============================] - 0s 643us/step - loss: 1.0095 - accuracy: 0.5800 - val_loss: 1.4379 - val_accuracy: 0.3162\n",
      "Epoch 95/100\n",
      "210/210 [==============================] - 0s 666us/step - loss: 1.0089 - accuracy: 0.5805 - val_loss: 1.4372 - val_accuracy: 0.3162\n",
      "Epoch 96/100\n",
      "210/210 [==============================] - 0s 673us/step - loss: 1.0082 - accuracy: 0.5809 - val_loss: 1.4366 - val_accuracy: 0.3163\n",
      "Epoch 97/100\n",
      "210/210 [==============================] - 0s 653us/step - loss: 1.0076 - accuracy: 0.5810 - val_loss: 1.4359 - val_accuracy: 0.3169\n",
      "Epoch 98/100\n",
      "210/210 [==============================] - 0s 657us/step - loss: 1.0070 - accuracy: 0.5811 - val_loss: 1.4353 - val_accuracy: 0.3173\n",
      "Epoch 99/100\n",
      "210/210 [==============================] - 0s 632us/step - loss: 1.0064 - accuracy: 0.5817 - val_loss: 1.4347 - val_accuracy: 0.3173\n",
      "Epoch 100/100\n",
      "210/210 [==============================] - 0s 728us/step - loss: 1.0059 - accuracy: 0.5818 - val_loss: 1.4341 - val_accuracy: 0.3174\n"
     ]
    }
   ],
   "source": [
    "history = model.fit(\n",
    "    inputs_tf,\n",
    "    targets_tf,\n",
    "    epochs = 100,\n",
    "    batch_size = 100,\n",
    "    validation_split = 0.3\n",
    ")"
   ]
  },
  {
   "cell_type": "code",
   "execution_count": 70,
   "metadata": {},
   "outputs": [],
   "source": [
    "# model.save(\"./weather_summary\")\n",
    "model.save(\"./weather_summary.h5\", save_format=\"h5\")"
   ]
  },
  {
   "cell_type": "code",
   "execution_count": 71,
   "metadata": {},
   "outputs": [
    {
     "name": "stdout",
     "output_type": "stream",
     "text": [
      "0.30300000309944153\n"
     ]
    }
   ],
   "source": [
    "loss, accuracy = model.test_on_batch(test_inputs, test_targets)\n",
    "print(accuracy)"
   ]
  },
  {
   "cell_type": "code",
   "execution_count": 125,
   "metadata": {},
   "outputs": [],
   "source": [
    "preds = model.predict(inputs_tf)\n",
    "preds_simplified = []\n",
    "targets_simplified = []\n",
    "\n",
    "for pred in preds:\n",
    "    index = (tf.where(pred == max(pred)))\n",
    "    index = (int(index[0][0]))\n",
    "    preds_simplified.append(index)\n",
    "    \n",
    "for target in targets_tf:\n",
    "    index = (tf.where(target == max(target)))\n",
    "    index = (int(index[0][0]))\n",
    "    targets_simplified.append(index)"
   ]
  },
  {
   "cell_type": "code",
   "execution_count": 126,
   "metadata": {},
   "outputs": [
    {
     "data": {
      "text/plain": [
       "<Axes: >"
      ]
     },
     "execution_count": 126,
     "metadata": {},
     "output_type": "execute_result"
    },
    {
     "data": {
      "image/png": "[encoded data removed]",
      "text/plain": [
       "<Figure size 640x480 with 2 Axes>"
      ]
     },
     "metadata": {},
     "output_type": "display_data"
    }
   ],
   "source": [
    "import seaborn as sns\n",
    "\n",
    "confusion = tf.math.confusion_matrix(labels=targets_simplified, predictions= preds_simplified)\n",
    "conf_df = pd.DataFrame(confusion, labels, labels)\n",
    "sns.heatmap(conf_df, annot=True)"
   ]
  },
  {
   "cell_type": "code",
   "execution_count": 9,
   "metadata": {},
   "outputs": [],
   "source": [
    "# model = tf.keras.models.load_model(\"./weather_summary\")\n",
    "model = tf.keras.models.load_model('./weather_summary.h5')"
   ]
  },
  {
   "cell_type": "code",
   "execution_count": 127,
   "metadata": {},
   "outputs": [
    {
     "data": {
      "text/html": [
       "<div>\n",
       "<style scoped>\n",
       "    .dataframe tbody tr th:only-of-type {\n",
       "        vertical-align: middle;\n",
       "    }\n",
       "\n",
       "    .dataframe tbody tr th {\n",
       "        vertical-align: top;\n",
       "    }\n",
       "\n",
       "    .dataframe thead th {\n",
       "        text-align: right;\n",
       "    }\n",
       "</style>\n",
       "<table border=\"1\" class=\"dataframe\">\n",
       "  <thead>\n",
       "    <tr style=\"text-align: right;\">\n",
       "      <th></th>\n",
       "      <th>loss</th>\n",
       "      <th>accuracy</th>\n",
       "      <th>val_loss</th>\n",
       "      <th>val_accuracy</th>\n",
       "    </tr>\n",
       "  </thead>\n",
       "  <tbody>\n",
       "    <tr>\n",
       "      <th>0</th>\n",
       "      <td>1.610462</td>\n",
       "      <td>0.288667</td>\n",
       "      <td>1.722117</td>\n",
       "      <td>0.267778</td>\n",
       "    </tr>\n",
       "    <tr>\n",
       "      <th>1</th>\n",
       "      <td>1.542832</td>\n",
       "      <td>0.345810</td>\n",
       "      <td>1.700071</td>\n",
       "      <td>0.281000</td>\n",
       "    </tr>\n",
       "    <tr>\n",
       "      <th>2</th>\n",
       "      <td>1.486376</td>\n",
       "      <td>0.386857</td>\n",
       "      <td>1.682046</td>\n",
       "      <td>0.289778</td>\n",
       "    </tr>\n",
       "    <tr>\n",
       "      <th>3</th>\n",
       "      <td>1.439231</td>\n",
       "      <td>0.415000</td>\n",
       "      <td>1.667193</td>\n",
       "      <td>0.290889</td>\n",
       "    </tr>\n",
       "    <tr>\n",
       "      <th>4</th>\n",
       "      <td>1.399675</td>\n",
       "      <td>0.436286</td>\n",
       "      <td>1.654828</td>\n",
       "      <td>0.294111</td>\n",
       "    </tr>\n",
       "    <tr>\n",
       "      <th>...</th>\n",
       "      <td>...</td>\n",
       "      <td>...</td>\n",
       "      <td>...</td>\n",
       "      <td>...</td>\n",
       "    </tr>\n",
       "    <tr>\n",
       "      <th>95</th>\n",
       "      <td>1.008236</td>\n",
       "      <td>0.580905</td>\n",
       "      <td>1.436594</td>\n",
       "      <td>0.316333</td>\n",
       "    </tr>\n",
       "    <tr>\n",
       "      <th>96</th>\n",
       "      <td>1.007631</td>\n",
       "      <td>0.581048</td>\n",
       "      <td>1.435948</td>\n",
       "      <td>0.316889</td>\n",
       "    </tr>\n",
       "    <tr>\n",
       "      <th>97</th>\n",
       "      <td>1.007034</td>\n",
       "      <td>0.581143</td>\n",
       "      <td>1.435320</td>\n",
       "      <td>0.317333</td>\n",
       "    </tr>\n",
       "    <tr>\n",
       "      <th>98</th>\n",
       "      <td>1.006448</td>\n",
       "      <td>0.581714</td>\n",
       "      <td>1.434693</td>\n",
       "      <td>0.317333</td>\n",
       "    </tr>\n",
       "    <tr>\n",
       "      <th>99</th>\n",
       "      <td>1.005869</td>\n",
       "      <td>0.581810</td>\n",
       "      <td>1.434081</td>\n",
       "      <td>0.317444</td>\n",
       "    </tr>\n",
       "  </tbody>\n",
       "</table>\n",
       "<p>100 rows × 4 columns</p>\n",
       "</div>"
      ],
      "text/plain": [
       "        loss  accuracy  val_loss  val_accuracy\n",
       "0   1.610462  0.288667  1.722117      0.267778\n",
       "1   1.542832  0.345810  1.700071      0.281000\n",
       "2   1.486376  0.386857  1.682046      0.289778\n",
       "3   1.439231  0.415000  1.667193      0.290889\n",
       "4   1.399675  0.436286  1.654828      0.294111\n",
       "..       ...       ...       ...           ...\n",
       "95  1.008236  0.580905  1.436594      0.316333\n",
       "96  1.007631  0.581048  1.435948      0.316889\n",
       "97  1.007034  0.581143  1.435320      0.317333\n",
       "98  1.006448  0.581714  1.434693      0.317333\n",
       "99  1.005869  0.581810  1.434081      0.317444\n",
       "\n",
       "[100 rows x 4 columns]"
      ]
     },
     "execution_count": 127,
     "metadata": {},
     "output_type": "execute_result"
    }
   ],
   "source": [
    "history_df = pd.DataFrame(history.history)\n",
    "history_df"
   ]
  },
  {
   "cell_type": "code",
   "execution_count": 133,
   "metadata": {},
   "outputs": [
    {
     "data": {
      "text/plain": [
       "<matplotlib.legend.Legend at 0x27c2cb83910>"
      ]
     },
     "execution_count": 133,
     "metadata": {},
     "output_type": "execute_result"
    },
    {
     "data": {
      "image/png": "[encoded data removed]",
      "text/plain": [
       "<Figure size 640x480 with 1 Axes>"
      ]
     },
     "metadata": {},
     "output_type": "display_data"
    }
   ],
   "source": [
    "plt.plot(range(100),history_df[\"loss\"])\n",
    "plt.plot(range(100),history_df[\"val_loss\"], c=\"red\")\n",
    "plt.legend([\"Train Loss\", \"Validation Loss\"])"
   ]
  },
  {
   "cell_type": "code",
   "execution_count": 134,
   "metadata": {},
   "outputs": [
    {
     "data": {
      "text/plain": [
       "<matplotlib.legend.Legend at 0x27c2cbdf9d0>"
      ]
     },
     "execution_count": 134,
     "metadata": {},
     "output_type": "execute_result"
    },
    {
     "data": {
      "image/png": "[encoded data removed]",
      "text/plain": [
       "<Figure size 640x480 with 1 Axes>"
      ]
     },
     "metadata": {},
     "output_type": "display_data"
    }
   ],
   "source": [
    "plt.plot(range(100),history_df[\"accuracy\"])\n",
    "plt.plot(range(100),history_df[\"val_accuracy\"], c=\"red\")\n",
    "plt.legend([\"Train Accuracy\", \"Validation Accuracy\"])"
   ]
  }
 ],
 "metadata": {
  "kernelspec": {
   "display_name": "Python 3",
   "language": "python",
   "name": "python3"
  },
  "language_info": {
   "codemirror_mode": {
    "name": "ipython",
    "version": 3
   },
   "file_extension": ".py",
   "mimetype": "text/x-python",
   "name": "python",
   "nbconvert_exporter": "python",
   "pygments_lexer": "ipython3",
   "version": "3.10.8"
  }
 },
 "nbformat": 4,
 "nbformat_minor": 2
}
