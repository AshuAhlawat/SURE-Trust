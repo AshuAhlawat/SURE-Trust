{
 "cells": [
  {
   "cell_type": "code",
   "execution_count": 11,
   "metadata": {},
   "outputs": [],
   "source": [
    "import pandas as pd\n",
    "import numpy as np\n",
    "import matplotlib.pyplot as plt\n",
    "\n",
    "from sklearn.preprocessing import Normalizer"
   ]
  },
  {
   "cell_type": "code",
   "execution_count": 3,
   "metadata": {},
   "outputs": [],
   "source": [
    "df = pd.read_csv(\"./WineQT.csv\")[:100]\n",
    "df.drop([\"Id\",\"quality\"], axis= 1, inplace= True)"
   ]
  },
  {
   "cell_type": "code",
   "execution_count": 4,
   "metadata": {},
   "outputs": [
    {
     "name": "stderr",
     "output_type": "stream",
     "text": [
      "c:\\Users\\ashua\\AppData\\Local\\Programs\\Python\\Python310\\lib\\site-packages\\sklearn\\base.py:486: UserWarning: X has feature names, but Normalizer was fitted without feature names\n",
      "  warnings.warn(\n"
     ]
    }
   ],
   "source": [
    "norm = Normalizer()\n",
    "\n",
    "df_np = norm.transform(df)"
   ]
  },
  {
   "cell_type": "code",
   "execution_count": 5,
   "metadata": {},
   "outputs": [],
   "source": [
    "def e_distance(feature, sample):\n",
    "    number = sum((feature - sample)**2)\n",
    "    number = number**(1/2)\n",
    "    \n",
    "    return number"
   ]
  },
  {
   "cell_type": "code",
   "execution_count": 47,
   "metadata": {},
   "outputs": [
    {
     "data": {
      "text/plain": [
       "{0: {'center': array([0.12658088, 0.01122652, 0.00165761, 0.02863139, 0.00135622,\n",
       "         0.24110644, 0.94935662, 0.01501641, 0.0480706 , 0.01235671,\n",
       "         0.14466387]),\n",
       "  'cluster': []},\n",
       " 1: {'center': array([6.22513884e-02, 3.54688143e-03, 2.02678939e-03, 1.37532137e-02,\n",
       "         7.96238689e-04, 1.44770671e-01, 9.84440561e-01, 7.21826564e-03,\n",
       "         2.12089033e-02, 1.41151404e-02, 7.16614820e-02]),\n",
       "  'cluster': []}}"
      ]
     },
     "execution_count": 47,
     "metadata": {},
     "output_type": "execute_result"
    }
   ],
   "source": []
  },
  {
   "cell_type": "code",
   "execution_count": 301,
   "metadata": {},
   "outputs": [],
   "source": [
    "# initializing k\n",
    "\n",
    "\n"
   ]
  },
  {
   "cell_type": "code",
   "execution_count": 438,
   "metadata": {},
   "outputs": [
    {
     "name": "stdout",
     "output_type": "stream",
     "text": [
      "k = 3, Variation: 1.8797968958553348\n"
     ]
    }
   ],
   "source": [
    "\n",
    "\n",
    "for j in range(1000):\n",
    "    k = 3\n",
    "    \n",
    "    least_variance = 1000\n",
    "\n",
    "    data = {}\n",
    "    for i in range(k):\n",
    "        data[i] = {}\n",
    "        data[i][\"center\"] = df_np[np.random.randint(0, len(df_np))]\n",
    "        data[i][\"cluster\"] = []\n",
    "\n",
    "\n",
    "    converged = False\n",
    "    for epoch in range(10):\n",
    "        # iterate over the dataset rows\n",
    "        for i in range(len(df_np)):\n",
    "            distances = []\n",
    "            # compare distance of the point to all cluster's centers\n",
    "            for cluster in data:\n",
    "                distances.append(e_distance(df_np[i], data[cluster][\"center\"]))\n",
    "            # assign the point to closer clusters and append it to the list\n",
    "            \n",
    "            cluster_assignment = distances.index(min(distances))\n",
    "            data[cluster_assignment][\"cluster\"].append(df_np[i])\n",
    "            \n",
    "        for key in data:\n",
    "            cluster_data = data[key]\n",
    "            \n",
    "            # FIND THE Centeroid of the cluster\n",
    "            cluster_sum = sum(cluster_data[\"cluster\"])\n",
    "            \n",
    "            try:\n",
    "                centeroid = cluster_sum/ len(cluster_data[\"cluster\"])    \n",
    "            except:\n",
    "                centeroid = data[key][\"center\"]\n",
    "            \n",
    "            if data[key][\"center\"].all() == centeroid.all():\n",
    "                # print(\"Converged\")\n",
    "                converged = True\n",
    "                break\n",
    "            \n",
    "            data[key][\"center\"] = centeroid\n",
    "            \n",
    "        # variance of the clustering\n",
    "        final_variance = 0\n",
    "        \n",
    "        # print(f\"\\nEpoch : {epoch+1}\")\n",
    "        for key in data:\n",
    "            cluster_data = data[key]\n",
    "            \n",
    "            total_variance = 0\n",
    "            for point in cluster_data[\"cluster\"]:\n",
    "                variance = ((cluster_data[\"center\"] - point)**2).sum()\n",
    "                total_variance += variance\n",
    "            \n",
    "            # print(f\"Cluster: {key}, Variance: {total_variance}\")\n",
    "            \n",
    "            final_variance += total_variance\n",
    "            \n",
    "            data[key][\"cluster\"] = []\n",
    "        \n",
    "        if converged:\n",
    "            break\n",
    "\n",
    "    if final_variance < least_variance:\n",
    "        least_variance = final_variance\n",
    "        \n",
    "        for i in range(len(df_np)):\n",
    "            distances = []\n",
    "            # compare distance of the point to all cluster's centers\n",
    "            for cluster in data:\n",
    "                distances.append(e_distance(df_np[i], data[cluster][\"center\"]))\n",
    "            # assign the point to closer clusters and append it to the list\n",
    "            \n",
    "            cluster_assignment = distances.index(min(distances))\n",
    "            data[cluster_assignment][\"cluster\"].append(df_np[i])\n",
    "    \n",
    "    \n",
    "print(f\"k = {k}, Variation: {least_variance}\")"
   ]
  },
  {
   "cell_type": "code",
   "execution_count": 441,
   "metadata": {},
   "outputs": [
    {
     "data": {
      "image/png": "[encoded data removed]",
      "text/plain": [
       "<Figure size 640x480 with 1 Axes>"
      ]
     },
     "metadata": {},
     "output_type": "display_data"
    }
   ],
   "source": [
    "colors = [\"green\",\"red\",\"blue\",\"yellow\"]\n",
    "axis = [4 ,5]\n",
    "\n",
    "for key in data:\n",
    "    cluster_data = data[key]\n",
    "    points = cluster_data[\"cluster\"]\n",
    "    \n",
    "    x_points = []\n",
    "    y_points = []\n",
    "    plt.scatter(x=cluster_data[\"center\"][axis[0]], y = cluster_data[\"center\"][axis[1]], s=200, alpha=0.5)\n",
    "    \n",
    "    for point in points:\n",
    "        x_points.append(points[axis[0]])\n",
    "        y_points.append(points[axis[1]])\n",
    "\n",
    "    plt.scatter(x=x_points, y = y_points, c=colors[key])\n",
    "plt.show()"
   ]
  },
  {
   "cell_type": "code",
   "execution_count": null,
   "metadata": {},
   "outputs": [],
   "source": [
    "[\n",
    "    [2, 2.4],\n",
    "    [3, 1.8], \n",
    "    [4, 1.3] \n",
    "]"
   ]
  }
 ],
 "metadata": {
  "kernelspec": {
   "display_name": "Python 3",
   "language": "python",
   "name": "python3"
  },
  "language_info": {
   "codemirror_mode": {
    "name": "ipython",
    "version": 3
   },
   "file_extension": ".py",
   "mimetype": "text/x-python",
   "name": "python",
   "nbconvert_exporter": "python",
   "pygments_lexer": "ipython3",
   "version": "3.10.8"
  }
 },
 "nbformat": 4,
 "nbformat_minor": 2
}
