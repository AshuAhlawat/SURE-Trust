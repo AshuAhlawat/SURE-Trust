{
 "cells": [
  {
   "cell_type": "code",
   "execution_count": 1,
   "metadata": {},
   "outputs": [],
   "source": [
    "import pandas as pd\n",
    "import numpy as np\n",
    "\n",
    "from sklearn.preprocessing import Normalizer"
   ]
  },
  {
   "cell_type": "code",
   "execution_count": 33,
   "metadata": {},
   "outputs": [],
   "source": [
    "df = pd.read_csv(\"./WineQT.csv\")[:100]\n",
    "df.drop([\"Id\",\"quality\"], axis= 1, inplace= True)"
   ]
  },
  {
   "cell_type": "code",
   "execution_count": 34,
   "metadata": {},
   "outputs": [
    {
     "name": "stderr",
     "output_type": "stream",
     "text": [
      "c:\\Users\\ashua\\AppData\\Local\\Programs\\Python\\Python310\\lib\\site-packages\\sklearn\\base.py:486: UserWarning: X has feature names, but Normalizer was fitted without feature names\n",
      "  warnings.warn(\n"
     ]
    }
   ],
   "source": [
    "norm = Normalizer()\n",
    "\n",
    "df_np = norm.transform(df)"
   ]
  },
  {
   "cell_type": "code",
   "execution_count": 35,
   "metadata": {},
   "outputs": [],
   "source": [
    "def e_distance(feature, sample):\n",
    "    number = sum((feature - sample)**2)\n",
    "    number = number**(1/2)\n",
    "    \n",
    "    return number"
   ]
  },
  {
   "cell_type": "code",
   "execution_count": 36,
   "metadata": {},
   "outputs": [
    {
     "data": {
      "text/plain": [
       "{1: {'center': array([0.20529115, 0.0138128 , 0.00456203, 0.04815472, 0.00202757,\n",
       "         0.32947963, 0.88706054, 0.02527362, 0.08363714, 0.01495331,\n",
       "         0.22810128]),\n",
       "  'cluster': []},\n",
       " 2: {'center': array([5.51504117e-02, 4.92414390e-03, 8.86345902e-04, 2.26510620e-02,\n",
       "         4.82566102e-04, 1.67420893e-01, 9.74980493e-01, 9.78624359e-03,\n",
       "         3.57492847e-02, 6.20442132e-03, 1.28027741e-01]),\n",
       "  'cluster': []}}"
      ]
     },
     "execution_count": 36,
     "metadata": {},
     "output_type": "execute_result"
    }
   ],
   "source": [
    "k = 2\n",
    "\n",
    "data = {}\n",
    "\n",
    "for i in range(k):\n",
    "    data[i+1] = {}\n",
    "    data[i+1][\"center\"] = df_np[np.random.randint(0, len(df_np))]\n",
    "    data[i+1][\"cluster\"] = []\n",
    "    \n",
    "data"
   ]
  },
  {
   "cell_type": "code",
   "execution_count": null,
   "metadata": {},
   "outputs": [],
   "source": [
    "# iterate over the dataset rows\n",
    "    # compare distance of the point to all clusters\n",
    "    # assign the point to closer clusters and append it to the list\n",
    "# repeat till all rows are done\n",
    "\n",
    "# calcute the final variance of the clusters"
   ]
  }
 ],
 "metadata": {
  "kernelspec": {
   "display_name": "Python 3",
   "language": "python",
   "name": "python3"
  },
  "language_info": {
   "codemirror_mode": {
    "name": "ipython",
    "version": 3
   },
   "file_extension": ".py",
   "mimetype": "text/x-python",
   "name": "python",
   "nbconvert_exporter": "python",
   "pygments_lexer": "ipython3",
   "version": "3.10.8"
  }
 },
 "nbformat": 4,
 "nbformat_minor": 2
}
