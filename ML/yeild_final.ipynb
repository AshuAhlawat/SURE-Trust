{
 "cells": [
  {
   "cell_type": "code",
   "execution_count": 1,
   "metadata": {},
   "outputs": [],
   "source": [
    "import torch"
   ]
  },
  {
   "cell_type": "code",
   "execution_count": 2,
   "metadata": {},
   "outputs": [],
   "source": [
    "# features Temp, Rainfall, Humidity\n",
    "features = torch.tensor([\n",
    "    [73, 67, 43],\n",
    "    [91, 88, 64],\n",
    "    [87, 134, 58],\n",
    "    [102, 43, 37],\n",
    "    [69, 96, 70]\n",
    "], dtype = torch.float32)\n",
    "\n",
    "# labes Apples , Oranges\n",
    "labels = torch.tensor([\n",
    "    [56, 70],\n",
    "    [81, 101],\n",
    "    [119, 133],\n",
    "    [22, 37],\n",
    "    [103, 119]\n",
    "], dtype = torch.float32)"
   ]
  },
  {
   "cell_type": "code",
   "execution_count": 3,
   "metadata": {},
   "outputs": [
    {
     "name": "stdout",
     "output_type": "stream",
     "text": [
      "Parameter containing:\n",
      "tensor([[-0.5758,  0.2485, -0.4836],\n",
      "        [ 0.1999,  0.3102, -0.3253]], requires_grad=True)\n",
      "Parameter containing:\n",
      "tensor([ 0.3458, -0.0867], requires_grad=True)\n"
     ]
    }
   ],
   "source": [
    "# weights = torch.randn(2,3, requires_grad=True)\n",
    "# bias = torch.randn(2, requires_grad=True)\n",
    "# print(weights)\n",
    "# print(bias)\n",
    "model = torch.nn.Linear(3, 2)\n",
    "\n",
    "print(model.weight)\n",
    "print(model.bias)"
   ]
  },
  {
   "cell_type": "code",
   "execution_count": 4,
   "metadata": {},
   "outputs": [
    {
     "name": "stdout",
     "output_type": "stream",
     "text": [
      "tensor([[-45.8285,  21.3014],\n",
      "        [-61.1282,  24.5825],\n",
      "        [-44.4906,  40.0037],\n",
      "        [-65.5909,  21.6054],\n",
      "        [-49.3733,  20.7146]], grad_fn=<AddmmBackward0>)\n"
     ]
    }
   ],
   "source": [
    "preds = model(features)\n",
    "print(preds)"
   ]
  },
  {
   "cell_type": "code",
   "execution_count": 5,
   "metadata": {},
   "outputs": [
    {
     "data": {
      "text/plain": [
       "tensor(11494.4971, grad_fn=<MseLossBackward0>)"
      ]
     },
     "execution_count": 5,
     "metadata": {},
     "output_type": "execute_result"
    }
   ],
   "source": [
    "# def mse(predictions , labels):\n",
    "#     diff = predictions - labels\n",
    "#     squared = diff**2\n",
    "#     added = sum(sum(squared))\n",
    "    \n",
    "#     mean = added/(len(squared)*len(squared[0]))\n",
    "\n",
    "#     return mean\n",
    "\n",
    "from torch.nn.functional import mse_loss\n",
    "\n",
    "loss  = mse_loss(preds, labels)\n",
    "loss"
   ]
  },
  {
   "cell_type": "code",
   "execution_count": 21,
   "metadata": {},
   "outputs": [
    {
     "name": "stdout",
     "output_type": "stream",
     "text": [
      "tensor([[ -9502.3750, -10522.6279,  -6506.8242],\n",
      "        [ -4704.1909,  -5768.9961,  -3509.4121]])\n",
      "tensor([-113.9948,  -58.2118])\n"
     ]
    }
   ],
   "source": [
    "loss.backward()\n",
    "\n",
    "print(model.weight.grad)\n",
    "print(model.bias.grad)"
   ]
  },
  {
   "cell_type": "code",
   "execution_count": 22,
   "metadata": {},
   "outputs": [
    {
     "name": "stdout",
     "output_type": "stream",
     "text": [
      "tensor(8686.0469, grad_fn=<MseLossBackward0>)\n"
     ]
    }
   ],
   "source": [
    "# lr = 0.0000001\n",
    "\n",
    "# with torch.no_grad():\n",
    "#     model.weight -= lr*model.weight.grad\n",
    "#     model.bias -= lr*model.bias.grad\n",
    "\n",
    "optimizer = torch.optim.SGD(model.parameters(), lr=0.000001)\n",
    "\n",
    "optimizer.step()\n",
    "optimizer.zero_grad()\n",
    "\n",
    "preds = model(features)\n",
    "loss = mse_loss(preds, labels)\n",
    "print(loss)"
   ]
  },
  {
   "cell_type": "code",
   "execution_count": 104,
   "metadata": {},
   "outputs": [
    {
     "name": "stdout",
     "output_type": "stream",
     "text": [
      "tensor(0.5286, grad_fn=<MseLossBackward0>)\n",
      "tensor(0.5268, grad_fn=<MseLossBackward0>)\n",
      "tensor(0.5253, grad_fn=<MseLossBackward0>)\n",
      "tensor(0.5241, grad_fn=<MseLossBackward0>)\n",
      "tensor(0.5231, grad_fn=<MseLossBackward0>)\n",
      "tensor(0.5222, grad_fn=<MseLossBackward0>)\n",
      "tensor(0.5215, grad_fn=<MseLossBackward0>)\n",
      "tensor(0.5209, grad_fn=<MseLossBackward0>)\n",
      "tensor(0.5204, grad_fn=<MseLossBackward0>)\n",
      "tensor(0.5200, grad_fn=<MseLossBackward0>)\n"
     ]
    }
   ],
   "source": [
    "optimizer = torch.optim.SGD(model.parameters(), lr=0.000001)\n",
    "\n",
    "epochs = 10000\n",
    "for epoch in range(epochs):\n",
    "    preds = model(features)\n",
    "    loss = mse_loss(preds, labels)\n",
    "    \n",
    "    if (epoch+1)%1000 == 0:\n",
    "        print(loss)\n",
    "\n",
    "    loss.backward()\n",
    "    \n",
    "    optimizer.step()\n",
    "    optimizer.zero_grad()"
   ]
  }
 ],
 "metadata": {
  "kernelspec": {
   "display_name": "Python 3.8.10 64-bit",
   "language": "python",
   "name": "python3"
  },
  "language_info": {
   "codemirror_mode": {
    "name": "ipython",
    "version": 3
   },
   "file_extension": ".py",
   "mimetype": "text/x-python",
   "name": "python",
   "nbconvert_exporter": "python",
   "pygments_lexer": "ipython3",
   "version": "3.8.10"
  },
  "orig_nbformat": 4,
  "vscode": {
   "interpreter": {
    "hash": "df0893f56f349688326838aaeea0de204df53a132722cbd565e54b24a8fec5f6"
   }
  }
 },
 "nbformat": 4,
 "nbformat_minor": 2
}
