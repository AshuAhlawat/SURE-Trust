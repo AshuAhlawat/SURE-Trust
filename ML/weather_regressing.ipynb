{
 "cells": [
  {
   "cell_type": "code",
   "execution_count": 2,
   "metadata": {},
   "outputs": [],
   "source": [
    "import pandas as pd\n",
    "from matplotlib import pyplot as plt\n",
    "import numpy as np"
   ]
  },
  {
   "cell_type": "code",
   "execution_count": 3,
   "metadata": {},
   "outputs": [
    {
     "name": "stdout",
     "output_type": "stream",
     "text": [
      "Index(['Formatted Date', 'Summary', 'Precip Type', 'Temperature (C)',\n",
      "       'Apparent Temperature (C)', 'Humidity', 'Wind Speed (km/h)',\n",
      "       'Wind Bearing (degrees)', 'Visibility (km)', 'Loud Cover',\n",
      "       'Pressure (millibars)', 'Daily Summary'],\n",
      "      dtype='object')\n"
     ]
    }
   ],
   "source": [
    "dataset = pd.read_csv(\"../weather.csv\")[:100]\n",
    "\n",
    "features = np.array(dataset[\"Humidity\"])\n",
    "labels = np.array(dataset['Temperature (C)'])\n",
    "\n",
    "\n",
    "print(dataset.columns)"
   ]
  },
  {
   "cell_type": "code",
   "execution_count": 4,
   "metadata": {},
   "outputs": [
    {
     "name": "stdout",
     "output_type": "stream",
     "text": [
      "-1.8975805354307596 0.12570775737384715\n"
     ]
    }
   ],
   "source": [
    "w = np.random.randn() # slope     m\n",
    "b = np.random.randn() # intercept c\n",
    "\n",
    "print(w,b)\n"
   ]
  },
  {
   "cell_type": "code",
   "execution_count": 5,
   "metadata": {},
   "outputs": [
    {
     "data": {
      "image/png": "[encoded data removed]",
      "text/plain": [
       "<Figure size 432x288 with 1 Axes>"
      ]
     },
     "metadata": {
      "needs_background": "light"
     },
     "output_type": "display_data"
    }
   ],
   "source": [
    "# y' = m*x + c\n",
    "preds = w*features + b\n",
    "\n",
    "plt.scatter(features, labels)\n",
    "plt.plot(features, preds, color=\"purple\")\n",
    "plt.show()"
   ]
  },
  {
   "cell_type": "code",
   "execution_count": 6,
   "metadata": {},
   "outputs": [
    {
     "name": "stdout",
     "output_type": "stream",
     "text": [
      "183.88371343428662\n"
     ]
    }
   ],
   "source": [
    "def mse(preds, labels):\n",
    "    return np.sum((preds - labels)**2)/len(labels) # mean squared error\n",
    "loss = mse(preds, labels)\n",
    "print(loss)"
   ]
  },
  {
   "cell_type": "code",
   "execution_count": 7,
   "metadata": {},
   "outputs": [
    {
     "name": "stdout",
     "output_type": "stream",
     "text": [
      "-9.133054914992695 -12.968458639623911\n"
     ]
    }
   ],
   "source": [
    "# decrease loss to the weight graph using gradient descent\n",
    "# -(y - y')* x <---- weight gradient/slope\n",
    "# -(y - y')    <---- bias gradient/intercept\n",
    "\n",
    "w_grad = np.sum(-1*(labels - preds) * features)/len(labels)\n",
    "b_grad = np.sum(-1*(labels - preds))/len(labels)\n",
    "\n",
    "print(w_grad, b_grad)"
   ]
  },
  {
   "cell_type": "code",
   "execution_count": 8,
   "metadata": {},
   "outputs": [],
   "source": [
    "lr = 0.1\n",
    "\n",
    "if w_grad < 0:\n",
    "    w += lr\n",
    "else:\n",
    "    w -= lr\n",
    "\n",
    "if b_grad < 0:\n",
    "    b += lr\n",
    "else:\n",
    "    b -= lr"
   ]
  },
  {
   "cell_type": "code",
   "execution_count": 12,
   "metadata": {},
   "outputs": [
    {
     "name": "stdout",
     "output_type": "stream",
     "text": [
      "-21.880015497313632 27.93496125701483\n"
     ]
    }
   ],
   "source": [
    "w = -21.880015497313632\n",
    "b = 27.93496125701483\n",
    "print(w, b)"
   ]
  },
  {
   "cell_type": "code",
   "execution_count": 10,
   "metadata": {},
   "outputs": [],
   "source": [
    "# for i in range(1000):\n",
    "#     w_grad = np.sum(-1*(labels - preds) * features)/len(labels)\n",
    "#     b_grad = np.sum(-1*(labels - preds))/len(labels)\n",
    "\n",
    "#     lr = 0.001\n",
    "\n",
    "#     if w_grad < 0:\n",
    "#         w += lr\n",
    "#     else:\n",
    "#         w -= lr\n",
    "\n",
    "#     if b_grad < 0:\n",
    "#         b += lr\n",
    "#     else:\n",
    "#         b -= lr\n",
    "\n",
    "#     preds = w*features + b\n",
    "\n",
    "#     loss = mse(preds, labels)\n",
    "#     print(loss)\n"
   ]
  },
  {
   "cell_type": "code",
   "execution_count": 13,
   "metadata": {},
   "outputs": [
    {
     "name": "stdout",
     "output_type": "stream",
     "text": [
      "5.737101238532642\n"
     ]
    },
    {
     "data": {
      "image/png": "[encoded data removed]",
      "text/plain": [
       "<Figure size 432x288 with 1 Axes>"
      ]
     },
     "metadata": {
      "needs_background": "light"
     },
     "output_type": "display_data"
    }
   ],
   "source": [
    "preds = w*features + b\n",
    "\n",
    "loss = mse(preds, labels)\n",
    "print(loss)\n",
    "\n",
    "plt.scatter(features, labels)\n",
    "plt.plot(features, preds, color=\"purple\")\n",
    "plt.show()"
   ]
  },
  {
   "cell_type": "code",
   "execution_count": 43,
   "metadata": {},
   "outputs": [
    {
     "name": "stdout",
     "output_type": "stream",
     "text": [
      "0.66\n",
      "13.494151028787833 22.8444444444444\n"
     ]
    }
   ],
   "source": [
    "test_data = pd.read_csv(\"../weather.csv\")\n",
    "i = 50000\n",
    "x = test_data[\"Humidity\"][i]\n",
    "print(x)\n",
    "pred = w*x + b\n",
    "\n",
    "print(pred, test_data[\"Temperature (C)\"][i])"
   ]
  },
  {
   "cell_type": "code",
   "execution_count": null,
   "metadata": {},
   "outputs": [],
   "source": []
  }
 ],
 "metadata": {
  "kernelspec": {
   "display_name": "Python 3.8.10 64-bit",
   "language": "python",
   "name": "python3"
  },
  "language_info": {
   "codemirror_mode": {
    "name": "ipython",
    "version": 3
   },
   "file_extension": ".py",
   "mimetype": "text/x-python",
   "name": "python",
   "nbconvert_exporter": "python",
   "pygments_lexer": "ipython3",
   "version": "3.8.10"
  },
  "orig_nbformat": 4,
  "vscode": {
   "interpreter": {
    "hash": "df0893f56f349688326838aaeea0de204df53a132722cbd565e54b24a8fec5f6"
   }
  }
 },
 "nbformat": 4,
 "nbformat_minor": 2
}
