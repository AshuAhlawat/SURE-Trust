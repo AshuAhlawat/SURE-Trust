{
 "cells": [
  {
   "cell_type": "code",
   "execution_count": 2,
   "metadata": {},
   "outputs": [],
   "source": [
    "import pandas as pd\n",
    "from matplotlib import pyplot as plt\n",
    "import numpy as np"
   ]
  },
  {
   "cell_type": "code",
   "execution_count": 9,
   "metadata": {},
   "outputs": [
    {
     "data": {
      "image/png": "[encoded data removed]",
      "text/plain": [
       "<Figure size 432x288 with 1 Axes>"
      ]
     },
     "metadata": {
      "needs_background": "light"
     },
     "output_type": "display_data"
    }
   ],
   "source": [
    "# reading some samples of the dataset \n",
    "dataset = pd.read_csv(\"../weather.csv\")[:25]\n",
    "\n",
    "# humidity will be our feature\n",
    "features = np.array(dataset[\"Humidity\"])\n",
    "# and temprature our label]\n",
    "labels = np.array(dataset['Temperature (C)'])\n",
    "\n",
    "plt.scatter(features,labels)\n",
    "plt.show()"
   ]
  },
  {
   "cell_type": "code",
   "execution_count": 10,
   "metadata": {},
   "outputs": [
    {
     "name": "stdout",
     "output_type": "stream",
     "text": [
      "-1.0846632575578394 -0.13720777675381324\n"
     ]
    }
   ],
   "source": [
    "w = np.random.randn() # slope     m\n",
    "b = np.random.randn() # intercept c\n",
    "\n",
    "print(w,b)\n"
   ]
  },
  {
   "cell_type": "code",
   "execution_count": 11,
   "metadata": {},
   "outputs": [
    {
     "data": {
      "image/png": "[encoded data removed]",
      "text/plain": [
       "<Figure size 432x288 with 1 Axes>"
      ]
     },
     "metadata": {
      "needs_background": "light"
     },
     "output_type": "display_data"
    }
   ],
   "source": [
    "# y' = m*x + c\n",
    "preds = w*features + b\n",
    "# here we make our predictions and plot them as a line\n",
    "plt.scatter(features, labels)\n",
    "plt.plot(features, preds, color=\"purple\")\n",
    "plt.show()"
   ]
  },
  {
   "cell_type": "code",
   "execution_count": 12,
   "metadata": {},
   "outputs": [
    {
     "name": "stdout",
     "output_type": "stream",
     "text": [
      "188.40747241523422\n"
     ]
    }
   ],
   "source": [
    "\n",
    "def mse(preds, labels):\n",
    "    return np.sum((preds - labels)**2)/len(labels) # mean squared error\n",
    "loss = mse(preds, labels)\n",
    "print(loss)"
   ]
  },
  {
   "cell_type": "code",
   "execution_count": 13,
   "metadata": {},
   "outputs": [
    {
     "name": "stdout",
     "output_type": "stream",
     "text": [
      "-18.424474905222798 -26.62506280525874\n"
     ]
    }
   ],
   "source": [
    "# decrease loss to the weight graph using gradient descent\n",
    "# 2*(y - y')*(-x) <---- weight gradient/slope\n",
    "# 2*(y - y')*(-1) <---- bias gradient/intercept\n",
    "\n",
    "w_grad = np.sum(-2*(labels - preds) * features)/len(labels)\n",
    "b_grad = np.sum(-2*(labels - preds))/len(labels)\n",
    "\n",
    "print(w_grad, b_grad)"
   ]
  },
  {
   "cell_type": "code",
   "execution_count": 15,
   "metadata": {},
   "outputs": [],
   "source": [
    "lr = 0.001 # something to reduce the scale of the jump\n",
    "\n",
    "if w_grad < 0:\n",
    "    w += lr\n",
    "else:\n",
    "    w -= lr\n",
    "\n",
    "if b_grad < 0:\n",
    "    b += lr\n",
    "else:\n",
    "    b -= lr"
   ]
  },
  {
   "cell_type": "code",
   "execution_count": 14,
   "metadata": {},
   "outputs": [],
   "source": [
    "lr = 0.001 # something to reduce the scale of the jump\n",
    "\n",
    "w -= lr*w_grad\n",
    "b -= lr*b_grad\n",
    "\n",
    "print(w,b)"
   ]
  },
  {
   "cell_type": "code",
   "execution_count": 15,
   "metadata": {},
   "outputs": [
    {
     "name": "stdout",
     "output_type": "stream",
     "text": [
      "-1.0662387826526167 -0.1105827139485545\n"
     ]
    }
   ],
   "source": [
    "# w = -21.880015497313632\n",
    "# b = 27.93496125701483\n",
    "print(w, b)"
   ]
  },
  {
   "cell_type": "code",
   "execution_count": 16,
   "metadata": {},
   "outputs": [
    {
     "name": "stdout",
     "output_type": "stream",
     "text": [
      "187.36071912397495\n"
     ]
    }
   ],
   "source": [
    "preds = w*features + b\n",
    "loss = mse(preds, labels)\n",
    "print(loss)"
   ]
  },
  {
   "cell_type": "code",
   "execution_count": 25,
   "metadata": {},
   "outputs": [
    {
     "name": "stdout",
     "output_type": "stream",
     "text": [
      "2.069566917745313\n",
      "2.0695346097041725\n",
      "2.0695038394744207\n",
      "2.069474533858679\n",
      "2.0694466231436484\n",
      "2.069420040934277\n",
      "2.069394723995804\n",
      "2.069370612103349\n",
      "2.069347647898635\n",
      "2.0693257767535522\n",
      "2.0693049466402007\n",
      "2.069285108007124\n",
      "2.0692662136614373\n",
      "2.069248218656564\n",
      "2.0692310801853093\n",
      "2.069214757478036\n",
      "2.0691992117056763\n",
      "2.069184405887362\n",
      "2.069170304802458\n",
      "2.069156874906774\n",
      "2.0691440842527715\n",
      "2.0691319024135617\n",
      "2.0691203004105283\n",
      "2.069109250644392\n",
      "2.0690987268295555\n",
      "2.069088703931571\n",
      "2.069079158107595\n",
      "2.0690700666496613\n",
      "2.0690614079306706\n",
      "2.0690531613529353\n",
      "2.069045307299188\n",
      "2.0690378270859116\n",
      "2.0690307029188926\n",
      "2.069023917850897\n",
      "2.0690174557413497\n",
      "2.0690113012179427\n",
      "2.069005439640062\n",
      "2.068999857063969\n",
      "2.068994540209622\n",
      "2.068989476429088\n",
      "2.0689846536764556\n",
      "2.06898006047918\n",
      "2.068975685910792\n",
      "2.0689715195649043\n",
      "2.0689675515304553\n",
      "2.0689637723681362\n",
      "2.0689601730879352\n",
      "2.0689567451277493\n",
      "2.068953480333017\n",
      "2.068950370937324\n",
      "2.0689474095439215\n",
      "2.0689445891081357\n",
      "2.0689419029206095\n",
      "2.0689393445913384\n",
      "2.06893690803447\n",
      "2.0689345874538376\n",
      "2.0689323773291526\n",
      "2.068930272402889\n",
      "2.0689282676677676\n",
      "2.068926358354852\n",
      "2.068924539922194\n",
      "2.0689228080440394\n",
      "2.068921158600531\n",
      "2.068919587667912\n",
      "2.068918091509187\n",
      "2.0689166665652374\n",
      "2.0689153094463566\n",
      "2.0689140169241758\n",
      "2.068912785923995\n",
      "2.068911613517465\n",
      "2.0689104969156222\n",
      "2.068909433462252\n",
      "2.068908420627571\n",
      "2.068907456002212\n",
      "2.0689065372914843\n",
      "2.068905662309927\n",
      "2.068904828976099\n",
      "2.0689040353076398\n",
      "2.068903279416534\n",
      "2.068902559504645\n",
      "2.0689018738594163\n",
      "2.0689012208498103\n",
      "2.0689005989224234\n",
      "2.0689000065977914\n",
      "2.06889944246687\n",
      "2.0688989051876843\n",
      "2.068898393482132\n",
      "2.0688979061329515\n",
      "2.0688974419808166\n",
      "2.068896999921585\n",
      "2.068896578903671\n",
      "2.068896177925539\n",
      "2.0688957960333303\n",
      "2.068895432318581\n",
      "2.0688950859160764\n",
      "2.068894756001782\n",
      "2.068894441790882\n",
      "2.0688941425359215\n",
      "2.0688938575250204\n",
      "2.068893586080185\n"
     ]
    }
   ],
   "source": [
    "lr = 0.001\n",
    "\n",
    "for i in range(100000):\n",
    "    w_grad = np.sum(-2*(labels - preds) * features)/len(labels)\n",
    "    b_grad = np.sum(-2*(labels - preds))/len(labels)\n",
    "\n",
    "    w -= lr*w_grad\n",
    "    b -= lr*b_grad\n",
    "\n",
    "    preds = w*features + b\n",
    "    # to print out loss every 100th loop\n",
    "    if (i+1)%1000 == 0:\n",
    "        loss = mse(preds, labels)\n",
    "        print(loss)\n"
   ]
  },
  {
   "cell_type": "code",
   "execution_count": 26,
   "metadata": {},
   "outputs": [
    {
     "name": "stdout",
     "output_type": "stream",
     "text": [
      "2.068893586080185\n"
     ]
    },
    {
     "data": {
      "image/png": "[encoded data removed]",
      "text/plain": [
       "<Figure size 432x288 with 1 Axes>"
      ]
     },
     "metadata": {
      "needs_background": "light"
     },
     "output_type": "display_data"
    }
   ],
   "source": [
    "preds = w*features + b\n",
    "\n",
    "loss = mse(preds, labels)\n",
    "print(loss)\n",
    "\n",
    "plt.scatter(features, labels)\n",
    "plt.plot(features, preds, color=\"purple\")\n",
    "plt.show()"
   ]
  },
  {
   "cell_type": "code",
   "execution_count": 43,
   "metadata": {},
   "outputs": [
    {
     "name": "stdout",
     "output_type": "stream",
     "text": [
      "0.66\n",
      "13.494151028787833 22.8444444444444\n"
     ]
    }
   ],
   "source": [
    "test_data = pd.read_csv(\"../weather.csv\")\n",
    "i = 50000\n",
    "x = test_data[\"Humidity\"][i]\n",
    "print(x)\n",
    "pred = w*x + b\n",
    "\n",
    "print(pred, test_data[\"Temperature (C)\"][i])"
   ]
  },
  {
   "cell_type": "code",
   "execution_count": null,
   "metadata": {},
   "outputs": [],
   "source": []
  }
 ],
 "metadata": {
  "kernelspec": {
   "display_name": "Python 3.8.10 64-bit",
   "language": "python",
   "name": "python3"
  },
  "language_info": {
   "codemirror_mode": {
    "name": "ipython",
    "version": 3
   },
   "file_extension": ".py",
   "mimetype": "text/x-python",
   "name": "python",
   "nbconvert_exporter": "python",
   "pygments_lexer": "ipython3",
   "version": "3.8.10"
  },
  "orig_nbformat": 4,
  "vscode": {
   "interpreter": {
    "hash": "df0893f56f349688326838aaeea0de204df53a132722cbd565e54b24a8fec5f6"
   }
  }
 },
 "nbformat": 4,
 "nbformat_minor": 2
}
