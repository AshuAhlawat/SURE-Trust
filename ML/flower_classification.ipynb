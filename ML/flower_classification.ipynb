{
 "cells": [
  {
   "cell_type": "code",
   "execution_count": 26,
   "metadata": {},
   "outputs": [],
   "source": [
    "import torch\n",
    "import pandas as pd\n",
    "import numpy as np\n",
    "from sklearn.preprocessing import StandardScaler as ss\n",
    "from sklearn.utils import shuffle"
   ]
  },
  {
   "cell_type": "code",
   "execution_count": 27,
   "metadata": {},
   "outputs": [
    {
     "name": "stdout",
     "output_type": "stream",
     "text": [
      "['Iris-setosa' 'Iris-versicolor' 'Iris-virginica']\n"
     ]
    }
   ],
   "source": [
    "data = pd.read_csv(\"../iris.csv\")\n",
    "data = data.drop([\"Id\"], axis=1)\n",
    "\n",
    "un_labels = data[\"Species\"].unique()\n",
    "# for i in data[\"Species\"].unique():\n",
    "#     print(sum(data[\"Species\"]==i))\n",
    "\n",
    "data = shuffle(data)\n",
    "labels = data.pop(\"Species\")\n",
    "labels = np.array(labels)\n",
    "\n",
    "data = ss().fit_transform(data)\n",
    "print(un_labels)"
   ]
  },
  {
   "cell_type": "code",
   "execution_count": 28,
   "metadata": {},
   "outputs": [
    {
     "data": {
      "text/plain": [
       "array([[0., 1., 0.],\n",
       "       [1., 0., 0.],\n",
       "       [0., 0., 1.],\n",
       "       [0., 1., 0.],\n",
       "       [1., 0., 0.],\n",
       "       [0., 1., 0.],\n",
       "       [0., 0., 1.],\n",
       "       [0., 1., 0.],\n",
       "       [0., 1., 0.],\n",
       "       [0., 0., 1.]])"
      ]
     },
     "execution_count": 28,
     "metadata": {},
     "output_type": "execute_result"
    }
   ],
   "source": [
    "ohe_labels = np.zeros((len(labels), len(un_labels)))\n",
    "\n",
    "for i in range(len(un_labels)):\n",
    "    x = np.where(labels == un_labels[i])\n",
    "    ohe_labels[x,i] = 1\n",
    "\n",
    "ohe_labels[:10]"
   ]
  },
  {
   "cell_type": "code",
   "execution_count": 29,
   "metadata": {},
   "outputs": [],
   "source": [
    "features = torch.tensor(np.array(data), dtype=torch.float32)\n",
    "labels = torch.tensor(ohe_labels, dtype=torch.float32)"
   ]
  },
  {
   "cell_type": "code",
   "execution_count": 30,
   "metadata": {},
   "outputs": [
    {
     "name": "stdout",
     "output_type": "stream",
     "text": [
      "tensor([[0.2542, 0.4012, 0.3446],\n",
      "        [0.2578, 0.3313, 0.4109],\n",
      "        [0.2302, 0.4780, 0.2918],\n",
      "        [0.2516, 0.4048, 0.3436],\n",
      "        [0.2638, 0.3365, 0.3997]], grad_fn=<SliceBackward0>)\n"
     ]
    }
   ],
   "source": [
    "model = torch.nn.Sequential(\n",
    "    torch.nn.Linear(4,4),\n",
    "    torch.nn.ReLU(),\n",
    "    torch.nn.Linear(4,3),\n",
    "    torch.nn.Softmax(dim=-1)\n",
    ")\n",
    "\n",
    "preds = model(features)\n",
    "print(preds[:5])"
   ]
  },
  {
   "cell_type": "code",
   "execution_count": 31,
   "metadata": {},
   "outputs": [
    {
     "name": "stdout",
     "output_type": "stream",
     "text": [
      "tensor(0.6785, grad_fn=<BinaryCrossEntropyBackward0>)\n"
     ]
    }
   ],
   "source": [
    "loss_fn = torch.nn.BCELoss()\n",
    "opt = torch.optim.SGD(model.parameters(), lr = 1e-3)\n",
    "loss = loss_fn(preds, labels)\n",
    "print(loss)"
   ]
  },
  {
   "cell_type": "code",
   "execution_count": 32,
   "metadata": {},
   "outputs": [
    {
     "name": "stdout",
     "output_type": "stream",
     "text": [
      "(tensor([1]),)\n",
      "(tensor([2]),)\n",
      "(tensor([1]),)\n",
      "(tensor([1]),)\n",
      "(tensor([2]),)\n",
      "(tensor([1]),)\n",
      "(tensor([1]),)\n",
      "(tensor([1]),)\n",
      "(tensor([1]),)\n",
      "(tensor([1]),)\n",
      "(tensor([2]),)\n",
      "(tensor([1]),)\n",
      "(tensor([1]),)\n",
      "(tensor([1]),)\n",
      "(tensor([1]),)\n",
      "(tensor([2]),)\n",
      "(tensor([1]),)\n",
      "(tensor([2]),)\n",
      "(tensor([2]),)\n",
      "(tensor([1]),)\n",
      "(tensor([2]),)\n",
      "(tensor([1]),)\n",
      "(tensor([1]),)\n",
      "(tensor([2]),)\n",
      "(tensor([1]),)\n",
      "(tensor([1]),)\n",
      "(tensor([1]),)\n",
      "(tensor([1]),)\n",
      "(tensor([1]),)\n",
      "(tensor([1]),)\n",
      "(tensor([2]),)\n",
      "(tensor([1]),)\n",
      "(tensor([1]),)\n",
      "(tensor([1]),)\n",
      "(tensor([1]),)\n",
      "(tensor([1]),)\n",
      "(tensor([2]),)\n",
      "(tensor([1]),)\n",
      "(tensor([1]),)\n",
      "(tensor([1]),)\n",
      "(tensor([2]),)\n",
      "(tensor([2]),)\n",
      "(tensor([1]),)\n",
      "(tensor([1]),)\n",
      "(tensor([1]),)\n",
      "(tensor([1]),)\n",
      "(tensor([2]),)\n",
      "(tensor([1]),)\n",
      "(tensor([2]),)\n",
      "(tensor([1]),)\n",
      "(tensor([2]),)\n",
      "(tensor([1]),)\n",
      "(tensor([1]),)\n",
      "(tensor([2]),)\n",
      "(tensor([2]),)\n",
      "(tensor([1]),)\n",
      "(tensor([1]),)\n",
      "(tensor([2]),)\n",
      "(tensor([1]),)\n",
      "(tensor([1]),)\n",
      "(tensor([1]),)\n",
      "(tensor([2]),)\n",
      "(tensor([1]),)\n",
      "(tensor([1]),)\n",
      "(tensor([1]),)\n",
      "(tensor([1]),)\n",
      "(tensor([1]),)\n",
      "(tensor([1]),)\n",
      "(tensor([1]),)\n",
      "(tensor([1]),)\n",
      "(tensor([1]),)\n",
      "(tensor([2]),)\n",
      "(tensor([2]),)\n",
      "(tensor([1]),)\n",
      "(tensor([1]),)\n",
      "(tensor([1]),)\n",
      "(tensor([2]),)\n",
      "(tensor([1]),)\n",
      "(tensor([1]),)\n",
      "(tensor([1]),)\n",
      "(tensor([1]),)\n",
      "(tensor([2]),)\n",
      "(tensor([2]),)\n",
      "(tensor([2]),)\n",
      "(tensor([2]),)\n",
      "(tensor([1]),)\n",
      "(tensor([1]),)\n",
      "(tensor([1]),)\n",
      "(tensor([2]),)\n",
      "(tensor([1]),)\n",
      "(tensor([2]),)\n",
      "(tensor([1]),)\n",
      "(tensor([1]),)\n",
      "(tensor([2]),)\n",
      "(tensor([2]),)\n",
      "(tensor([2]),)\n",
      "(tensor([1]),)\n",
      "(tensor([1]),)\n",
      "(tensor([2]),)\n",
      "(tensor([1]),)\n",
      "(tensor([2]),)\n",
      "(tensor([2]),)\n",
      "(tensor([1]),)\n",
      "(tensor([2]),)\n",
      "(tensor([1]),)\n",
      "(tensor([1]),)\n",
      "(tensor([1]),)\n",
      "(tensor([1]),)\n",
      "(tensor([1]),)\n",
      "(tensor([2]),)\n",
      "(tensor([1]),)\n",
      "(tensor([1]),)\n",
      "(tensor([1]),)\n",
      "(tensor([2]),)\n",
      "(tensor([2]),)\n",
      "(tensor([1]),)\n",
      "(tensor([1]),)\n",
      "(tensor([1]),)\n",
      "(tensor([1]),)\n",
      "(tensor([1]),)\n",
      "(tensor([1]),)\n",
      "(tensor([2]),)\n",
      "(tensor([1]),)\n",
      "(tensor([1]),)\n",
      "(tensor([2]),)\n",
      "(tensor([1]),)\n",
      "(tensor([2]),)\n",
      "(tensor([1]),)\n",
      "(tensor([2]),)\n",
      "(tensor([1]),)\n",
      "(tensor([2]),)\n",
      "(tensor([1]),)\n",
      "(tensor([1]),)\n",
      "(tensor([1]),)\n",
      "(tensor([2]),)\n",
      "(tensor([1]),)\n",
      "(tensor([2]),)\n",
      "(tensor([1]),)\n",
      "(tensor([1]),)\n",
      "(tensor([2]),)\n",
      "(tensor([2]),)\n",
      "(tensor([1]),)\n",
      "(tensor([1]),)\n",
      "(tensor([1]),)\n",
      "(tensor([2]),)\n",
      "(tensor([1]),)\n",
      "(tensor([1]),)\n",
      "(tensor([2]),)\n",
      "(tensor([2]),)\n",
      "(tensor([2]),)\n"
     ]
    }
   ],
   "source": [
    "# epochs = 1\n",
    "# for epoch in range(epochs):\n",
    "\n",
    "preds = model(features)\n",
    "\n",
    "for i in range(len(preds)):\n",
    "    pred_index = torch.where(preds[i]==preds[i].max())\n",
    "    "
   ]
  }
 ],
 "metadata": {
  "kernelspec": {
   "display_name": "Python 3.8.10 64-bit",
   "language": "python",
   "name": "python3"
  },
  "language_info": {
   "codemirror_mode": {
    "name": "ipython",
    "version": 3
   },
   "file_extension": ".py",
   "mimetype": "text/x-python",
   "name": "python",
   "nbconvert_exporter": "python",
   "pygments_lexer": "ipython3",
   "version": "3.8.10"
  },
  "orig_nbformat": 4,
  "vscode": {
   "interpreter": {
    "hash": "df0893f56f349688326838aaeea0de204df53a132722cbd565e54b24a8fec5f6"
   }
  }
 },
 "nbformat": 4,
 "nbformat_minor": 2
}
