{
 "cells": [
  {
   "cell_type": "code",
   "execution_count": 1,
   "metadata": {},
   "outputs": [],
   "source": [
    "import torch\n",
    "from torch.nn.functional import mse_loss\n",
    "\n",
    "import numpy as np\n",
    "import pandas as pd\n",
    "\n",
    "from sklearn.preprocessing import StandardScaler"
   ]
  },
  {
   "cell_type": "code",
   "execution_count": 2,
   "metadata": {},
   "outputs": [
    {
     "name": "stdout",
     "output_type": "stream",
     "text": [
      "(1649, 20)\n",
      "tensor([[ 0.7566,  0.2437, -1.1229, -0.3569, -0.5554, -0.1062, -0.9636,  0.2381,\n",
      "         -3.4560,  0.9588, -0.8879, -0.3124, -0.4342,  0.2709,  2.6859,  2.6637,\n",
      "         -0.8335, -0.7228, -0.4147,  0.4147],\n",
      "        [ 0.8205,  0.2603, -1.1229, -0.3556, -0.6726, -0.1718, -0.9889,  0.2566,\n",
      "         -1.1391,  0.9675, -1.0270, -0.3124, -0.4318, -0.2034,  2.7512,  2.7066,\n",
      "         -0.8499, -0.7586, -0.4147,  0.4147],\n",
      "        [ 0.7965,  0.2769, -1.1229, -0.3558, -0.5945, -0.1780, -1.0142,  0.2750,\n",
      "         -0.9608,  0.9458, -0.9343, -0.3124, -0.4301,  0.2425,  2.7947,  2.7496,\n",
      "         -0.8826, -0.7944, -0.4147,  0.4147],\n",
      "        [ 0.8285,  0.3017, -1.1229, -0.3530, -0.4773,  0.0558, -1.0395,  0.2995,\n",
      "         -0.7380,  1.1155, -0.7952, -0.3124, -0.4268, -0.1555,  2.8382,  2.8141,\n",
      "         -0.9209, -0.8302, -0.4147,  0.4147],\n",
      "        [ 0.8524,  0.3182, -1.1229, -0.3934, -0.4382,  0.0782, -1.0598,  0.3241,\n",
      "         -0.6935,  0.8327, -0.7489, -0.3124, -0.4796, -0.1657,  2.9034,  2.8571,\n",
      "         -0.9700, -0.9375, -0.4147,  0.4147]])\n"
     ]
    }
   ],
   "source": [
    "\n",
    "data = pd.read_csv(\"../life_expectancy.csv\")\n",
    "dataset = data.drop([\"Country\",\"Year\"], axis=1).dropna()[:2000]\n",
    "print(dataset.shape)\n",
    "\n",
    "\n",
    "labels = dataset[\"Life\"]\n",
    "\n",
    "features = dataset.drop(\"Life\",axis=1)\n",
    "# print(features.info())\n",
    "\n",
    "features = pd.get_dummies(features)\n",
    "\n",
    "\n",
    "# print(features.info())\n",
    "nplabels = np.array(labels).reshape(-1,1)\n",
    "npfeatures = np.array(features)\n",
    "\n",
    "npfeatures = StandardScaler().fit_transform(npfeatures)\n",
    "\n",
    "features = torch.tensor(npfeatures, dtype = torch.float32)\n",
    "labels = torch.tensor(nplabels,dtype = torch.float32)\n",
    "# print(features.shape)\n",
    "\n",
    "\n",
    "print(features[:5])"
   ]
  },
  {
   "cell_type": "code",
   "execution_count": 3,
   "metadata": {},
   "outputs": [
    {
     "name": "stdout",
     "output_type": "stream",
     "text": [
      "Parameter containing:\n",
      "tensor([[ 0.0492,  0.1206, -0.1647,  0.0469,  0.2122,  0.1007, -0.0068,  0.0553,\n",
      "          0.0147, -0.1226, -0.1166, -0.0341,  0.0458,  0.0638,  0.0239, -0.0163,\n",
      "          0.0504,  0.1226, -0.1750,  0.0815]], requires_grad=True)\n",
      "Parameter containing:\n",
      "tensor([0.2180], requires_grad=True)\n",
      "tensor([[ 0.2839],\n",
      "        [ 0.2735],\n",
      "        [ 0.3088],\n",
      "        ...,\n",
      "        [-0.1744],\n",
      "        [ 0.1961],\n",
      "        [ 0.1675]], grad_fn=<AddmmBackward0>)\n"
     ]
    }
   ],
   "source": [
    "\n",
    "model = torch.nn.Linear(20, 1)\n",
    "\n",
    "print(model.weight)\n",
    "print(model.bias)\n",
    "preds=model(features)\n",
    "print(preds)\n"
   ]
  },
  {
   "cell_type": "code",
   "execution_count": 5,
   "metadata": {},
   "outputs": [
    {
     "name": "stdout",
     "output_type": "stream",
     "text": [
      "100 tensor(13.3120, grad_fn=<MseLossBackward0>)\n",
      "200 tensor(13.3120, grad_fn=<MseLossBackward0>)\n",
      "300 tensor(13.3120, grad_fn=<MseLossBackward0>)\n",
      "400 tensor(13.3120, grad_fn=<MseLossBackward0>)\n",
      "500 tensor(13.3120, grad_fn=<MseLossBackward0>)\n",
      "600 tensor(13.3120, grad_fn=<MseLossBackward0>)\n",
      "700 tensor(13.3120, grad_fn=<MseLossBackward0>)\n",
      "800 tensor(13.3120, grad_fn=<MseLossBackward0>)\n",
      "900 tensor(13.3120, grad_fn=<MseLossBackward0>)\n",
      "1000 tensor(13.3120, grad_fn=<MseLossBackward0>)\n"
     ]
    }
   ],
   "source": [
    "\n",
    "optimizer = torch.optim.SGD(model.parameters(), lr=1e-6)\n",
    "\n",
    "epochs = 1000\n",
    "for epoch in range(epochs):\n",
    "    preds = model(features)\n",
    "    loss = mse_loss(preds, labels)\n",
    "    \n",
    "    if (epoch+1)%100 == 0:\n",
    "        print(epoch+1,loss)\n",
    "\n",
    "    loss.backward()\n",
    "    \n",
    "    optimizer.step()\n",
    "    optimizer.zero_grad()\n",
    "\n",
    "# 5000 - 1500\n",
    "# 10000 - 1350\n",
    "# 50K - 1100"
   ]
  },
  {
   "cell_type": "code",
   "execution_count": 13,
   "metadata": {},
   "outputs": [
    {
     "name": "stdout",
     "output_type": "stream",
     "text": [
      "tensor([77.5349], grad_fn=<AddBackward0>) tensor([78.9000])\n"
     ]
    }
   ],
   "source": [
    "index = 346\n",
    "\n",
    "pred = model(features[index])\n",
    "\n",
    "print(pred, labels[index])"
   ]
  }
 ],
 "metadata": {
  "kernelspec": {
   "display_name": "Python 3.8.10 64-bit",
   "language": "python",
   "name": "python3"
  },
  "language_info": {
   "codemirror_mode": {
    "name": "ipython",
    "version": 3
   },
   "file_extension": ".py",
   "mimetype": "text/x-python",
   "name": "python",
   "nbconvert_exporter": "python",
   "pygments_lexer": "ipython3",
   "version": "3.8.10"
  },
  "orig_nbformat": 4,
  "vscode": {
   "interpreter": {
    "hash": "df0893f56f349688326838aaeea0de204df53a132722cbd565e54b24a8fec5f6"
   }
  }
 },
 "nbformat": 4,
 "nbformat_minor": 2
}
