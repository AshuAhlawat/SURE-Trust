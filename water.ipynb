{
 "cells": [
  {
   "cell_type": "code",
   "execution_count": 53,
   "metadata": {},
   "outputs": [],
   "source": [
    "import numpy as np\n",
    "import pandas as pd\n",
    "import torch\n",
    "from sklearn.preprocessing import StandardScaler as ss\n",
    "from sklearn.utils import shuffle"
   ]
  },
  {
   "cell_type": "code",
   "execution_count": 55,
   "metadata": {},
   "outputs": [
    {
     "data": {
      "text/plain": [
       "(2011, 10)"
      ]
     },
     "execution_count": 55,
     "metadata": {},
     "output_type": "execute_result"
    }
   ],
   "source": [
    "data = pd.read_csv(\"./water_potability.csv\")\n",
    "features=data.dropna(axis=0)\n",
    "features.shape"
   ]
  },
  {
   "cell_type": "code",
   "execution_count": 56,
   "metadata": {},
   "outputs": [],
   "source": [
    "labels = features.pop(\"Potability\")"
   ]
  },
  {
   "cell_type": "code",
   "execution_count": 57,
   "metadata": {},
   "outputs": [],
   "source": [
    "features = np.array(features)\n",
    "labels = np.array(labels).reshape(-1,1)"
   ]
  },
  {
   "cell_type": "code",
   "execution_count": 58,
   "metadata": {},
   "outputs": [
    {
     "data": {
      "text/plain": [
       "array([[ 0.7824658 ,  0.56411376,  0.01168692, ...,  1.22703167,\n",
       "         2.11165179,  0.84476056],\n",
       "       [ 1.27546291, -0.45565257, -0.45583491, ..., -0.84215371,\n",
       "        -2.14039865,  0.13503344],\n",
       "       [-0.95483488, -0.23461412,  0.7906452 , ..., -1.79234008,\n",
       "        -0.7144228 , -1.80736621],\n",
       "       ...,\n",
       "       [ 2.8004919 , -3.10036538,  1.76750279, ...,  0.54602107,\n",
       "        -1.5455849 ,  0.51212515],\n",
       "       [-0.64615977, -0.28531709,  0.48857575, ..., -0.6889287 ,\n",
       "        -0.3721083 , -0.3845623 ],\n",
       "       [-1.53717226, -0.07007504,  2.9702871 , ..., -0.139372  ,\n",
       "         0.01784567,  0.59743748]])"
      ]
     },
     "execution_count": 58,
     "metadata": {},
     "output_type": "execute_result"
    }
   ],
   "source": [
    "features = ss().fit_transform(features)\n",
    "features"
   ]
  },
  {
   "cell_type": "code",
   "execution_count": 59,
   "metadata": {},
   "outputs": [
    {
     "name": "stdout",
     "output_type": "stream",
     "text": [
      "torch.Size([2011, 9]) torch.Size([2011, 1])\n"
     ]
    }
   ],
   "source": [
    "features = torch.tensor(features, dtype=torch.float32)\n",
    "labels = torch.tensor(labels, dtype=torch.float32)\n",
    "print(features.shape,labels.shape)"
   ]
  },
  {
   "cell_type": "code",
   "execution_count": 60,
   "metadata": {},
   "outputs": [],
   "source": [
    "model = torch.nn.Sequential(\n",
    "    torch.nn.Linear(9,6),\n",
    "    torch.nn.ReLU(),\n",
    "    torch.nn.Linear(6,3),\n",
    "    torch.nn.ReLU(),\n",
    "    torch.nn.Linear(3,1),\n",
    "    torch.nn.Sigmoid()\n",
    ")"
   ]
  },
  {
   "cell_type": "code",
   "execution_count": 61,
   "metadata": {},
   "outputs": [],
   "source": [
    "loss_fn = torch.nn.BCELoss()\n",
    "opt = torch.optim.SGD(model.parameters(), lr=1e-3)"
   ]
  },
  {
   "cell_type": "code",
   "execution_count": 63,
   "metadata": {},
   "outputs": [
    {
     "name": "stdout",
     "output_type": "stream",
     "text": [
      "Loss : 0.6734516620635986\n",
      "Accuracy : 59.67%\n",
      "Loss : 0.6724491715431213\n",
      "Accuracy : 59.67%\n",
      "Loss : 0.6708608269691467\n",
      "Accuracy : 59.67%\n",
      "Loss : 0.6678568124771118\n",
      "Accuracy : 59.67%\n",
      "Loss : 0.6621227860450745\n",
      "Accuracy : 60.82%\n",
      "Loss : 0.6537932753562927\n",
      "Accuracy : 62.46%\n",
      "Loss : 0.6455231308937073\n",
      "Accuracy : 63.5%\n",
      "Loss : 0.6396124362945557\n",
      "Accuracy : 63.55%\n",
      "Loss : 0.6339653730392456\n",
      "Accuracy : 63.45%\n",
      "Loss : 0.6257124543190002\n",
      "Accuracy : 63.55%\n"
     ]
    }
   ],
   "source": [
    "epochs = 100000\n",
    "\n",
    "for epoch in range(epochs):\n",
    "    preds = model(features)\n",
    "    loss = loss_fn(preds,labels)\n",
    "\n",
    "    loss.backward()\n",
    "\n",
    "    opt.step()\n",
    "    opt.zero_grad()\n",
    "\n",
    "    with torch.no_grad():\n",
    "        if (epoch+1)%(epochs//10) == 0:\n",
    "            right = 0\n",
    "            for i in range(len(preds)):\n",
    "                if preds[i][0] >= 0.5:\n",
    "                    preds[i][0] = 1\n",
    "                else:\n",
    "                    preds[i][0] = 0\n",
    "\n",
    "                if preds[i][0] == labels[i][0]:\n",
    "                    right += 1\n",
    "\n",
    "\n",
    "            print(f\"Loss : {loss}\")\n",
    "            print(f\"Accuracy : {round(right * 100/ len(preds), 3)}%\")"
   ]
  }
 ],
 "metadata": {
  "kernelspec": {
   "display_name": "Python 3.8.10 64-bit",
   "language": "python",
   "name": "python3"
  },
  "language_info": {
   "codemirror_mode": {
    "name": "ipython",
    "version": 3
   },
   "file_extension": ".py",
   "mimetype": "text/x-python",
   "name": "python",
   "nbconvert_exporter": "python",
   "pygments_lexer": "ipython3",
   "version": "3.8.10"
  },
  "orig_nbformat": 4,
  "vscode": {
   "interpreter": {
    "hash": "df0893f56f349688326838aaeea0de204df53a132722cbd565e54b24a8fec5f6"
   }
  }
 },
 "nbformat": 4,
 "nbformat_minor": 2
}
