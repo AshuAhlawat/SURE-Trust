{
 "cells": [
  {
   "cell_type": "code",
   "execution_count": 12,
   "metadata": {},
   "outputs": [],
   "source": [
    "import torch\n",
    "from torch.nn.functional import mse_loss\n",
    "from torch.utils.data.dataloader import DataLoader\n",
    "\n",
    "import numpy as np\n",
    "import pandas as pd\n",
    "\n",
    "from sklearn.preprocessing import StandardScaler"
   ]
  },
  {
   "cell_type": "code",
   "execution_count": 13,
   "metadata": {},
   "outputs": [],
   "source": [
    "data = pd.read_csv(\"../life_expectancy.csv\")\n",
    "\n",
    "train_dataset = data.drop([\"Country\",\"Year\"], axis=1).dropna()[:1500]\n",
    "test_dataset = data.drop([\"Country\",\"Year\"], axis=1).dropna()[1500:]"
   ]
  },
  {
   "cell_type": "code",
   "execution_count": 20,
   "metadata": {},
   "outputs": [
    {
     "name": "stdout",
     "output_type": "stream",
     "text": [
      "torch.Size([100, 20])\n",
      "torch.Size([100, 20])\n",
      "torch.Size([100, 20])\n",
      "torch.Size([100, 20])\n",
      "torch.Size([100, 20])\n",
      "torch.Size([100, 20])\n",
      "torch.Size([100, 20])\n",
      "torch.Size([100, 20])\n",
      "torch.Size([100, 20])\n",
      "torch.Size([100, 20])\n",
      "torch.Size([100, 20])\n",
      "torch.Size([100, 20])\n",
      "torch.Size([100, 20])\n",
      "torch.Size([100, 20])\n",
      "torch.Size([100, 20])\n"
     ]
    }
   ],
   "source": [
    "train_labels = train_dataset[\"Life\"]\n",
    "\n",
    "train_features = train_dataset.drop(\"Life\",axis=1)\n",
    "# print(train_features.info())\n",
    "train_features = pd.get_dummies(train_features)\n",
    "\n",
    "\n",
    "# print(train_features.info())\n",
    "nptrain_labels = np.array(train_labels).reshape(-1,1)\n",
    "nptrain_features = np.array(train_features)\n",
    "\n",
    "nptrain_features = StandardScaler().fit_transform(nptrain_features)\n",
    "\n",
    "train_features = torch.tensor(nptrain_features, dtype = torch.float32)\n",
    "train_labels = torch.tensor(nptrain_labels,dtype = torch.float32)\n",
    "# print(train_features.shape)\n",
    "\n",
    "train_loader = DataLoader(train_features, batch_size= 100)\n",
    "\n",
    "for i in train_loader:\n",
    "    print(i.shape)\n",
    "# print(train_features[:5])"
   ]
  },
  {
   "cell_type": "code",
   "execution_count": 16,
   "metadata": {},
   "outputs": [
    {
     "name": "stdout",
     "output_type": "stream",
     "text": [
      "Parameter containing:\n",
      "tensor([[ 0.0501, -0.1472,  0.1028,  0.0888, -0.1627, -0.0938, -0.2112, -0.0226,\n",
      "          0.0107,  0.1540, -0.0023,  0.1848,  0.1181, -0.1315,  0.1420, -0.0314,\n",
      "          0.0326, -0.1462,  0.1054,  0.0921]], requires_grad=True)\n",
      "Parameter containing:\n",
      "tensor([0.1692], requires_grad=True)\n",
      "tensor([[0.6527],\n",
      "        [0.7826],\n",
      "        [0.7229],\n",
      "        ...,\n",
      "        [0.2939],\n",
      "        [0.0614],\n",
      "        [0.3025]], grad_fn=<AddmmBackward0>)\n"
     ]
    }
   ],
   "source": [
    "model = torch.nn.Linear(20, 1)\n",
    "\n",
    "print(model.weight)\n",
    "print(model.bias)\n",
    "preds=model(train_features)\n",
    "print(preds)"
   ]
  },
  {
   "cell_type": "code",
   "execution_count": 18,
   "metadata": {},
   "outputs": [
    {
     "name": "stdout",
     "output_type": "stream",
     "text": [
      "100 tensor(4891.7505, grad_fn=<MseLossBackward0>)\n",
      "200 tensor(4889.6997, grad_fn=<MseLossBackward0>)\n",
      "300 tensor(4887.6499, grad_fn=<MseLossBackward0>)\n",
      "400 tensor(4885.6016, grad_fn=<MseLossBackward0>)\n",
      "500 tensor(4883.5532, grad_fn=<MseLossBackward0>)\n",
      "600 tensor(4881.5063, grad_fn=<MseLossBackward0>)\n",
      "700 tensor(4879.4604, grad_fn=<MseLossBackward0>)\n",
      "800 tensor(4877.4165, grad_fn=<MseLossBackward0>)\n",
      "900 tensor(4875.3726, grad_fn=<MseLossBackward0>)\n",
      "1000 tensor(4873.3306, grad_fn=<MseLossBackward0>)\n"
     ]
    }
   ],
   "source": [
    "\n",
    "optimizer = torch.optim.SGD(model.parameters(), lr=1e-6)\n",
    "\n",
    "epochs = 1000\n",
    "for epoch in range(epochs):\n",
    "    preds = model(train_features)\n",
    "    loss = mse_loss(preds, train_labels)\n",
    "    \n",
    "    if (epoch+1)%100 == 0:\n",
    "        print(epoch+1,loss)\n",
    "\n",
    "    loss.backward()\n",
    "    \n",
    "    optimizer.step()\n",
    "    optimizer.zero_grad()\n",
    "\n",
    "# 5000 - 1500\n",
    "# 10000 - 1350\n",
    "# 50K - 1100"
   ]
  },
  {
   "cell_type": "code",
   "execution_count": null,
   "metadata": {},
   "outputs": [
    {
     "name": "stdout",
     "output_type": "stream",
     "text": [
      "tensor([77.5349], grad_fn=<AddBackward0>) tensor([78.9000])\n"
     ]
    }
   ],
   "source": [
    "index = 346\n",
    "\n",
    "pred = model(features[index])\n",
    "\n",
    "print(pred, labels[index])"
   ]
  }
 ],
 "metadata": {
  "kernelspec": {
   "display_name": "Python 3.8.10 64-bit",
   "language": "python",
   "name": "python3"
  },
  "language_info": {
   "codemirror_mode": {
    "name": "ipython",
    "version": 3
   },
   "file_extension": ".py",
   "mimetype": "text/x-python",
   "name": "python",
   "nbconvert_exporter": "python",
   "pygments_lexer": "ipython3",
   "version": "3.8.10"
  },
  "orig_nbformat": 4,
  "vscode": {
   "interpreter": {
    "hash": "df0893f56f349688326838aaeea0de204df53a132722cbd565e54b24a8fec5f6"
   }
  }
 },
 "nbformat": 4,
 "nbformat_minor": 2
}
