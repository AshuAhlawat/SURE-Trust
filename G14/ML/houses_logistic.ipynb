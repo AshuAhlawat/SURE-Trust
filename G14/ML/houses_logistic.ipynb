{
 "cells": [
  {
   "cell_type": "code",
   "execution_count": 1,
   "metadata": {},
   "outputs": [],
   "source": [
    "import torch\n",
    "import pandas as pd\n",
    "import numpy as mp\n",
    "from sklearn.preprocessing import StandardScaler as ss\n",
    "from sklearn.utils import shuffle"
   ]
  },
  {
   "cell_type": "code",
   "execution_count": 2,
   "metadata": {},
   "outputs": [
    {
     "name": "stdout",
     "output_type": "stream",
     "text": [
      "<class 'pandas.core.frame.DataFrame'>\n",
      "Int64Index: 2500 entries, 0 to 4513\n",
      "Data columns (total 5 columns):\n",
      " #   Column     Non-Null Count  Dtype  \n",
      "---  ------     --------------  -----  \n",
      " 0   area_type  2500 non-null   object \n",
      " 1   size       2500 non-null   object \n",
      " 2   bath       2500 non-null   float64\n",
      " 3   balcony    2500 non-null   float64\n",
      " 4   price      2500 non-null   float64\n",
      "dtypes: float64(3), object(2)\n",
      "memory usage: 117.2+ KB\n",
      "None\n",
      "    bath  balcony   price  size_1 BHK  size_1 RK  size_11 BHK  size_2 BHK  \\\n",
      "0    2.0      1.0   39.07           0          0            0           1   \n",
      "1    5.0      3.0  120.00           0          0            0           0   \n",
      "3    3.0      1.0   95.00           0          0            0           0   \n",
      "5    2.0      1.0   38.00           0          0            0           1   \n",
      "11   5.0      3.0  295.00           0          0            0           0   \n",
      "\n",
      "    size_2 Bedroom  size_3 BHK  size_3 Bedroom  size_4 BHK  size_4 Bedroom  \\\n",
      "0                0           0               0           0               0   \n",
      "1                0           0               0           0               1   \n",
      "3                0           1               0           0               0   \n",
      "5                0           0               0           0               0   \n",
      "11               0           0               0           0               1   \n",
      "\n",
      "    size_5 BHK  size_5 Bedroom  size_6 BHK  size_7 BHK  size_9 BHK  \n",
      "0            0               0           0           0           0  \n",
      "1            0               0           0           0           0  \n",
      "3            0               0           0           0           0  \n",
      "5            0               0           0           0           0  \n",
      "11           0               0           0           0           0  \n",
      "['Super built-up  Area' 'Plot  Area' 'Built-up  Area' 'Carpet  Area']\n",
      "[[1. 0. 0. 0.]\n",
      " [0. 1. 0. 0.]\n",
      " [1. 0. 0. 0.]\n",
      " ...\n",
      " [1. 0. 0. 0.]\n",
      " [1. 0. 0. 0.]\n",
      " [1. 0. 0. 0.]]\n"
     ]
    }
   ],
   "source": [
    "data = pd.read_csv(\"../houses.csv\").dropna()[:2500]\n",
    "data = data.drop([\"availability\",\"location\",\"society\",\"total_sqft\"], axis=1)\n",
    "#print(data.shape)\n",
    "\n",
    "print(data.info())\n",
    "\n",
    "\n",
    "# bad dataset, biased, bad- values\n",
    "\n",
    "label = data.pop(\"area_type\")\n",
    "data= pd.get_dummies(data)\n",
    "print(data.head())\n",
    "\n",
    "\n",
    "data = shuffle(data)\n",
    "\n",
    "un_label = label.unique()\n",
    "print(un_label)\n",
    "oh_label = mp.zeros((len(label), len(un_label)))\n",
    "\n",
    "for i in range(len(un_label)):\n",
    "    x = mp.where(label == un_label[i])\n",
    "    oh_label[x,i] = 1\n",
    "\n",
    "print(oh_label)"
   ]
  },
  {
   "cell_type": "code",
   "execution_count": null,
   "metadata": {},
   "outputs": [],
   "source": [
    "features = ss().fit_transform(data)"
   ]
  },
  {
   "cell_type": "code",
   "execution_count": 4,
   "metadata": {},
   "outputs": [],
   "source": [
    "features = ss().fit_transform(data)"
   ]
  },
  {
   "cell_type": "code",
   "execution_count": 5,
   "metadata": {},
   "outputs": [],
   "source": [
    "features = torch.tensor(features, dtype=torch.float32)\n",
    "oh_labels = torch.tensor(oh_label, dtype=torch.float32)"
   ]
  },
  {
   "cell_type": "code",
   "execution_count": 6,
   "metadata": {},
   "outputs": [
    {
     "name": "stdout",
     "output_type": "stream",
     "text": [
      "torch.Size([2500, 17]) (2500, 4)\n",
      "tensor([[ 0.6031, -0.8085,  0.1768, -0.2135, -0.0448, -0.0200, -0.9259, -0.0530,\n",
      "          1.2319, -0.1291, -0.2216, -0.1581, -0.0400, -0.0400, -0.0283, -0.0200,\n",
      "         -0.0200],\n",
      "        [ 0.6031, -0.8085,  0.4669, -0.2135, -0.0448, -0.0200, -0.9259, -0.0530,\n",
      "          1.2319, -0.1291, -0.2216, -0.1581, -0.0400, -0.0400, -0.0283, -0.0200,\n",
      "         -0.0200],\n",
      "        [-0.5146,  1.7356,  0.0801, -0.2135, -0.0448, -0.0200,  1.0800, -0.0530,\n",
      "         -0.8117, -0.1291, -0.2216, -0.1581, -0.0400, -0.0400, -0.0283, -0.0200,\n",
      "         -0.0200],\n",
      "        [-0.5146, -0.8085, -0.3929, -0.2135, -0.0448, -0.0200,  1.0800, -0.0530,\n",
      "         -0.8117, -0.1291, -0.2216, -0.1581, -0.0400, -0.0400, -0.0283, -0.0200,\n",
      "         -0.0200],\n",
      "        [ 0.6031,  1.7356,  1.0473, -0.2135, -0.0448, -0.0200, -0.9259, -0.0530,\n",
      "          1.2319, -0.1291, -0.2216, -0.1581, -0.0400, -0.0400, -0.0283, -0.0200,\n",
      "         -0.0200]])\n",
      "tensor([[1., 0., 0., 0.],\n",
      "        [0., 1., 0., 0.],\n",
      "        [1., 0., 0., 0.],\n",
      "        [1., 0., 0., 0.],\n",
      "        [0., 1., 0., 0.]])\n"
     ]
    }
   ],
   "source": [
    "print(features.shape, oh_label.shape)\n",
    "print(features[:5])\n",
    "print(oh_labels[:5])"
   ]
  },
  {
   "cell_type": "code",
   "execution_count": 7,
   "metadata": {},
   "outputs": [],
   "source": [
    "model = torch.nn.Sequential(\n",
    "    torch.nn.Linear(17, 12),\n",
    "    torch.nn.ReLU(),\n",
    "    torch.nn.Linear(12, 4),\n",
    "    torch.nn.Softmax(dim=-1)\n",
    ")\n",
    "loss_fn = torch.nn.BCELoss()"
   ]
  },
  {
   "cell_type": "code",
   "execution_count": 8,
   "metadata": {},
   "outputs": [
    {
     "data": {
      "text/plain": [
       "tensor([[0.3010, 0.2041, 0.2362, 0.2587],\n",
       "        [0.2942, 0.2059, 0.2423, 0.2576],\n",
       "        [0.2368, 0.2447, 0.2450, 0.2734],\n",
       "        ...,\n",
       "        [0.2673, 0.2230, 0.2395, 0.2702],\n",
       "        [0.2667, 0.2236, 0.2406, 0.2691],\n",
       "        [0.2724, 0.2270, 0.2653, 0.2354]], grad_fn=<SoftmaxBackward0>)"
      ]
     },
     "execution_count": 8,
     "metadata": {},
     "output_type": "execute_result"
    }
   ],
   "source": [
    "preds = model(features)\n",
    "loss = loss_fn(preds, oh_labels)\n",
    "preds"
   ]
  }
 ],
 "metadata": {
  "kernelspec": {
   "display_name": "Python 3.8.10 64-bit",
   "language": "python",
   "name": "python3"
  },
  "language_info": {
   "codemirror_mode": {
    "name": "ipython",
    "version": 3
   },
   "file_extension": ".py",
   "mimetype": "text/x-python",
   "name": "python",
   "nbconvert_exporter": "python",
   "pygments_lexer": "ipython3",
   "version": "3.8.10"
  },
  "orig_nbformat": 4,
  "vscode": {
   "interpreter": {
    "hash": "df0893f56f349688326838aaeea0de204df53a132722cbd565e54b24a8fec5f6"
   }
  }
 },
 "nbformat": 4,
 "nbformat_minor": 2
}
