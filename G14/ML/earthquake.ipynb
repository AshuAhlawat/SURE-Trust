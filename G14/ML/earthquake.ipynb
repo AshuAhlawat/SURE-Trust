{
 "cells": [
  {
   "cell_type": "code",
   "execution_count": 35,
   "metadata": {},
   "outputs": [],
   "source": [
    "import torch \n",
    "import pandas as pd\n",
    "import numpy as np\n",
    "from sklearn.utils import shuffle"
   ]
  },
  {
   "cell_type": "code",
   "execution_count": 36,
   "metadata": {},
   "outputs": [
    {
     "name": "stdout",
     "output_type": "stream",
     "text": [
      "torch.Size([199041, 24])\n"
     ]
    }
   ],
   "source": [
    "data = pd.read_csv(\"../csv_building_damage_assessment.csv\",na_values = [\"None\",\" \",\"nan\",\"\\n\"])\n",
    "data = data.drop([\"building_id\",\"district_id\",\"vdcmun_id\",\"ward_id\"],axis = 1)\n",
    "\n",
    "for column in data.columns:\n",
    "    if data[column].count() <300000:\n",
    "        data = data.drop(column,axis = 1)\n",
    "\n",
    "data = data.dropna()\n",
    "label = data.pop(\"damage_grade\")\n",
    "label = pd.get_dummies(label)\n",
    "label = np.array(label)\n",
    "\n",
    "features = pd.get_dummies(data)\n",
    "\n",
    "features = torch.tensor(np.array(features),dtype = torch.float32)\n",
    "label = torch.tensor(label,dtype = torch.float32)\n",
    "\n",
    "print(features.shape)"
   ]
  },
  {
   "cell_type": "code",
   "execution_count": 37,
   "metadata": {},
   "outputs": [],
   "source": [
    "from torch.utils.data import TensorDataset, DataLoader\n",
    "\n",
    "BATCH_SIZE = 1000\n",
    "dataset = TensorDataset(features[:199000], label[:199000])\n",
    "dataloader = DataLoader(dataset, batch_size=BATCH_SIZE, shuffle=True)"
   ]
  },
  {
   "cell_type": "code",
   "execution_count": 38,
   "metadata": {},
   "outputs": [],
   "source": [
    "model = torch.nn.Sequential(\n",
    "    torch.nn.Linear(24,60),\n",
    "    torch.nn.ReLU(),\n",
    "    torch.nn.Linear(60,30),\n",
    "    torch.nn.ReLU(),\n",
    "    torch.nn.Linear(30,15),\n",
    "    torch.nn.LeakyReLU(),\n",
    "    torch.nn.Linear(15,5),\n",
    "    torch.nn.Softmax(dim=-1)\n",
    ")"
   ]
  },
  {
   "cell_type": "code",
   "execution_count": 39,
   "metadata": {},
   "outputs": [],
   "source": [
    "loss_fn = torch.nn.BCELoss()"
   ]
  },
  {
   "cell_type": "code",
   "execution_count": 40,
   "metadata": {},
   "outputs": [],
   "source": [
    "opt = torch.optim.Adam(model.parameters(),lr=1e-4)"
   ]
  },
  {
   "cell_type": "code",
   "execution_count": 42,
   "metadata": {},
   "outputs": [
    {
     "name": "stdout",
     "output_type": "stream",
     "text": [
      "Accuracy : 22.42111\n",
      "Accuracy : 22.34724\n",
      "Accuracy : 22.4995\n"
     ]
    }
   ],
   "source": [
    "from torch import no_grad\n",
    "epochs = 1000\n",
    "for epoch in range(epochs):\n",
    "    for features,labels in dataloader:\n",
    "        # print(features.shape, labels.shape)\n",
    "        preds = model(features)\n",
    "        loss = loss_fn(preds,labels)\n",
    "\n",
    "        loss.backward()\n",
    "        opt.step()\n",
    "        opt.zero_grad()\n",
    "\n",
    "    with torch.no_grad():\n",
    "        if (epoch+1)%(epochs//10) == 0:\n",
    "            right = 0\n",
    "            for features,labels in dataloader:\n",
    "                preds = model(features)\n",
    "                for i in range(len(preds)):\n",
    "                    for j in range(len(preds[i])):\n",
    "                            \n",
    "                            if preds[i][j]==max(preds[i]):\n",
    "                                if(label[i][j]==1):\n",
    "                                    right+=1\n",
    "\n",
    "            print(\"Accuracy :\",round(right*100/(len(dataloader)*BATCH_SIZE),5))"
   ]
  },
  {
   "cell_type": "code",
   "execution_count": null,
   "metadata": {},
   "outputs": [],
   "source": [
    "torch.save(model.state_dict(),\"earthquakedamage.pth\")"
   ]
  }
 ],
 "metadata": {
  "kernelspec": {
   "display_name": "Python 3.8.10 64-bit",
   "language": "python",
   "name": "python3"
  },
  "language_info": {
   "codemirror_mode": {
    "name": "ipython",
    "version": 3
   },
   "file_extension": ".py",
   "mimetype": "text/x-python",
   "name": "python",
   "nbconvert_exporter": "python",
   "pygments_lexer": "ipython3",
   "version": "3.8.10"
  },
  "orig_nbformat": 4,
  "vscode": {
   "interpreter": {
    "hash": "df0893f56f349688326838aaeea0de204df53a132722cbd565e54b24a8fec5f6"
   }
  }
 },
 "nbformat": 4,
 "nbformat_minor": 2
}
