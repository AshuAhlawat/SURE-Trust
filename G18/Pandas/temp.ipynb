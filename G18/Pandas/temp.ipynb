{
 "cells": [
  {
   "cell_type": "code",
   "execution_count": 1,
   "metadata": {},
   "outputs": [],
   "source": [
    "import pandas as pd\n",
    "df=pd.read_csv('./data/imdb_top_1000.csv')\n",
    "\n",
    "movies=df[df.Genre.str.contains(\"Action\") | df.Genre.str.contains(\"Fantasy\")]"
   ]
  },
  {
   "cell_type": "code",
   "execution_count": 2,
   "metadata": {},
   "outputs": [
    {
     "name": "stdout",
     "output_type": "stream",
     "text": [
      "660\n"
     ]
    }
   ],
   "source": [
    "print(len(df.Star1.unique()))"
   ]
  },
  {
   "cell_type": "code",
   "execution_count": 3,
   "metadata": {},
   "outputs": [
    {
     "name": "stdout",
     "output_type": "stream",
     "text": [
      "Adam Driver 94.0\n",
      "Alec Guinness 91.0\n",
      "Aleksandr Antonov 97.0\n",
      "Aleksey Serebryakov 92.0\n",
      "Anamaria Marinca 97.0\n",
      "Anthony Perkins 97.0\n",
      "Armie Hammer 93.0\n",
      "Ben Burtt 95.0\n",
      "Bertil Guve 100.0\n",
      "Boris Karloff 95.0\n",
      "Brahim Hadjadj 96.0\n",
      "Brigitte Helm 98.0\n",
      "Brooklynn Prince 92.0\n",
      "Burt Lancaster 92.5\n",
      "Cary Grant 94.25\n",
      "Casey Affleck 96.0\n",
      "Catherine Deneuve 91.0\n",
      "Celia Johnson 92.0\n",
      "Charles Chaplin 95.0\n",
      "Charlie Sheen 92.0\n",
      "Chiwetel Ejiofor 96.0\n",
      "Colin Clive 91.0\n",
      "Danny Aiello 93.0\n",
      "Daveigh Chase 96.0\n",
      "Elijah Wood 91.0\n",
      "Ellar Coltrane 100.0\n",
      "Fernando Rey 93.0\n",
      "Fionn Whitehead 94.0\n",
      "Frank Sinatra 94.0\n",
      "Fred MacMurray 95.0\n",
      "Gene Kelly 99.0\n",
      "George C. Scott 91.0\n",
      "George Cukor 94.5\n",
      "Groucho Marx 93.0\n",
      "Henry Fonda 90.66666666666667\n",
      "Henry Thomas 91.0\n",
      "Humphrey Bogart 91.4\n",
      "Irène Jacob 93.0\n",
      "Ivana Baquero 98.0\n",
      "Jan Pinkava 96.0\n",
      "Jean Servais 97.0\n",
      "Jean-Louis Trintignant 97.0\n",
      "Jeanne Moreau 97.0\n",
      "John Lennon 96.0\n",
      "John Travolta 94.0\n",
      "John Wayne 93.33333333333333\n",
      "Kevin McCarthy 92.0\n",
      "Kirk Wise 95.0\n",
      "Lew Ayres 91.0\n",
      "Lily Franky 93.0\n",
      "Marcello Mastroianni 93.0\n",
      "Margaret Lockwood 98.0\n",
      "Margaret Sullavan 96.0\n",
      "Marilyn Monroe 98.0\n",
      "Marlon Brando 95.5\n",
      "Martin Sheen 93.5\n",
      "Michèle Caucheteux 91.0\n",
      "Myrna Loy 93.0\n",
      "Noémie Merlant 95.0\n",
      "Orson Welles 98.5\n",
      "Payman Maadi 95.0\n",
      "Peter O'Toole 100.0\n",
      "Rob Reiner 92.0\n",
      "Robert Donat 93.0\n",
      "Robert Mitchum 99.0\n",
      "Ronnie Del Carmen 94.0\n",
      "Sam Shepard 91.0\n",
      "Samuel Armstrong 96.0\n",
      "Sandra Bullock 96.0\n",
      "Saoirse Ronan 91.0\n",
      "Sterling Hayden 91.0\n",
      "Teresa Wright 94.0\n",
      "Terry Jones 91.0\n",
      "Timothy Bottoms 93.0\n",
      "Timothy Spall 91.0\n",
      "Toshirô Mifune 98.0\n",
      "Tsutomu Tatsumi 94.0\n",
      "Vivien Leigh 97.0\n",
      "William Keighley 97.0\n",
      "Yalitza Aparicio 96.0\n"
     ]
    }
   ],
   "source": [
    "for actor, scores in df.groupby(\"Star1\"):\n",
    "    avg_rating = scores[\"Meta_score\"].mean()\n",
    "    if avg_rating > 90:\n",
    "        print(actor, avg_rating)"
   ]
  },
  {
   "cell_type": "code",
   "execution_count": 22,
   "metadata": {},
   "outputs": [],
   "source": [
    "import matplotlib.pyplot as plt\n",
    "\n",
    "count = df.Year.value_counts()\n",
    "# count\n",
    "# count = count.sort_index()"
   ]
  },
  {
   "cell_type": "code",
   "execution_count": 23,
   "metadata": {},
   "outputs": [
    {
     "data": {
      "text/plain": [
       "<BarContainer object of 99 artists>"
      ]
     },
     "execution_count": 23,
     "metadata": {},
     "output_type": "execute_result"
    },
    {
     "data": {
      "image/png": "[encoded data removed]",
      "text/plain": [
       "<Figure size 640x480 with 1 Axes>"
      ]
     },
     "metadata": {},
     "output_type": "display_data"
    }
   ],
   "source": [
    "plt.bar(count.index, count)"
   ]
  },
  {
   "cell_type": "code",
   "execution_count": null,
   "metadata": {},
   "outputs": [],
   "source": []
  }
 ],
 "metadata": {
  "kernelspec": {
   "display_name": "Python 3.10.8 64-bit",
   "language": "python",
   "name": "python3"
  },
  "language_info": {
   "codemirror_mode": {
    "name": "ipython",
    "version": 3
   },
   "file_extension": ".py",
   "mimetype": "text/x-python",
   "name": "python",
   "nbconvert_exporter": "python",
   "pygments_lexer": "ipython3",
   "version": "3.10.8"
  },
  "orig_nbformat": 4,
  "vscode": {
   "interpreter": {
    "hash": "7042d481ae980d2e3068f9f5f7c2bff1c28c3e2868648c09a3c3e251bdbef481"
   }
  }
 },
 "nbformat": 4,
 "nbformat_minor": 2
}
