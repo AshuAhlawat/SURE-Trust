{
 "cells": [
  {
   "cell_type": "code",
   "execution_count": 1,
   "metadata": {},
   "outputs": [
    {
     "name": "stdout",
     "output_type": "stream",
     "text": [
      "<class 'pandas.core.frame.DataFrame'>\n",
      "RangeIndex: 480 entries, 0 to 479\n",
      "Data columns (total 12 columns):\n",
      " #   Column                     Non-Null Count  Dtype \n",
      "---  ------                     --------------  ----- \n",
      " 0   Unnamed: 0                 480 non-null    int64 \n",
      " 1   Country                    480 non-null    object\n",
      " 2   Port Name                  480 non-null    object\n",
      " 3   UN Code                    468 non-null    object\n",
      " 4   Vessels in Port            480 non-null    int64 \n",
      " 5   Departures(Last 24 Hours)  480 non-null    int64 \n",
      " 6   Arrivals(Last 24 Hours)    480 non-null    int64 \n",
      " 7   Expected Arrivals          480 non-null    int64 \n",
      " 8   Type                       480 non-null    object\n",
      " 9   Area Local                 480 non-null    object\n",
      " 10  Area Global                480 non-null    object\n",
      " 11  Also known as              480 non-null    object\n",
      "dtypes: int64(5), object(7)\n",
      "memory usage: 45.1+ KB\n"
     ]
    }
   ],
   "source": [
    "import pandas as pd\n",
    "\n",
    "data = pd.read_csv(\"./data/Port_Data.csv\")\n",
    "\n",
    "data.info()"
   ]
  },
  {
   "cell_type": "code",
   "execution_count": 2,
   "metadata": {},
   "outputs": [],
   "source": [
    "vip = data[\"Vessels in Port\"]"
   ]
  },
  {
   "cell_type": "code",
   "execution_count": 3,
   "metadata": {},
   "outputs": [
    {
     "data": {
      "text/plain": [
       "0    True\n",
       "1    True\n",
       "2    True\n",
       "3    True\n",
       "4    True\n",
       "Name: Vessels in Port, dtype: bool"
      ]
     },
     "execution_count": 3,
     "metadata": {},
     "output_type": "execute_result"
    }
   ],
   "source": [
    "(vip/10).astype(bool).head()"
   ]
  },
  {
   "cell_type": "code",
   "execution_count": 4,
   "metadata": {},
   "outputs": [
    {
     "data": {
      "text/plain": [
       "China          122\n",
       "USA             45\n",
       "Netherlands     38\n",
       "Name: Country, dtype: int64"
      ]
     },
     "execution_count": 4,
     "metadata": {},
     "output_type": "execute_result"
    }
   ],
   "source": [
    "len(data[\"Country\"].unique())\n",
    "\n",
    "data[\"Country\"].value_counts().head(3)"
   ]
  },
  {
   "cell_type": "code",
   "execution_count": 5,
   "metadata": {},
   "outputs": [],
   "source": [
    "wo_unc = data[data[\"UN Code\"].isna()][[\"Country\",\"Port Name\"]].reset_index(drop=True)"
   ]
  },
  {
   "cell_type": "code",
   "execution_count": 6,
   "metadata": {},
   "outputs": [
    {
     "data": {
      "text/html": [
       "<div>\n",
       "<style scoped>\n",
       "    .dataframe tbody tr th:only-of-type {\n",
       "        vertical-align: middle;\n",
       "    }\n",
       "\n",
       "    .dataframe tbody tr th {\n",
       "        vertical-align: top;\n",
       "    }\n",
       "\n",
       "    .dataframe thead th {\n",
       "        text-align: right;\n",
       "    }\n",
       "</style>\n",
       "<table border=\"1\" class=\"dataframe\">\n",
       "  <thead>\n",
       "    <tr style=\"text-align: right;\">\n",
       "      <th></th>\n",
       "      <th>Country</th>\n",
       "      <th>Port Name</th>\n",
       "    </tr>\n",
       "  </thead>\n",
       "  <tbody>\n",
       "    <tr>\n",
       "      <th>0</th>\n",
       "      <td>Singapore</td>\n",
       "      <td>SINGAPORE ANCH</td>\n",
       "    </tr>\n",
       "    <tr>\n",
       "      <th>1</th>\n",
       "      <td>China</td>\n",
       "      <td>PINGTAN</td>\n",
       "    </tr>\n",
       "    <tr>\n",
       "      <th>2</th>\n",
       "      <td>China</td>\n",
       "      <td>NINGBO ANCH</td>\n",
       "    </tr>\n",
       "    <tr>\n",
       "      <th>3</th>\n",
       "      <td>China</td>\n",
       "      <td>MEIZHOU ISLAND</td>\n",
       "    </tr>\n",
       "    <tr>\n",
       "      <th>4</th>\n",
       "      <td>France</td>\n",
       "      <td>LA ROCHELLE VIEUX</td>\n",
       "    </tr>\n",
       "    <tr>\n",
       "      <th>5</th>\n",
       "      <td>Russia</td>\n",
       "      <td>KAVKAZ SOUTH ANCH</td>\n",
       "    </tr>\n",
       "    <tr>\n",
       "      <th>6</th>\n",
       "      <td>China</td>\n",
       "      <td>QUSHAN</td>\n",
       "    </tr>\n",
       "    <tr>\n",
       "      <th>7</th>\n",
       "      <td>Brazil</td>\n",
       "      <td>SANTOS ANCH</td>\n",
       "    </tr>\n",
       "    <tr>\n",
       "      <th>8</th>\n",
       "      <td>Australia</td>\n",
       "      <td>MANLY HARBOUR</td>\n",
       "    </tr>\n",
       "    <tr>\n",
       "      <th>9</th>\n",
       "      <td>China</td>\n",
       "      <td>JINTANG</td>\n",
       "    </tr>\n",
       "    <tr>\n",
       "      <th>10</th>\n",
       "      <td>Canada</td>\n",
       "      <td>VAN ISLE</td>\n",
       "    </tr>\n",
       "    <tr>\n",
       "      <th>11</th>\n",
       "      <td>Brazil</td>\n",
       "      <td>PARANAGUA ANCH</td>\n",
       "    </tr>\n",
       "  </tbody>\n",
       "</table>\n",
       "</div>"
      ],
      "text/plain": [
       "      Country          Port Name\n",
       "0   Singapore     SINGAPORE ANCH\n",
       "1       China            PINGTAN\n",
       "2       China        NINGBO ANCH\n",
       "3       China     MEIZHOU ISLAND\n",
       "4      France  LA ROCHELLE VIEUX\n",
       "5      Russia  KAVKAZ SOUTH ANCH\n",
       "6       China             QUSHAN\n",
       "7      Brazil        SANTOS ANCH\n",
       "8   Australia      MANLY HARBOUR\n",
       "9       China            JINTANG\n",
       "10     Canada           VAN ISLE\n",
       "11     Brazil     PARANAGUA ANCH"
      ]
     },
     "execution_count": 6,
     "metadata": {},
     "output_type": "execute_result"
    }
   ],
   "source": [
    "wo_unc"
   ]
  },
  {
   "cell_type": "code",
   "execution_count": 7,
   "metadata": {},
   "outputs": [],
   "source": [
    "data[\"Country_lower\"] = data[\"Country\"].str.lower()"
   ]
  },
  {
   "cell_type": "code",
   "execution_count": 8,
   "metadata": {},
   "outputs": [
    {
     "data": {
      "text/html": [
       "<div>\n",
       "<style scoped>\n",
       "    .dataframe tbody tr th:only-of-type {\n",
       "        vertical-align: middle;\n",
       "    }\n",
       "\n",
       "    .dataframe tbody tr th {\n",
       "        vertical-align: top;\n",
       "    }\n",
       "\n",
       "    .dataframe thead th {\n",
       "        text-align: right;\n",
       "    }\n",
       "</style>\n",
       "<table border=\"1\" class=\"dataframe\">\n",
       "  <thead>\n",
       "    <tr style=\"text-align: right;\">\n",
       "      <th></th>\n",
       "      <th>Unnamed: 0</th>\n",
       "      <th>Country</th>\n",
       "      <th>Port Name</th>\n",
       "      <th>UN Code</th>\n",
       "      <th>Vessels in Port</th>\n",
       "      <th>Departures(Last 24 Hours)</th>\n",
       "      <th>Arrivals(Last 24 Hours)</th>\n",
       "      <th>Expected Arrivals</th>\n",
       "      <th>Type</th>\n",
       "      <th>Area Local</th>\n",
       "      <th>Area Global</th>\n",
       "      <th>Also known as</th>\n",
       "      <th>Country_lower</th>\n",
       "    </tr>\n",
       "  </thead>\n",
       "  <tbody>\n",
       "    <tr>\n",
       "      <th>0</th>\n",
       "      <td>0</td>\n",
       "      <td>China</td>\n",
       "      <td>SHANGHAI</td>\n",
       "      <td>CNSHG</td>\n",
       "      <td>2420</td>\n",
       "      <td>1376</td>\n",
       "      <td>1626</td>\n",
       "      <td>644</td>\n",
       "      <td>Port</td>\n",
       "      <td>East China Sea</td>\n",
       "      <td>Central China</td>\n",
       "      <td>['SHANG HAI', ' YANGSHAN', ' CNSHA', ' CNSGH']</td>\n",
       "      <td>china</td>\n",
       "    </tr>\n",
       "    <tr>\n",
       "      <th>1</th>\n",
       "      <td>1</td>\n",
       "      <td>China</td>\n",
       "      <td>NANTONG</td>\n",
       "      <td>CNNTG</td>\n",
       "      <td>1572</td>\n",
       "      <td>1173</td>\n",
       "      <td>1287</td>\n",
       "      <td>234</td>\n",
       "      <td>Port</td>\n",
       "      <td>East China Sea</td>\n",
       "      <td>Central China</td>\n",
       "      <td>['NAN TONG']</td>\n",
       "      <td>china</td>\n",
       "    </tr>\n",
       "    <tr>\n",
       "      <th>2</th>\n",
       "      <td>2</td>\n",
       "      <td>China</td>\n",
       "      <td>CJK</td>\n",
       "      <td>CNCJK</td>\n",
       "      <td>1529</td>\n",
       "      <td>343</td>\n",
       "      <td>370</td>\n",
       "      <td>310</td>\n",
       "      <td>Anchorage</td>\n",
       "      <td>East China Sea</td>\n",
       "      <td>Central China</td>\n",
       "      <td>['CHANGJIANGKOU', ' CHANGJIANG KOU', ' CJK CN']</td>\n",
       "      <td>china</td>\n",
       "    </tr>\n",
       "    <tr>\n",
       "      <th>3</th>\n",
       "      <td>3</td>\n",
       "      <td>China</td>\n",
       "      <td>NANJING</td>\n",
       "      <td>CNNKG</td>\n",
       "      <td>1414</td>\n",
       "      <td>667</td>\n",
       "      <td>1060</td>\n",
       "      <td>203</td>\n",
       "      <td>Port</td>\n",
       "      <td>East China Sea</td>\n",
       "      <td>Central China</td>\n",
       "      <td>['NAN JING', ' NAN JIN', ' NANJIN']</td>\n",
       "      <td>china</td>\n",
       "    </tr>\n",
       "    <tr>\n",
       "      <th>4</th>\n",
       "      <td>4</td>\n",
       "      <td>China</td>\n",
       "      <td>JIANGYIN</td>\n",
       "      <td>CNJIA</td>\n",
       "      <td>1112</td>\n",
       "      <td>1076</td>\n",
       "      <td>1070</td>\n",
       "      <td>166</td>\n",
       "      <td>Port</td>\n",
       "      <td>East China Sea</td>\n",
       "      <td>Central China</td>\n",
       "      <td>['-', ' JANG JIN', ' JIANG YIN']</td>\n",
       "      <td>china</td>\n",
       "    </tr>\n",
       "  </tbody>\n",
       "</table>\n",
       "</div>"
      ],
      "text/plain": [
       "   Unnamed: 0 Country Port Name UN Code  Vessels in Port  \\\n",
       "0           0   China  SHANGHAI   CNSHG             2420   \n",
       "1           1   China   NANTONG   CNNTG             1572   \n",
       "2           2   China       CJK   CNCJK             1529   \n",
       "3           3   China   NANJING   CNNKG             1414   \n",
       "4           4   China  JIANGYIN   CNJIA             1112   \n",
       "\n",
       "   Departures(Last 24 Hours)  Arrivals(Last 24 Hours)  Expected Arrivals  \\\n",
       "0                       1376                     1626                644   \n",
       "1                       1173                     1287                234   \n",
       "2                        343                      370                310   \n",
       "3                        667                     1060                203   \n",
       "4                       1076                     1070                166   \n",
       "\n",
       "        Type      Area Local    Area Global  \\\n",
       "0       Port  East China Sea  Central China   \n",
       "1       Port  East China Sea  Central China   \n",
       "2  Anchorage  East China Sea  Central China   \n",
       "3       Port  East China Sea  Central China   \n",
       "4       Port  East China Sea  Central China   \n",
       "\n",
       "                                     Also known as Country_lower  \n",
       "0   ['SHANG HAI', ' YANGSHAN', ' CNSHA', ' CNSGH']         china  \n",
       "1                                     ['NAN TONG']         china  \n",
       "2  ['CHANGJIANGKOU', ' CHANGJIANG KOU', ' CJK CN']         china  \n",
       "3              ['NAN JING', ' NAN JIN', ' NANJIN']         china  \n",
       "4                 ['-', ' JANG JIN', ' JIANG YIN']         china  "
      ]
     },
     "execution_count": 8,
     "metadata": {},
     "output_type": "execute_result"
    }
   ],
   "source": [
    "data.head()"
   ]
  },
  {
   "cell_type": "code",
   "execution_count": 9,
   "metadata": {},
   "outputs": [],
   "source": [
    "# na_values/ duplicates\n",
    "# - fill, drop\n",
    "# dropping columns\n",
    "# - saving csv's"
   ]
  },
  {
   "cell_type": "code",
   "execution_count": 10,
   "metadata": {},
   "outputs": [
    {
     "data": {
      "text/plain": [
       "12"
      ]
     },
     "execution_count": 10,
     "metadata": {},
     "output_type": "execute_result"
    }
   ],
   "source": [
    "sum(data[\"UN Code\"].isna())"
   ]
  },
  {
   "cell_type": "code",
   "execution_count": 11,
   "metadata": {},
   "outputs": [
    {
     "data": {
      "text/plain": [
       "468"
      ]
     },
     "execution_count": 11,
     "metadata": {},
     "output_type": "execute_result"
    }
   ],
   "source": [
    "sum(data[\"UN Code\"].notnull())"
   ]
  },
  {
   "cell_type": "code",
   "execution_count": 12,
   "metadata": {},
   "outputs": [
    {
     "name": "stdout",
     "output_type": "stream",
     "text": [
      "<class 'pandas.core.frame.DataFrame'>\n",
      "RangeIndex: 480 entries, 0 to 479\n",
      "Data columns (total 13 columns):\n",
      " #   Column                     Non-Null Count  Dtype \n",
      "---  ------                     --------------  ----- \n",
      " 0   Unnamed: 0                 480 non-null    int64 \n",
      " 1   Country                    480 non-null    object\n",
      " 2   Port Name                  480 non-null    object\n",
      " 3   UN Code                    468 non-null    object\n",
      " 4   Vessels in Port            480 non-null    int64 \n",
      " 5   Departures(Last 24 Hours)  480 non-null    int64 \n",
      " 6   Arrivals(Last 24 Hours)    480 non-null    int64 \n",
      " 7   Expected Arrivals          480 non-null    int64 \n",
      " 8   Type                       480 non-null    object\n",
      " 9   Area Local                 480 non-null    object\n",
      " 10  Area Global                480 non-null    object\n",
      " 11  Also known as              480 non-null    object\n",
      " 12  Country_lower              480 non-null    object\n",
      "dtypes: int64(5), object(8)\n",
      "memory usage: 48.9+ KB\n"
     ]
    }
   ],
   "source": [
    "data.info()"
   ]
  },
  {
   "cell_type": "code",
   "execution_count": 13,
   "metadata": {},
   "outputs": [],
   "source": [
    "new_data  = data[data[\"UN Code\"].isna()][[\"Type\", \"Port Name\"]].reset_index(drop=True)"
   ]
  },
  {
   "cell_type": "code",
   "execution_count": 14,
   "metadata": {},
   "outputs": [],
   "source": [
    "new_data[\"Type\"] = new_data[\"Type\"].str.upper()"
   ]
  },
  {
   "cell_type": "code",
   "execution_count": 15,
   "metadata": {},
   "outputs": [],
   "source": [
    "new_data.to_csv(\"Codeless_ports.csv\", index=False)"
   ]
  },
  {
   "cell_type": "code",
   "execution_count": 16,
   "metadata": {},
   "outputs": [
    {
     "data": {
      "text/html": [
       "<div>\n",
       "<style scoped>\n",
       "    .dataframe tbody tr th:only-of-type {\n",
       "        vertical-align: middle;\n",
       "    }\n",
       "\n",
       "    .dataframe tbody tr th {\n",
       "        vertical-align: top;\n",
       "    }\n",
       "\n",
       "    .dataframe thead th {\n",
       "        text-align: right;\n",
       "    }\n",
       "</style>\n",
       "<table border=\"1\" class=\"dataframe\">\n",
       "  <thead>\n",
       "    <tr style=\"text-align: right;\">\n",
       "      <th></th>\n",
       "      <th>Type</th>\n",
       "      <th>Port Name</th>\n",
       "    </tr>\n",
       "  </thead>\n",
       "  <tbody>\n",
       "    <tr>\n",
       "      <th>0</th>\n",
       "      <td>ANCHORAGE</td>\n",
       "      <td>SINGAPORE ANCH</td>\n",
       "    </tr>\n",
       "    <tr>\n",
       "      <th>1</th>\n",
       "      <td>PORT</td>\n",
       "      <td>PINGTAN</td>\n",
       "    </tr>\n",
       "    <tr>\n",
       "      <th>2</th>\n",
       "      <td>ANCHORAGE</td>\n",
       "      <td>NINGBO ANCH</td>\n",
       "    </tr>\n",
       "    <tr>\n",
       "      <th>3</th>\n",
       "      <td>PORT</td>\n",
       "      <td>MEIZHOU ISLAND</td>\n",
       "    </tr>\n",
       "    <tr>\n",
       "      <th>4</th>\n",
       "      <td>PORT</td>\n",
       "      <td>LA ROCHELLE VIEUX</td>\n",
       "    </tr>\n",
       "    <tr>\n",
       "      <th>5</th>\n",
       "      <td>ANCHORAGE</td>\n",
       "      <td>KAVKAZ SOUTH ANCH</td>\n",
       "    </tr>\n",
       "    <tr>\n",
       "      <th>6</th>\n",
       "      <td>PORT</td>\n",
       "      <td>QUSHAN</td>\n",
       "    </tr>\n",
       "    <tr>\n",
       "      <th>7</th>\n",
       "      <td>ANCHORAGE</td>\n",
       "      <td>SANTOS ANCH</td>\n",
       "    </tr>\n",
       "    <tr>\n",
       "      <th>8</th>\n",
       "      <td>MARINA</td>\n",
       "      <td>MANLY HARBOUR</td>\n",
       "    </tr>\n",
       "    <tr>\n",
       "      <th>9</th>\n",
       "      <td>PORT</td>\n",
       "      <td>JINTANG</td>\n",
       "    </tr>\n",
       "    <tr>\n",
       "      <th>10</th>\n",
       "      <td>MARINA</td>\n",
       "      <td>VAN ISLE</td>\n",
       "    </tr>\n",
       "    <tr>\n",
       "      <th>11</th>\n",
       "      <td>ANCHORAGE</td>\n",
       "      <td>PARANAGUA ANCH</td>\n",
       "    </tr>\n",
       "  </tbody>\n",
       "</table>\n",
       "</div>"
      ],
      "text/plain": [
       "         Type          Port Name\n",
       "0   ANCHORAGE     SINGAPORE ANCH\n",
       "1        PORT            PINGTAN\n",
       "2   ANCHORAGE        NINGBO ANCH\n",
       "3        PORT     MEIZHOU ISLAND\n",
       "4        PORT  LA ROCHELLE VIEUX\n",
       "5   ANCHORAGE  KAVKAZ SOUTH ANCH\n",
       "6        PORT             QUSHAN\n",
       "7   ANCHORAGE        SANTOS ANCH\n",
       "8      MARINA      MANLY HARBOUR\n",
       "9        PORT            JINTANG\n",
       "10     MARINA           VAN ISLE\n",
       "11  ANCHORAGE     PARANAGUA ANCH"
      ]
     },
     "execution_count": 16,
     "metadata": {},
     "output_type": "execute_result"
    }
   ],
   "source": [
    "new_data.drop_duplicates()"
   ]
  },
  {
   "cell_type": "code",
   "execution_count": 18,
   "metadata": {},
   "outputs": [
    {
     "name": "stdout",
     "output_type": "stream",
     "text": [
      "         Type          Port Name\n",
      "0   ANCHORAGE     SINGAPORE ANCH\n",
      "2   ANCHORAGE        NINGBO ANCH\n",
      "5   ANCHORAGE  KAVKAZ SOUTH ANCH\n",
      "7   ANCHORAGE        SANTOS ANCH\n",
      "11  ANCHORAGE     PARANAGUA ANCH\n",
      "      Type      Port Name\n",
      "8   MARINA  MANLY HARBOUR\n",
      "10  MARINA       VAN ISLE\n",
      "   Type          Port Name\n",
      "1  PORT            PINGTAN\n",
      "3  PORT     MEIZHOU ISLAND\n",
      "4  PORT  LA ROCHELLE VIEUX\n",
      "6  PORT             QUSHAN\n",
      "9  PORT            JINTANG\n"
     ]
    }
   ],
   "source": [
    "for group_name, group_df in new_data.groupby(\"Type\"):\n",
    "    # print(group_name)\n",
    "    print(group_df)"
   ]
  }
 ],
 "metadata": {
  "kernelspec": {
   "display_name": "Python 3.10.8 64-bit",
   "language": "python",
   "name": "python3"
  },
  "language_info": {
   "codemirror_mode": {
    "name": "ipython",
    "version": 3
   },
   "file_extension": ".py",
   "mimetype": "text/x-python",
   "name": "python",
   "nbconvert_exporter": "python",
   "pygments_lexer": "ipython3",
   "version": "3.10.8"
  },
  "orig_nbformat": 4,
  "vscode": {
   "interpreter": {
    "hash": "7042d481ae980d2e3068f9f5f7c2bff1c28c3e2868648c09a3c3e251bdbef481"
   }
  }
 },
 "nbformat": 4,
 "nbformat_minor": 2
}
