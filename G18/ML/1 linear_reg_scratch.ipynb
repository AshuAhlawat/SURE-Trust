{
 "cells": [
  {
   "cell_type": "code",
   "execution_count": 1,
   "metadata": {},
   "outputs": [],
   "source": [
    "import pandas as pd\n",
    "import numpy as np\n",
    "import matplotlib.pyplot as plt"
   ]
  },
  {
   "cell_type": "code",
   "execution_count": 2,
   "metadata": {},
   "outputs": [],
   "source": [
    "data = pd.read_csv(\"data/weather.csv\")\n",
    "\n",
    "features = data[\"Temperature (C)\"]\n",
    "labels = data[\"Humidity\"][300:400]\n",
    "\n",
    "x_ = features.mean()\n",
    "s = features.std()\n",
    "\n",
    "data[\"norm_temp\"] = (features - x_)/s\n",
    "features = data[\"norm_temp\"][300:400]"
   ]
  },
  {
   "cell_type": "code",
   "execution_count": 3,
   "metadata": {},
   "outputs": [],
   "source": [
    "def mse(preds,labels):\n",
    "    loss = sum((preds-labels)**2)/len(preds)\n",
    "    return loss\n",
    "\n",
    "# -2 * (y - y') * x\n",
    "def w_grad(w,labels,preds,features):\n",
    "    gradient= (-2*(labels-preds)*features).mean()\n",
    "    return gradient\n",
    "\n",
    "# -2 * (y - y')\n",
    "def b_grad(b,labels,preds):\n",
    "    gradient= (-2*(labels-preds)).mean()\n",
    "    return gradient\n",
    "\n",
    "def update(var,grad,lr=0.00001):\n",
    "    new_var = var - lr * grad\n",
    "\n",
    "    return new_var\n",
    "\n",
    "# y' = wx + b\n",
    "def predict(w,b,features):\n",
    "    preds = w*features + b\n",
    "    return preds\n",
    "\n",
    "y = []\n",
    "x = []"
   ]
  },
  {
   "cell_type": "code",
   "execution_count": 4,
   "metadata": {},
   "outputs": [
    {
     "name": "stdout",
     "output_type": "stream",
     "text": [
      "1.1164505202812378 1.3604786707691818\n"
     ]
    }
   ],
   "source": [
    "w = np.random.randn()\n",
    "b = np.random.randn()\n",
    "\n",
    "print(w, b)"
   ]
  },
  {
   "cell_type": "code",
   "execution_count": 9,
   "metadata": {},
   "outputs": [
    {
     "name": "stdout",
     "output_type": "stream",
     "text": [
      "0.10210438066530397\n",
      "0.09919181949204997\n",
      "0.09636552246396997\n",
      "0.09362262455287103\n",
      "0.09096056680390896\n",
      "0.08837693568637568\n",
      "0.08586941089562691\n",
      "0.08343574746662005\n",
      "0.08107376877054236\n",
      "0.07878136299019743\n"
     ]
    }
   ],
   "source": [
    "epochs = range(10000)\n",
    "# forward pass --- backward pass\n",
    "\n",
    "\n",
    "for epoch in epochs:\n",
    "    preds = predict(w,b,features)\n",
    "    loss = mse(preds, labels)\n",
    "\n",
    "    weight_grad = w_grad(w,labels,preds,features) \n",
    "    bias_grad = b_grad(b,labels,preds)\n",
    "\n",
    "    w = update(w,weight_grad,lr=0.001)\n",
    "    b = update(b,bias_grad)\n",
    "\n",
    "    if (epoch+1) % 10 == 0:\n",
    "        y.append(loss)\n",
    "        x.append(w)\n",
    "\n",
    "    if (epoch+1) % 1000 == 0:\n",
    "        print(loss)"
   ]
  },
  {
   "cell_type": "code",
   "execution_count": 15,
   "metadata": {},
   "outputs": [
    {
     "data": {
      "text/plain": [
       "[<matplotlib.lines.Line2D at 0x10f7854ce50>]"
      ]
     },
     "execution_count": 15,
     "metadata": {},
     "output_type": "execute_result"
    },
    {
     "data": {
      "image/png": "[encoded data removed]",
      "text/plain": [
       "<Figure size 640x480 with 1 Axes>"
      ]
     },
     "metadata": {},
     "output_type": "display_data"
    }
   ],
   "source": [
    "plt.scatter(x=features, y=labels)\n",
    "plt.plot(features, preds, c=\"purple\")"
   ]
  },
  {
   "cell_type": "code",
   "execution_count": 14,
   "metadata": {},
   "outputs": [],
   "source": [
    "w = -0.29073122962236025\n",
    "b = 0.8083818147607283"
   ]
  },
  {
   "cell_type": "code",
   "execution_count": null,
   "metadata": {},
   "outputs": [],
   "source": [
    "plt.plot(x,y)\n",
    "plt.show()"
   ]
  },
  {
   "cell_type": "code",
   "execution_count": 12,
   "metadata": {},
   "outputs": [
    {
     "data": {
      "text/plain": [
       "0.34975993103799863"
      ]
     },
     "execution_count": 12,
     "metadata": {},
     "output_type": "execute_result"
    }
   ],
   "source": [
    "x = 27\n",
    "x = (x - x_)/s\n",
    "\n",
    "predict(w,b,x)"
   ]
  }
 ],
 "metadata": {
  "kernelspec": {
   "display_name": "Python 3.10.8 64-bit",
   "language": "python",
   "name": "python3"
  },
  "language_info": {
   "codemirror_mode": {
    "name": "ipython",
    "version": 3
   },
   "file_extension": ".py",
   "mimetype": "text/x-python",
   "name": "python",
   "nbconvert_exporter": "python",
   "pygments_lexer": "ipython3",
   "version": "3.10.8"
  },
  "orig_nbformat": 4,
  "vscode": {
   "interpreter": {
    "hash": "7042d481ae980d2e3068f9f5f7c2bff1c28c3e2868648c09a3c3e251bdbef481"
   }
  }
 },
 "nbformat": 4,
 "nbformat_minor": 2
}
