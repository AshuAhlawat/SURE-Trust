{
 "cells": [
  {
   "cell_type": "code",
   "execution_count": 1,
   "metadata": {},
   "outputs": [],
   "source": [
    "import tensorflow as tf\n",
    "from tensorflow.keras.losses import MSE\n",
    "from tensorflow.keras import layers\n",
    "import pandas as pd"
   ]
  },
  {
   "cell_type": "code",
   "execution_count": 2,
   "metadata": {},
   "outputs": [
    {
     "data": {
      "text/html": [
       "<div>\n",
       "<style scoped>\n",
       "    .dataframe tbody tr th:only-of-type {\n",
       "        vertical-align: middle;\n",
       "    }\n",
       "\n",
       "    .dataframe tbody tr th {\n",
       "        vertical-align: top;\n",
       "    }\n",
       "\n",
       "    .dataframe thead th {\n",
       "        text-align: right;\n",
       "    }\n",
       "</style>\n",
       "<table border=\"1\" class=\"dataframe\">\n",
       "  <thead>\n",
       "    <tr style=\"text-align: right;\">\n",
       "      <th></th>\n",
       "      <th>Formatted Date</th>\n",
       "      <th>Summary</th>\n",
       "      <th>Precip Type</th>\n",
       "      <th>Temperature (C)</th>\n",
       "      <th>Apparent Temperature (C)</th>\n",
       "      <th>Humidity</th>\n",
       "      <th>Wind Speed (km/h)</th>\n",
       "      <th>Wind Bearing (degrees)</th>\n",
       "      <th>Visibility (km)</th>\n",
       "      <th>Loud Cover</th>\n",
       "      <th>Pressure (millibars)</th>\n",
       "      <th>Daily Summary</th>\n",
       "    </tr>\n",
       "  </thead>\n",
       "  <tbody>\n",
       "    <tr>\n",
       "      <th>0</th>\n",
       "      <td>2006-04-01 00:00:00.000 +0200</td>\n",
       "      <td>Partly Cloudy</td>\n",
       "      <td>rain</td>\n",
       "      <td>9.472222</td>\n",
       "      <td>7.388889</td>\n",
       "      <td>0.89</td>\n",
       "      <td>14.1197</td>\n",
       "      <td>251</td>\n",
       "      <td>15.8263</td>\n",
       "      <td>0</td>\n",
       "      <td>1015.13</td>\n",
       "      <td>Partly cloudy throughout the day.</td>\n",
       "    </tr>\n",
       "    <tr>\n",
       "      <th>1</th>\n",
       "      <td>2006-04-01 01:00:00.000 +0200</td>\n",
       "      <td>Partly Cloudy</td>\n",
       "      <td>rain</td>\n",
       "      <td>9.355556</td>\n",
       "      <td>7.227778</td>\n",
       "      <td>0.86</td>\n",
       "      <td>14.2646</td>\n",
       "      <td>259</td>\n",
       "      <td>15.8263</td>\n",
       "      <td>0</td>\n",
       "      <td>1015.63</td>\n",
       "      <td>Partly cloudy throughout the day.</td>\n",
       "    </tr>\n",
       "  </tbody>\n",
       "</table>\n",
       "</div>"
      ],
      "text/plain": [
       "                  Formatted Date        Summary Precip Type  Temperature (C)  \\\n",
       "0  2006-04-01 00:00:00.000 +0200  Partly Cloudy        rain         9.472222   \n",
       "1  2006-04-01 01:00:00.000 +0200  Partly Cloudy        rain         9.355556   \n",
       "\n",
       "   Apparent Temperature (C)  Humidity  Wind Speed (km/h)  \\\n",
       "0                  7.388889      0.89            14.1197   \n",
       "1                  7.227778      0.86            14.2646   \n",
       "\n",
       "   Wind Bearing (degrees)  Visibility (km)  Loud Cover  Pressure (millibars)  \\\n",
       "0                     251          15.8263           0               1015.13   \n",
       "1                     259          15.8263           0               1015.63   \n",
       "\n",
       "                       Daily Summary  \n",
       "0  Partly cloudy throughout the day.  \n",
       "1  Partly cloudy throughout the day.  "
      ]
     },
     "execution_count": 2,
     "metadata": {},
     "output_type": "execute_result"
    }
   ],
   "source": [
    "data = pd.read_csv(\"./data/weather.csv\")[:90000]\n",
    "data.head(2)"
   ]
  },
  {
   "cell_type": "code",
   "execution_count": 3,
   "metadata": {},
   "outputs": [],
   "source": [
    "features = data[[\"Temperature (C)\",\"Humidity\",\"Wind Speed (km/h)\",\"Pressure (millibars)\",\"Wind Bearing (degrees)\",\"Summary\"]]\n",
    "features = pd.get_dummies(features)\n",
    "mean = features.mean()\n",
    "std = features.std()\n",
    "features = (features - mean)/ std\n",
    "labels = data[[\"Apparent Temperature (C)\",\"Visibility (km)\"]]\n",
    "\n",
    "features = tf.cast(tf.constant(features), dtype=tf.float32)\n",
    "labels = tf.cast(tf.constant(labels), dtype=tf.float32)"
   ]
  },
  {
   "cell_type": "code",
   "execution_count": 4,
   "metadata": {},
   "outputs": [],
   "source": [
    "model = tf.keras.Sequential([\n",
    "    layers.Dense(5),\n",
    "    layers.Activation(\"relu\"),\n",
    "    layers.Dense(2)\n",
    "])"
   ]
  },
  {
   "cell_type": "code",
   "execution_count": 5,
   "metadata": {},
   "outputs": [],
   "source": [
    "model.build(input_shape=(90000,31))"
   ]
  },
  {
   "cell_type": "code",
   "execution_count": 6,
   "metadata": {},
   "outputs": [
    {
     "name": "stdout",
     "output_type": "stream",
     "text": [
      "Model: \"sequential\"\n",
      "_________________________________________________________________\n",
      " Layer (type)                Output Shape              Param #   \n",
      "=================================================================\n",
      " dense (Dense)               (90000, 5)                160       \n",
      "                                                                 \n",
      " activation (Activation)     (90000, 5)                0         \n",
      "                                                                 \n",
      " dense_1 (Dense)             (90000, 2)                12        \n",
      "                                                                 \n",
      "=================================================================\n",
      "Total params: 172\n",
      "Trainable params: 172\n",
      "Non-trainable params: 0\n",
      "_________________________________________________________________\n"
     ]
    }
   ],
   "source": [
    "model.summary()"
   ]
  },
  {
   "cell_type": "code",
   "execution_count": 7,
   "metadata": {},
   "outputs": [],
   "source": [
    "model.compile(\n",
    "    optimizer = tf.keras.optimizers.Adam(),\n",
    "    loss = \"mse\"\n",
    ")"
   ]
  },
  {
   "cell_type": "code",
   "execution_count": 14,
   "metadata": {},
   "outputs": [
    {
     "name": "stdout",
     "output_type": "stream",
     "text": [
      "Epoch 1/100\n",
      "1000/1000 [==============================] - 1s 645us/step - loss: 4.2279\n",
      "Epoch 2/100\n",
      "1000/1000 [==============================] - 1s 655us/step - loss: 4.2177\n",
      "Epoch 3/100\n",
      "1000/1000 [==============================] - 1s 664us/step - loss: 4.2177\n",
      "Epoch 4/100\n",
      "1000/1000 [==============================] - 1s 654us/step - loss: 4.2153\n",
      "Epoch 5/100\n",
      "1000/1000 [==============================] - 1s 650us/step - loss: 4.2173\n",
      "Epoch 6/100\n",
      "1000/1000 [==============================] - 1s 669us/step - loss: 4.2138\n",
      "Epoch 7/100\n",
      "1000/1000 [==============================] - 1s 681us/step - loss: 4.2135\n",
      "Epoch 8/100\n",
      "1000/1000 [==============================] - 1s 703us/step - loss: 4.2129\n",
      "Epoch 9/100\n",
      "1000/1000 [==============================] - 1s 673us/step - loss: 4.2128\n",
      "Epoch 10/100\n",
      "1000/1000 [==============================] - 1s 668us/step - loss: 4.2110\n",
      "Epoch 11/100\n",
      "1000/1000 [==============================] - 1s 655us/step - loss: 4.2126\n",
      "Epoch 12/100\n",
      "1000/1000 [==============================] - 1s 671us/step - loss: 4.2103\n",
      "Epoch 13/100\n",
      "1000/1000 [==============================] - 1s 680us/step - loss: 4.2113\n",
      "Epoch 14/100\n",
      "1000/1000 [==============================] - 1s 691us/step - loss: 4.2097\n",
      "Epoch 15/100\n",
      "1000/1000 [==============================] - 1s 627us/step - loss: 4.2090\n",
      "Epoch 16/100\n",
      "1000/1000 [==============================] - 1s 619us/step - loss: 4.2073\n",
      "Epoch 17/100\n",
      "1000/1000 [==============================] - 1s 710us/step - loss: 4.2094\n",
      "Epoch 18/100\n",
      "1000/1000 [==============================] - 1s 759us/step - loss: 4.2079\n",
      "Epoch 19/100\n",
      "1000/1000 [==============================] - 1s 673us/step - loss: 4.2071\n",
      "Epoch 20/100\n",
      "1000/1000 [==============================] - 1s 692us/step - loss: 4.2058\n",
      "Epoch 21/100\n",
      "1000/1000 [==============================] - 1s 632us/step - loss: 4.2053\n",
      "Epoch 22/100\n",
      "1000/1000 [==============================] - 1s 621us/step - loss: 4.2068\n",
      "Epoch 23/100\n",
      "1000/1000 [==============================] - 1s 627us/step - loss: 4.2044\n",
      "Epoch 24/100\n",
      "1000/1000 [==============================] - 1s 627us/step - loss: 4.2051\n",
      "Epoch 25/100\n",
      "1000/1000 [==============================] - 1s 621us/step - loss: 4.2048\n",
      "Epoch 26/100\n",
      "1000/1000 [==============================] - 1s 628us/step - loss: 4.2076\n",
      "Epoch 27/100\n",
      "1000/1000 [==============================] - 1s 627us/step - loss: 4.2041\n",
      "Epoch 28/100\n",
      "1000/1000 [==============================] - 1s 621us/step - loss: 4.2060\n",
      "Epoch 29/100\n",
      "1000/1000 [==============================] - 1s 623us/step - loss: 4.2053\n",
      "Epoch 30/100\n",
      "1000/1000 [==============================] - 1s 639us/step - loss: 4.2046\n",
      "Epoch 31/100\n",
      "1000/1000 [==============================] - 1s 629us/step - loss: 4.2042\n",
      "Epoch 32/100\n",
      "1000/1000 [==============================] - 1s 641us/step - loss: 4.2023\n",
      "Epoch 33/100\n",
      "1000/1000 [==============================] - 1s 628us/step - loss: 4.2032\n",
      "Epoch 34/100\n",
      "1000/1000 [==============================] - 1s 630us/step - loss: 4.2028\n",
      "Epoch 35/100\n",
      "1000/1000 [==============================] - 1s 622us/step - loss: 4.2036\n",
      "Epoch 36/100\n",
      "1000/1000 [==============================] - 1s 626us/step - loss: 4.2029\n",
      "Epoch 37/100\n",
      "1000/1000 [==============================] - 1s 626us/step - loss: 4.2032\n",
      "Epoch 38/100\n",
      "1000/1000 [==============================] - 1s 623us/step - loss: 4.2025\n",
      "Epoch 39/100\n",
      "1000/1000 [==============================] - 1s 621us/step - loss: 4.2023\n",
      "Epoch 40/100\n",
      "1000/1000 [==============================] - 1s 625us/step - loss: 4.2027\n",
      "Epoch 41/100\n",
      "1000/1000 [==============================] - 1s 618us/step - loss: 4.2018\n",
      "Epoch 42/100\n",
      "1000/1000 [==============================] - 1s 618us/step - loss: 4.2035\n",
      "Epoch 43/100\n",
      "1000/1000 [==============================] - 1s 621us/step - loss: 4.2015\n",
      "Epoch 44/100\n",
      "1000/1000 [==============================] - 1s 623us/step - loss: 4.2020\n",
      "Epoch 45/100\n",
      "1000/1000 [==============================] - 1s 618us/step - loss: 4.2016\n",
      "Epoch 46/100\n",
      "1000/1000 [==============================] - 1s 613us/step - loss: 4.2000\n",
      "Epoch 47/100\n",
      "1000/1000 [==============================] - 1s 624us/step - loss: 4.2011\n",
      "Epoch 48/100\n",
      "1000/1000 [==============================] - 1s 621us/step - loss: 4.2016\n",
      "Epoch 49/100\n",
      "1000/1000 [==============================] - 1s 623us/step - loss: 4.2023\n",
      "Epoch 50/100\n",
      "1000/1000 [==============================] - 1s 622us/step - loss: 4.2010\n",
      "Epoch 51/100\n",
      "1000/1000 [==============================] - 1s 622us/step - loss: 4.2013\n",
      "Epoch 52/100\n",
      "1000/1000 [==============================] - 1s 630us/step - loss: 4.2003\n",
      "Epoch 53/100\n",
      "1000/1000 [==============================] - 1s 620us/step - loss: 4.2013\n",
      "Epoch 54/100\n",
      "1000/1000 [==============================] - 1s 615us/step - loss: 4.2017\n",
      "Epoch 55/100\n",
      "1000/1000 [==============================] - 1s 619us/step - loss: 4.2005\n",
      "Epoch 56/100\n",
      "1000/1000 [==============================] - 1s 645us/step - loss: 4.2011\n",
      "Epoch 57/100\n",
      "1000/1000 [==============================] - 1s 618us/step - loss: 4.2017\n",
      "Epoch 58/100\n",
      "1000/1000 [==============================] - 1s 621us/step - loss: 4.2006\n",
      "Epoch 59/100\n",
      "1000/1000 [==============================] - 1s 657us/step - loss: 4.2002\n",
      "Epoch 60/100\n",
      "1000/1000 [==============================] - 1s 622us/step - loss: 4.2002\n",
      "Epoch 61/100\n",
      "1000/1000 [==============================] - 1s 618us/step - loss: 4.2001\n",
      "Epoch 62/100\n",
      "1000/1000 [==============================] - 1s 692us/step - loss: 4.2001\n",
      "Epoch 63/100\n",
      "1000/1000 [==============================] - 1s 670us/step - loss: 4.2007\n",
      "Epoch 64/100\n",
      "1000/1000 [==============================] - 1s 645us/step - loss: 4.2000\n",
      "Epoch 65/100\n",
      "1000/1000 [==============================] - 1s 685us/step - loss: 4.2000\n",
      "Epoch 66/100\n",
      "1000/1000 [==============================] - 1s 691us/step - loss: 4.2012\n",
      "Epoch 67/100\n",
      "1000/1000 [==============================] - 1s 713us/step - loss: 4.1996\n",
      "Epoch 68/100\n",
      "1000/1000 [==============================] - 1s 656us/step - loss: 4.1996\n",
      "Epoch 69/100\n",
      "1000/1000 [==============================] - 1s 694us/step - loss: 4.1992\n",
      "Epoch 70/100\n",
      "1000/1000 [==============================] - 1s 648us/step - loss: 4.1984\n",
      "Epoch 71/100\n",
      "1000/1000 [==============================] - 1s 677us/step - loss: 4.2004\n",
      "Epoch 72/100\n",
      "1000/1000 [==============================] - 1s 685us/step - loss: 4.2003\n",
      "Epoch 73/100\n",
      "1000/1000 [==============================] - 1s 682us/step - loss: 4.1995\n",
      "Epoch 74/100\n",
      "1000/1000 [==============================] - 1s 630us/step - loss: 4.1984\n",
      "Epoch 75/100\n",
      "1000/1000 [==============================] - 1s 622us/step - loss: 4.1998\n",
      "Epoch 76/100\n",
      "1000/1000 [==============================] - 1s 646us/step - loss: 4.1998\n",
      "Epoch 77/100\n",
      "1000/1000 [==============================] - 1s 655us/step - loss: 4.1990\n",
      "Epoch 78/100\n",
      "1000/1000 [==============================] - 1s 667us/step - loss: 4.1991\n",
      "Epoch 79/100\n",
      "1000/1000 [==============================] - 1s 668us/step - loss: 4.1983\n",
      "Epoch 80/100\n",
      "1000/1000 [==============================] - 1s 724us/step - loss: 4.1998\n",
      "Epoch 81/100\n",
      "1000/1000 [==============================] - 1s 721us/step - loss: 4.1981\n",
      "Epoch 82/100\n",
      "1000/1000 [==============================] - 1s 617us/step - loss: 4.1993\n",
      "Epoch 83/100\n",
      "1000/1000 [==============================] - 1s 624us/step - loss: 4.1993\n",
      "Epoch 84/100\n",
      "1000/1000 [==============================] - 1s 766us/step - loss: 4.1991\n",
      "Epoch 85/100\n",
      "1000/1000 [==============================] - 1s 707us/step - loss: 4.1984\n",
      "Epoch 86/100\n",
      "1000/1000 [==============================] - 1s 714us/step - loss: 4.1986\n",
      "Epoch 87/100\n",
      "1000/1000 [==============================] - 1s 720us/step - loss: 4.1994\n",
      "Epoch 88/100\n",
      "1000/1000 [==============================] - 1s 727us/step - loss: 4.1994\n",
      "Epoch 89/100\n",
      "1000/1000 [==============================] - 1s 830us/step - loss: 4.1993\n",
      "Epoch 90/100\n",
      "1000/1000 [==============================] - 1s 724us/step - loss: 4.1991\n",
      "Epoch 91/100\n",
      "1000/1000 [==============================] - 1s 780us/step - loss: 4.1977\n",
      "Epoch 92/100\n",
      "1000/1000 [==============================] - 1s 785us/step - loss: 4.2002\n",
      "Epoch 93/100\n",
      "1000/1000 [==============================] - 1s 729us/step - loss: 4.1990\n",
      "Epoch 94/100\n",
      "1000/1000 [==============================] - 1s 705us/step - loss: 4.1976\n",
      "Epoch 95/100\n",
      "1000/1000 [==============================] - 1s 716us/step - loss: 4.1990\n",
      "Epoch 96/100\n",
      "1000/1000 [==============================] - 1s 696us/step - loss: 4.1994\n",
      "Epoch 97/100\n",
      "1000/1000 [==============================] - 1s 726us/step - loss: 4.1981\n",
      "Epoch 98/100\n",
      "1000/1000 [==============================] - 1s 696us/step - loss: 4.2000\n",
      "Epoch 99/100\n",
      "1000/1000 [==============================] - 1s 704us/step - loss: 4.1998\n",
      "Epoch 100/100\n",
      "1000/1000 [==============================] - 1s 708us/step - loss: 4.1979\n"
     ]
    },
    {
     "data": {
      "text/plain": [
       "<keras.callbacks.History at 0x17ce43373d0>"
      ]
     },
     "execution_count": 14,
     "metadata": {},
     "output_type": "execute_result"
    }
   ],
   "source": [
    "model.fit(\n",
    "    features,\n",
    "    labels,\n",
    "    epochs = 100,\n",
    "    batch_size = 90\n",
    ")"
   ]
  },
  {
   "cell_type": "code",
   "execution_count": 12,
   "metadata": {},
   "outputs": [
    {
     "name": "stdout",
     "output_type": "stream",
     "text": [
      "1/1 [==============================] - 0s 17ms/step\n"
     ]
    },
    {
     "data": {
      "text/plain": [
       "array([[25.392513, 11.774443],\n",
       "       [26.518696, 11.796934],\n",
       "       [26.880013, 11.989243],\n",
       "       [26.902248, 11.969256],\n",
       "       [24.315737, 12.031952],\n",
       "       [21.969828,  8.074538],\n",
       "       [22.758602, 11.844312],\n",
       "       [21.7036  , 11.812504],\n",
       "       [20.169083, 11.817416],\n",
       "       [18.097565,  8.102919]], dtype=float32)"
      ]
     },
     "execution_count": 12,
     "metadata": {},
     "output_type": "execute_result"
    }
   ],
   "source": [
    "model.predict(\n",
    "    features[10000:10010]\n",
    ")"
   ]
  },
  {
   "cell_type": "code",
   "execution_count": 13,
   "metadata": {},
   "outputs": [
    {
     "data": {
      "text/plain": [
       "<tf.Tensor: shape=(10, 2), dtype=float32, numpy=\n",
       "array([[25.166666, 15.8263  ],\n",
       "       [26.455555, 15.5204  ],\n",
       "       [27.422222, 15.7136  ],\n",
       "       [27.283333, 15.8263  ],\n",
       "       [24.4     , 14.9569  ],\n",
       "       [22.7     ,  9.982   ],\n",
       "       [22.594444, 15.8263  ],\n",
       "       [21.566668, 14.329   ],\n",
       "       [20.13889 , 11.5437  ],\n",
       "       [18.88889 ,  9.982   ]], dtype=float32)>"
      ]
     },
     "execution_count": 13,
     "metadata": {},
     "output_type": "execute_result"
    }
   ],
   "source": [
    "labels[10000:10010]"
   ]
  }
 ],
 "metadata": {
  "kernelspec": {
   "display_name": "Python 3.10.8 64-bit",
   "language": "python",
   "name": "python3"
  },
  "language_info": {
   "codemirror_mode": {
    "name": "ipython",
    "version": 3
   },
   "file_extension": ".py",
   "mimetype": "text/x-python",
   "name": "python",
   "nbconvert_exporter": "python",
   "pygments_lexer": "ipython3",
   "version": "3.10.8"
  },
  "orig_nbformat": 4,
  "vscode": {
   "interpreter": {
    "hash": "7042d481ae980d2e3068f9f5f7c2bff1c28c3e2868648c09a3c3e251bdbef481"
   }
  }
 },
 "nbformat": 4,
 "nbformat_minor": 2
}
