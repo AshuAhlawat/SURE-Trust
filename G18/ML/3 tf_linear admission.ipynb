{
 "cells": [
  {
   "cell_type": "code",
   "execution_count": null,
   "metadata": {},
   "outputs": [],
   "source": [
    "import tensorflow as tf\n",
    "from tensorflow.keras.utils import normalize\n",
    "from tensorflow.keras.losses import MSE\n",
    "\n",
    "import pandas as pd"
   ]
  },
  {
   "cell_type": "code",
   "execution_count": null,
   "metadata": {},
   "outputs": [],
   "source": [
    "data = pd.read_csv(\"./data/Admission_Predict_.csv\",index_col=\"Serial No.\")\n",
    "labels = data.pop(\"Chance of Admit\")\n",
    "lr = 0.001"
   ]
  },
  {
   "cell_type": "code",
   "execution_count": null,
   "metadata": {},
   "outputs": [],
   "source": [
    "features = tf.cast(tf.constant(data), dtype=tf.float32)\n",
    "\n",
    "mean = tf.cast( tf.reduce_mean(features,axis=0), dtype=tf.float32)\n",
    "std = tf.cast( tf.math.reduce_std(features,axis=0), dtype=tf.float32)\n",
    "\n",
    "features = tf.divide(tf.subtract(features , mean), std)\n",
    "\n",
    "# print(features)\n",
    "labels = tf.cast(tf.constant(labels), dtype=tf.float32)\n",
    "labels = tf.reshape(labels, shape=(-1,1))"
   ]
  },
  {
   "cell_type": "code",
   "execution_count": null,
   "metadata": {},
   "outputs": [],
   "source": [
    "weights = tf.Variable(tf.random.normal(shape=(7,1)))\n",
    "bias = tf.Variable(tf.random.normal(shape=(1,)))"
   ]
  },
  {
   "cell_type": "code",
   "execution_count": null,
   "metadata": {},
   "outputs": [],
   "source": [
    "# training loop\n",
    "for epoch in range(10000):\n",
    "\n",
    "    with tf.GradientTape() as tape:\n",
    "        preds = tf.add(features @ weights, bias)\n",
    "        loss = tf.reduce_mean(MSE(preds, labels))\n",
    "\n",
    "        grad_w, grad_b = tape.gradient(loss,[weights, bias])\n",
    "\n",
    "    if (epoch + 1)%100==0:\n",
    "        print(loss)\n",
    "    \n",
    "    weights.assign_sub(lr*grad_w)\n",
    "    bias.assign_sub(lr*grad_b)"
   ]
  },
  {
   "cell_type": "code",
   "execution_count": null,
   "metadata": {},
   "outputs": [],
   "source": [
    "def predict(feature, w,b, m=mean, s=std):\n",
    "    f = tf.cast(tf.constant([feature]), dtype=tf.float32)\n",
    "    n_f = (f - mean)/std\n",
    "    x = n_f@w + b\n",
    "    return x"
   ]
  },
  {
   "cell_type": "code",
   "execution_count": null,
   "metadata": {},
   "outputs": [],
   "source": [
    "sample = [300, 100,5,3.5,4,8,1]\n",
    "predict(sample, weights,bias)"
   ]
  }
 ],
 "metadata": {
  "kernelspec": {
   "display_name": "Python 3.10.8 64-bit",
   "language": "python",
   "name": "python3"
  },
  "language_info": {
   "codemirror_mode": {
    "name": "ipython",
    "version": 3
   },
   "file_extension": ".py",
   "mimetype": "text/x-python",
   "name": "python",
   "nbconvert_exporter": "python",
   "pygments_lexer": "ipython3",
   "version": "3.10.8"
  },
  "orig_nbformat": 4,
  "vscode": {
   "interpreter": {
    "hash": "7042d481ae980d2e3068f9f5f7c2bff1c28c3e2868648c09a3c3e251bdbef481"
   }
  }
 },
 "nbformat": 4,
 "nbformat_minor": 2
}
